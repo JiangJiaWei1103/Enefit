{
 "cells": [
  {
   "cell_type": "markdown",
   "id": "489ff8f6-7c68-4e67-b3a9-aace27f2b1fd",
   "metadata": {},
   "source": [
    "# Advanced Analysis\n",
    "\n",
    "* [ ] XGBRegreesor trained without `early_stopping` `predict()` using all trees???\n",
    "* [ ] Add hour-aware (intra-day) analysis\n",
    "    * Maybe can build hour model???"
   ]
  },
  {
   "cell_type": "code",
   "execution_count": 1,
   "id": "0730a1c4-ab63-46ae-97be-b97c1d9d7c29",
   "metadata": {
    "tags": []
   },
   "outputs": [],
   "source": [
    "import gc\n",
    "import random\n",
    "import warnings\n",
    "import pickle\n",
    "from tqdm.notebook import tqdm\n",
    "from collections import defaultdict\n",
    "from datetime import datetime, timedelta\n",
    "from pathlib import Path\n",
    "from typing import Dict, Optional, List, Tuple\n",
    "warnings.simplefilter(\"ignore\")\n",
    "\n",
    "import numpy as np\n",
    "import polars as pl\n",
    "import pandas as pd\n",
    "import matplotlib.pyplot as plt\n",
    "import seaborn as sns\n",
    "import plotly.graph_objects as go\n",
    "import plotly.express as px\n",
    "from polars.testing import assert_series_equal\n",
    "from sklearn.metrics import mean_absolute_error as mae\n",
    "\n",
    "from cv.build import TSCV\n",
    "from metadata import *\n",
    "\n",
    "pd.options.display.max_rows = None\n",
    "pd.options.display.max_columns = None\n",
    "\n",
    "OUTPUT_PATH = Path(\"./output\")\n",
    "sns.set_style(\"dark\")"
   ]
  },
  {
   "cell_type": "markdown",
   "id": "582276ab-fbb7-4b9d-9edd-512b9b424518",
   "metadata": {},
   "source": [
    "## Re-Derive CV Scores"
   ]
  },
  {
   "cell_type": "code",
   "execution_count": 2,
   "id": "d41c0efd-eebd-4ce3-9ea5-1abe0745d522",
   "metadata": {
    "tags": []
   },
   "outputs": [],
   "source": [
    "p_oof = pd.read_csv(\"./legacy/yp_oof_final.csv\")\n",
    "cc_oof = pd.read_csv(\"./legacy/ycc_oof_final.csv\")\n",
    "cb_oof = pd.read_csv(\"./legacy/ycb_oof_final.csv\")"
   ]
  },
  {
   "cell_type": "code",
   "execution_count": 3,
   "id": "750c167b-0bbb-4451-986b-4af4140e57e5",
   "metadata": {
    "tags": []
   },
   "outputs": [],
   "source": [
    "p_oof.shape, cc_oof.shape, cb_oof.shape"
   ]
  },
  {
   "cell_type": "code",
   "execution_count": 8,
   "id": "a3d2c99c-831e-4bae-9a02-8f4d1f0a59e8",
   "metadata": {
    "tags": []
   },
   "outputs": [],
   "source": [
    "y = pd.concat([cb_oof, cc_oof, p_oof], ignore_index=True, join=\"outer\")\n",
    "y.head()"
   ]
  },
  {
   "cell_type": "code",
   "execution_count": 9,
   "id": "5c4972d8-49dc-410d-9ee5-dda3e16bbaba",
   "metadata": {
    "tags": []
   },
   "outputs": [],
   "source": [
    "y[\"sub1\"] = 0\n",
    "\n",
    "p_mask = y[\"is_consumption\"] == 0\n",
    "y.loc[p_mask, \"sub1\"] = y.loc[p_mask, \"oof0_dcap_xl\"]\n",
    "cc_mask = (y[\"is_consumption\"] == 1) & (y[\"is_business\"] == 0)\n",
    "y.loc[cc_mask, \"sub1\"] = y.loc[cc_mask, \"oof0_div_xl\"]\n",
    "cb_mask = (y[\"is_consumption\"] == 1) & (y[\"is_business\"] == 1)\n",
    "y.loc[cb_mask, \"sub1\"] = y.loc[cb_mask, \"oof0_ens_xl\"]\n",
    "y[\"sub1\"].isna().sum()"
   ]
  },
  {
   "cell_type": "code",
   "execution_count": 20,
   "id": "189daa13-0ed3-48ff-ac72-d1a69f39aa2f",
   "metadata": {
    "tags": []
   },
   "outputs": [],
   "source": [
    "prfs = []\n",
    "for fold in range(3):\n",
    "    y_fold = y[y[f\"fold{fold}_eval\"] == 1]\n",
    "    prfs.append(mae(y_fold[\"target\"], y_fold[\"sub1\"]))"
   ]
  },
  {
   "cell_type": "code",
   "execution_count": 21,
   "id": "c7ad8571-ff20-44ae-b88d-7d0a0b607f18",
   "metadata": {
    "tags": []
   },
   "outputs": [],
   "source": [
    "np.mean(prfs)"
   ]
  },
  {
   "cell_type": "code",
   "execution_count": 12,
   "id": "199865c5-2211-4269-a6ba-4c2c3ff2c7b6",
   "metadata": {
    "tags": []
   },
   "outputs": [],
   "source": [
    "mae(y[\"target\"], y[\"sub1\"])"
   ]
  },
  {
   "cell_type": "code",
   "execution_count": 13,
   "id": "ac374c58-2f5d-4ec2-b9c5-03cc95c86ff6",
   "metadata": {
    "tags": []
   },
   "outputs": [],
   "source": [
    "y[\"sub2\"] = 0\n",
    "\n",
    "p_mask = y[\"is_consumption\"] == 0\n",
    "y.loc[p_mask, \"sub2\"] = y.loc[p_mask, \"oof0_dcap_xl\"]\n",
    "cc_mask = (y[\"is_consumption\"] == 1) & (y[\"is_business\"] == 0)\n",
    "y.loc[cc_mask, \"sub2\"] = y.loc[cc_mask, \"oof0_div_xl\"]\n",
    "cb_mask = (y[\"is_consumption\"] == 1) & (y[\"is_business\"] == 1)\n",
    "y.loc[cb_mask, \"sub2\"] = y.loc[cb_mask, \"oof0_ens3_xl\"]\n",
    "y[\"sub2\"].isna().sum()"
   ]
  },
  {
   "cell_type": "code",
   "execution_count": 22,
   "id": "c90dfb87-8082-4e42-b781-61d1a0f0b18e",
   "metadata": {
    "tags": []
   },
   "outputs": [],
   "source": [
    "prfs = []\n",
    "for fold in range(3):\n",
    "    y_fold = y[y[f\"fold{fold}_eval\"] == 1]\n",
    "    prfs.append(mae(y_fold[\"target\"], y_fold[\"sub2\"]))"
   ]
  },
  {
   "cell_type": "code",
   "execution_count": 23,
   "id": "4a8d397a-6ba1-49c6-aa66-70704133d53f",
   "metadata": {
    "tags": []
   },
   "outputs": [],
   "source": [
    "np.mean(prfs)"
   ]
  },
  {
   "cell_type": "code",
   "execution_count": null,
   "id": "179a7a92-7485-4a58-ac4a-7c0759a4e02a",
   "metadata": {},
   "outputs": [],
   "source": [
    "mae(y[\"target\"], y[\"sub2\"])"
   ]
  },
  {
   "cell_type": "code",
   "execution_count": null,
   "id": "b256c17c-b792-4d39-8ae1-b6c6f80606a0",
   "metadata": {},
   "outputs": [],
   "source": []
  },
  {
   "cell_type": "code",
   "execution_count": null,
   "id": "c5b018e0-d973-4f50-81c0-b25b09f21037",
   "metadata": {},
   "outputs": [],
   "source": []
  },
  {
   "cell_type": "markdown",
   "id": "9752bdf3-a171-4ed2-aed3-48a024a31f76",
   "metadata": {
    "jp-MarkdownHeadingCollapsed": true,
    "tags": []
   },
   "source": [
    "#### **Submission Quick Check**"
   ]
  },
  {
   "cell_type": "code",
   "execution_count": 2,
   "id": "9cb7d602-418f-4b02-aabe-2d0ee6492d86",
   "metadata": {
    "collapsed": true,
    "jupyter": {
     "outputs_hidden": true
    },
    "tags": []
   },
   "outputs": [],
   "source": [
    "sub_old = pd.read_csv(\"submission(14).csv\")\n",
    "sub_new = pd.read_csv(\"submission(16).csv\")\n",
    "\n",
    "fig, ax = plt.subplots(figsize=(24, 6))\n",
    "ax2 = ax.twinx()\n",
    "ax.plot(sub_old[\"target\"], \"g-\", label=\"old sub\")\n",
    "ax.plot(sub_new[\"target\"], \"r-\", label=\"new sub\")\n",
    "ax2.plot(sub_old[\"target\"] - sub_new[\"target\"], \"b-\")\n",
    "plt.show()"
   ]
  },
  {
   "cell_type": "code",
   "execution_count": null,
   "id": "41785ac9-5fd8-4a52-a1c3-bc5d674eaca9",
   "metadata": {
    "tags": []
   },
   "outputs": [],
   "source": [
    "train = pl.read_csv(\"./data/raw/train.csv\", try_parse_dates=True)\n",
    "train = train.filter(pl.col(\"datetime\") >= datetime(2023, 5, 28, 0)).rename({\"target\": \"y\"})\n",
    "train = train.join(pl.from_pandas(sub_old), on=\"row_id\", how=\"left\").rename({\"target\": \"pred_old\"})\n",
    "train = train.join(pl.from_pandas(sub_new), on=\"row_id\", how=\"left\").rename({\"target\": \"pred_new\"})\n",
    "# train = train.join(pl.from_pandas(sub_bad), on=\"row_id\", how=\"left\").rename({\"target\": \"pred_bad\"})\n",
    "train.head()"
   ]
  },
  {
   "cell_type": "code",
   "execution_count": 10,
   "id": "5bb5bc6e-adee-49f5-9e86-7e05965b7940",
   "metadata": {
    "tags": []
   },
   "outputs": [],
   "source": [
    "# Some missing fwth for hour 23, but 23 tends to have lower MAE\n",
    "fwth = pl.read_csv(\"./data/raw/forecast_weather.csv\", try_parse_dates=True)\n",
    "fwth_filt = fwth.filter((pl.col(\"hours_ahead\") >= 22) & (pl.col(\"hours_ahead\") <= 45))\n",
    "tmp = fwth_filt.group_by(\"data_block_id\").agg(pl.col(\"forecast_datetime\").max().alias(\"max_dt\"))\n",
    "tmp = tmp.with_columns(pl.col(\"max_dt\").dt.hour().alias(\"max_hour\"))\n",
    "tmp[\"max_hour\"].value_counts()"
   ]
  },
  {
   "cell_type": "code",
   "execution_count": null,
   "id": "30e06cff-33d3-4723-969b-799c7db61153",
   "metadata": {
    "tags": []
   },
   "outputs": [],
   "source": [
    "# Loacl & Kaggle alignment test\n",
    "df_local = pl.read_parquet(\"./data/processed/base_feats.parquet\")\n",
    "test_local = (\n",
    "    df_local\n",
    "    .filter(pl.col(\"datetime\") >= datetime(2023, 5, 28, 0))\n",
    "    .select(test_last_4_dts.columns)\n",
    ")\n",
    "test_last_4_dts = pl.read_csv(\"X_last_4_dt.csv\", try_parse_dates=True)\n",
    "\n",
    "fwth_feats = [c for c in test_local.columns if \"local_mean\" in c]\n",
    "a = test_local[fwth_feats]\n",
    "b = test_last_4_dts[fwth_feats]\n",
    "\n",
    "for c in fwth_feats:\n",
    "    fig, ax = plt.subplots(figsize=(25, 4))\n",
    "    ax2 = ax.twinx()\n",
    "    ax.plot(a[c], \"g-\", label=\"local\")\n",
    "    ax.plot(b[c], \"r-\", label=\"test\")\n",
    "    ax2.plot(a[c] - b[c], \"b-\", label=\"diff\")\n",
    "    ax.legend()\n",
    "    ax.set_title(c)\n",
    "    plt.show()"
   ]
  },
  {
   "cell_type": "code",
   "execution_count": null,
   "id": "53aa34aa-939d-440b-806d-9f38f8d8fda9",
   "metadata": {},
   "outputs": [],
   "source": [
    "# # Check test frame is all fine\n",
    "# cols_to_check = TGT_PK_COLS + [\"is_consumption\", \"datetime\",  \"target_lag2d\", \"installed_capacity_lag2d\"]\n",
    "# X_test_debug = pl.read_csv(\"X_test_debug(1).csv\", try_parse_dates=True).select(cols_to_check)\n",
    "# df = pl.read_parquet(\"./data/processed/base_feats.parquet\", columns=cols_to_check)\n",
    "# mask = pl.col(\"datetime\") >= datetime(2023, 5, 28, 0)\n",
    "# df_debug = df.filter(mask)\n",
    "# X_test_debug = X_test_debug.with_columns(pl.col(\"target_lag2d\").cast(pl.Float32))\n",
    "# display(X_test_debug.head(10)), display(df_debug.head(10))\n",
    "# assert_series_equal(X_test_debug[\"target_lag2d\"], df_debug[\"target_lag2d\"])"
   ]
  },
  {
   "cell_type": "markdown",
   "id": "1aa45fdd-8c4c-4997-944b-fc20ba26c61a",
   "metadata": {
    "tags": []
   },
   "source": [
    "## Load Data"
   ]
  },
  {
   "cell_type": "code",
   "execution_count": 3,
   "id": "41798abb-b9d0-4e71-ab53-59bf586ad942",
   "metadata": {
    "tags": []
   },
   "outputs": [],
   "source": [
    "df = pl.read_parquet(\"./data/processed/base_feats.parquet\")"
   ]
  },
  {
   "cell_type": "code",
   "execution_count": 4,
   "id": "8b033598-0006-4a71-9209-7d23da7da034",
   "metadata": {
    "tags": []
   },
   "outputs": [],
   "source": [
    "def _get_y_true(tgt_col: str) -> pl.DataFrame:\n",
    "    \"\"\"Return ground truth DataFrame with the specified targets.\"\"\"\n",
    "    cols_to_keep = TGT_PK_COLS + [\"is_consumption\", \"datetime\", tgt_col]\n",
    "    if tgt_col != \"target\":\n",
    "        cols_to_keep.append(\"target\")\n",
    "    \n",
    "    y_true = (\n",
    "        df\n",
    "        .select(cols_to_keep)\n",
    "        .filter(pl.col(tgt_col).is_not_null())\n",
    "    )\n",
    "    print(f\"Y true with tgt_cols {tgt_col} shape | {y_true.shape}\")\n",
    "    \n",
    "    return y_true\n",
    "\n",
    "y_true_raw = _get_y_true(\"target\")\n",
    "y_true_div = _get_y_true(\"target_div_cap_lag2d\")\n",
    "y_true_diff = _get_y_true(\"target_diff_lag2d\")"
   ]
  },
  {
   "cell_type": "markdown",
   "id": "722c1d69-fa01-4f32-aa21-9cc2c422a9a8",
   "metadata": {
    "tags": []
   },
   "source": [
    "## Load OOF Prediction"
   ]
  },
  {
   "cell_type": "code",
   "execution_count": 5,
   "id": "8ec3bb34-e829-4658-96a9-df5328281c4c",
   "metadata": {
    "tags": []
   },
   "outputs": [],
   "source": [
    "VAL_TAIL = datetime(2022, 9, 1, 0)"
   ]
  },
  {
   "cell_type": "code",
   "execution_count": 6,
   "id": "5d9a5c5c-97ad-4104-8c9e-b72aeda8174b",
   "metadata": {
    "tags": []
   },
   "outputs": [],
   "source": [
    "def _load_oof(exp_id) -> np.ndarray:\n",
    "    oof = np.load(OUTPUT_PATH / exp_id / \"preds/oof.npy\")\n",
    "    \n",
    "    return oof"
   ]
  },
  {
   "cell_type": "code",
   "execution_count": 7,
   "id": "4e6bdb68-ed45-4123-b038-4e4cedda6589",
   "metadata": {
    "tags": []
   },
   "outputs": [],
   "source": [
    "def _align_oof(\n",
    "    y_true: pl.DataFrame, \n",
    "    oofs: List[np.ndarray],\n",
    "    tscv: Optional[TSCV] = None,\n",
    ") -> pd.DataFrame:\n",
    "    for i, oof in enumerate(oofs):\n",
    "        y_true = y_true.with_columns(pl.Series(values=np.sum(oof, axis=1), name=f\"oof{i}\"))\n",
    "        # y_true = y_true.with_columns(*[\n",
    "            # pl.Series(values=oof[:, j], name=f\"oof{i}_fold{j}\") for j in range(3)\n",
    "        # ])\n",
    "    y_true = y_true.to_pandas()\n",
    "    \n",
    "    # tscv = TSCV(3, 3, 0)\n",
    "    if tscv is not None:\n",
    "        for fold, (tr_idx, val_idx) in enumerate(tscv.split(y_true, groups=y_true[\"datetime\"])):\n",
    "            y_true[f\"fold{fold}_eval\"] = 0\n",
    "            y_true.loc[val_idx, f\"fold{fold}_eval\"] = 1\n",
    "    \n",
    "    return y_true"
   ]
  },
  {
   "cell_type": "code",
   "execution_count": 8,
   "id": "8853187b-3454-4baf-940f-c942e33b45ae",
   "metadata": {
    "tags": []
   },
   "outputs": [],
   "source": [
    "def _show_gp_prf(\n",
    "    y_true, \n",
    "    tgt_col: str = \"target\",\n",
    "    n_oofs: int = 1,\n",
    "    is_cons: Optional[int] = None,\n",
    "    is_bus: Optional[int] = None\n",
    ") -> None:\n",
    "    oof_cols = [c for c in y_true.columns if \"oof\" in c]\n",
    "    \n",
    "    prfs = defaultdict(list)\n",
    "    for fold in range(3):\n",
    "        print(f\"===== Fold{fold} =====\")\n",
    "        \n",
    "        mask = y_true[f\"fold{fold}_eval\"] == 1\n",
    "        if is_cons is not None:\n",
    "            mask = mask & (y_true[\"is_consumption\"] == is_cons)\n",
    "        if is_bus is not None:\n",
    "            mask = mask & (y_true[\"is_business\"] == is_bus)\n",
    "            \n",
    "        y_fold = y_true[mask].reset_index(drop=True)\n",
    "        print(f\"Validation months | {y_fold['datetime'].dt.date.min()} ~ {y_fold['datetime'].dt.date.max()}\")\n",
    "        # for i in range(n_oofs):\n",
    "        for i, c in enumerate(oof_cols):\n",
    "            # print(f\"## OOF {i} - {c} ##\")\n",
    "            # fold_prf = y_fold.groupby([\"is_consumption\", \"is_business\"]).apply(lambda x: mae(x[tgt_col], x[f\"oof{i}\"]))\n",
    "            fold_prf = y_fold.groupby([\"is_consumption\", \"is_business\"]).apply(lambda x: mae(x[tgt_col], x[c])).to_frame(name=c)\n",
    "            # display(fold_prf)\n",
    "            # if f\"oof{i}\" not in prfs:\n",
    "            #     prfs[f\"oof{i}\"] = fold_prf\n",
    "            # else:\n",
    "            #     prfs[f\"oof{i}\"] = prfs[f\"oof{i}\"] + fold_prf\n",
    "            # if c not in prfs:\n",
    "                # prfs[c] = fold_prf\n",
    "            # else:\n",
    "                # prfs[c] = prfs[c] + fold_prf\n",
    "            prfs[f\"fold{fold}\"].append(fold_prf)\n",
    "        prfs[f\"fold{fold}\"] = pd.concat(prfs[f\"fold{fold}\"], axis=1)\n",
    "        display(prfs[f\"fold{fold}\"])\n",
    "        print()\n",
    "    \n",
    "    print(f\">>> Summary <<<\")\n",
    "    # for k, v in prfs.items():\n",
    "    #     print(f\"## {k.upper()} ##\")\n",
    "    #     display(v / 3)\n",
    "    prf_sum = (prfs[f\"fold0\"] + prfs[f\"fold1\"] + prfs[f\"fold2\"]) / 3\n",
    "    display(prf_sum)\n",
    "    \n",
    "    return prfs "
   ]
  },
  {
   "cell_type": "markdown",
   "id": "374ff44a-e92f-49a9-b294-db672dc56685",
   "metadata": {
    "jp-MarkdownHeadingCollapsed": true,
    "tags": []
   },
   "source": [
    "### *Load OOF of Currently Pinned Versions*"
   ]
  },
  {
   "cell_type": "code",
   "execution_count": 9,
   "id": "ba06953f-2d46-4f73-8971-dcff5c87bd85",
   "metadata": {
    "tags": []
   },
   "outputs": [],
   "source": [
    "def _get_oof_df(vers, lgb=False) -> pd.DataFrame:\n",
    "    ys = {}\n",
    "    for model_type, vers in vers.items():\n",
    "        if \"raw\" in model_type:\n",
    "            y_true_tmp = y_true_raw\n",
    "        elif \"diff\" in model_type:\n",
    "            if lgb:\n",
    "                y_true_tmp =y_true_raw\n",
    "            else:\n",
    "                y_true_tmp = y_true_diff\n",
    "        elif \"dcap\" in model_type or \"deic\" in model_type:\n",
    "            y_true_tmp = y_true_div\n",
    "\n",
    "        oofs = []\n",
    "        for exp_id in vers:\n",
    "            if str(exp_id).endswith(\".npy\"):\n",
    "                oofs.append(np.load(exp_id))\n",
    "            else:\n",
    "                oofs.append(_load_oof(exp_id))\n",
    "        y_tmp = _align_oof(y_true_tmp, oofs, tscv=tscv)\n",
    "\n",
    "        mask = y_tmp[\"datetime\"] >= VAL_TAIL\n",
    "        if model_type.startswith(\"p\"):\n",
    "            mask = (y_tmp[\"is_consumption\"] == 0) & mask\n",
    "        elif model_type.startswith(\"cc\"):\n",
    "            mask = (y_tmp[\"is_consumption\"] == 1) & (y_tmp[\"is_business\"] == 0) & mask\n",
    "        elif model_type.startswith(\"cb\"):\n",
    "            mask = (y_tmp[\"is_consumption\"] == 1) & (y_tmp[\"is_business\"] == 1) & mask\n",
    "        y_tmp = y_tmp[mask].reset_index(drop=True)    \n",
    "        ys[model_type.split(\"_\")[-1]] = y_tmp\n",
    "\n",
    "        del y_tmp; gc.collect()\n",
    "        \n",
    "    if \"deic\" in ys:\n",
    "        y = (\n",
    "            ys[\"diff\"]\n",
    "            .merge(ys[\"dcap\"][TGT_PK_COLS+[\"datetime\", \"oof0\"]], on=TGT_PK_COLS+[\"datetime\"], how=\"left\", suffixes=(\"_diff\", \"_dcap\"))\n",
    "            .merge(ys[\"deic\"][TGT_PK_COLS+[\"datetime\", \"oof0\"]], on=TGT_PK_COLS+[\"datetime\"], how=\"left\")\n",
    "            .rename({\"oof0\": \"oof0_deic\"}, axis=1)\n",
    "            .merge(ys[\"raw\"][TGT_PK_COLS+[\"datetime\", \"oof0\"]], on=TGT_PK_COLS+[\"datetime\"], how=\"left\")\n",
    "        )\n",
    "    else:\n",
    "        y = (\n",
    "            ys[\"diff\"]\n",
    "            .merge(ys[\"dcap\"][TGT_PK_COLS+[\"datetime\", \"oof0\"]], on=TGT_PK_COLS+[\"datetime\"], how=\"left\", suffixes=(\"_diff\", \"_dcap\"))\n",
    "            .merge(ys[\"raw\"][TGT_PK_COLS+[\"datetime\", \"oof0\"]], on=TGT_PK_COLS+[\"datetime\"], how=\"left\")\n",
    "        )\n",
    "    y = y.rename({\"oof0\": \"oof0_raw\"}, axis=1)\n",
    "    y[\"oof0_ens\"] = (y[\"oof0_raw\"] + y[\"oof0_diff\"]) / 2\n",
    "    y[\"seg\"] = (\n",
    "        y[\"county\"].astype(str).str\n",
    "        .cat(y[\"is_business\"].astype(str),  sep=\"_\").str\n",
    "        .cat(y[\"product_type\"].astype(str),  sep=\"_\")\n",
    "    )\n",
    "    \n",
    "    return y"
   ]
  },
  {
   "cell_type": "code",
   "execution_count": 10,
   "id": "d5632623-a0a8-40e0-b292-cfaec89e4776",
   "metadata": {
    "tags": []
   },
   "outputs": [],
   "source": [
    "OOF_POOL = Path(\"./output/oof_pool\")\n",
    "tscv = TSCV(3, 3, 0)"
   ]
  },
  {
   "cell_type": "code",
   "execution_count": 12,
   "id": "3ccc80cb-f418-4cb6-82a5-4bcea828e5c4",
   "metadata": {
    "tags": []
   },
   "outputs": [],
   "source": [
    "# XGB\n",
    "p_vers = {\n",
    "    # \"p_raw\": [\"0125-20_29_55\"],\n",
    "    \"p_raw\": [\"0125-20_58_47\"],  # r\n",
    "    \n",
    "    # \"p_diff\": [\"0125-20_35_11\"],\n",
    "    \"p_diff\": [\"0125-21_20_51\"],  # r\n",
    "    \n",
    "    \"p_dcap\": [\"0126-19_54_57\"],  # o\n",
    "    # \"p_dcap\": [\"0126-23_20_59\"]\n",
    "}\n",
    "yp = _get_oof_df(p_vers)\n",
    "\n",
    "# LGB\n",
    "p_vers_lgb = {\n",
    "    \"p_raw\": [OOF_POOL / \"p_raw_retr.npy\"],\n",
    "    \"p_diff\": [OOF_POOL / \"p_diff_retr.npy\"],\n",
    "    \"p_dcap\": [OOF_POOL / \"p_dcap_once.npy\"]\n",
    "}\n",
    "yp_lgb = _get_oof_df(p_vers_lgb, lgb=True)\n",
    "yp = yp.merge(yp_lgb[TGT_PK_COLS + [\"datetime\"] + [c for c in yp_lgb.columns if \"oof\" in c]], on=TGT_PK_COLS+[\"datetime\"], how=\"left\", suffixes=(\"_xgb\", \"_lgb\"))\n",
    "p_report = _show_gp_prf(yp, is_cons=0)"
   ]
  },
  {
   "cell_type": "code",
   "execution_count": 14,
   "id": "b973bf5a-7347-4a34-9a6f-fe87e682413d",
   "metadata": {
    "tags": []
   },
   "outputs": [],
   "source": [
    "cc_vers = {\n",
    "    # \"cc_raw\": [\"0125-20_02_27\"],\n",
    "    \"cc_raw\": [\"0125-21_06_23\"],  # r\n",
    "    \n",
    "    # \"cc_diff\": [\"0125-20_37_38\"],\n",
    "    \"cc_diff\": [\"0125-21_27_15\"],  # r\n",
    "    \n",
    "    # \"cc_dcap\": [\"0126-21_14_40\"],  # o (for a series of experiments, use train once) \n",
    "    \"cc_dcap\": [\"0126-23_29_35\"],  # r\n",
    "    \n",
    "    # \"cc_deic\": [\"0130-23_36_12\"],\n",
    "    \"cc_deic\": [\"0131-00_37_48\"]  # r\n",
    "}\n",
    "ycc = _get_oof_df(cc_vers)\n",
    "\n",
    "cc_vers_lgb = {\n",
    "    \"cc_raw\": [OOF_POOL / \"c_raw_retr.npy\"],\n",
    "    \"cc_diff\": [OOF_POOL / \"c_diff_retr.npy\"],\n",
    "    \"cc_dcap\": [OOF_POOL / \"cc_dcap_once.npy\"],\n",
    "    \"cc_deic\": [OOF_POOL / \"cc_deic_once.npy\"],\n",
    "}\n",
    "ycc_lgb = _get_oof_df(cc_vers_lgb, lgb=True)\n",
    "ycc = ycc.merge(ycc_lgb[TGT_PK_COLS + [\"datetime\"] + [c for c in ycc_lgb.columns if \"oof\" in c]], on=TGT_PK_COLS+[\"datetime\"], how=\"left\", suffixes=(\"_xgb\", \"_lgb\"))\n",
    "cc_report = _show_gp_prf(ycc, is_cons=1, is_bus=0)"
   ]
  },
  {
   "cell_type": "code",
   "execution_count": 16,
   "id": "e99c975e-217b-427f-a56a-606e7d8658f3",
   "metadata": {
    "tags": []
   },
   "outputs": [],
   "source": [
    "cb_vers = {\n",
    "    # \"cb_raw\": [\"0125-20_02_27\"],\n",
    "    \"cb_raw\": [\"0125-21_06_23\"],  # r\n",
    "    \n",
    "    # \"cb_diff\": [\"0125-20_37_38\"],\n",
    "    \"cb_diff\": [\"0125-21_27_15\"],  # r\n",
    "    \n",
    "    # \"cb_dcap\": [\"0126-21_51_22\"],  # o\n",
    "    \"cb_dcap\": [\"0126-23_38_35\"],  # r\n",
    "    \n",
    "    # \"cb_deic\": [\"0131-05_10_20\"],  # o\n",
    "    \"cb_deic\": [\"0131-05_39_36\"],  # r\n",
    "}\n",
    "ycb = _get_oof_df(cb_vers)\n",
    "\n",
    "cb_vers_lgb = {\n",
    "    \"cb_raw\": [OOF_POOL / \"c_raw_retr.npy\"],\n",
    "    \"cb_diff\": [OOF_POOL / \"c_diff_retr.npy\"],\n",
    "    \"cb_dcap\": [OOF_POOL / \"cb_dcap_once.npy\"],\n",
    "    \"cb_deic\": [OOF_POOL / \"cb_deic_once.npy\"],\n",
    "}\n",
    "ycb_lgb = _get_oof_df(cb_vers_lgb, lgb=True)\n",
    "ycb = ycb.merge(ycb_lgb[TGT_PK_COLS + [\"datetime\"] + [c for c in ycb_lgb.columns if \"oof\" in c]], on=TGT_PK_COLS+[\"datetime\"], how=\"left\", suffixes=(\"_xgb\", \"_lgb\"))\n",
    "cb_report = _show_gp_prf(ycb, is_cons=1, is_bus=1)"
   ]
  },
  {
   "cell_type": "markdown",
   "id": "939e5098-7643-4727-a933-c6e0b3445988",
   "metadata": {},
   "source": [
    "## Experimental Analysis\n",
    "1. 8-month gap quick test.\n",
    "2. Cascading or rolling (*i.e.,* use the latest 1-year data) training strategy.\n",
    "    * Determine the best selection of each model type, a trade off btw **performance** and **computational cost**.\n",
    "3. Monthly retrain or predicting 3 months at once (for each `model_type`)\n",
    "    * For private LB, we'll definitely retrain at start (*i.e.,* `CFG.retrain_at_start = True`)\n",
    "    * For those with monthly retrain, retraining models at the start of each new month\n",
    "    * For those predicting 3 months at once, only retrain at start and remain unchanged till the end."
   ]
  },
  {
   "cell_type": "markdown",
   "id": "4748447a-05d1-442e-9dd6-95a466647deb",
   "metadata": {
    "tags": []
   },
   "source": [
    "### *Monthly Retraining*"
   ]
  },
  {
   "cell_type": "code",
   "execution_count": 21,
   "id": "142c2ce0-8624-4e3f-a224-6a867eab071e",
   "metadata": {
    "tags": []
   },
   "outputs": [],
   "source": [
    "def _plot_month_prf(y, oof_names=[\"once\", \"retr\"]) -> pd.DataFrame:\n",
    "    \"\"\"Support comparison of two oofs.\"\"\"\n",
    "    oof_cols=[\"oof0\", \"oof1\"]\n",
    "    mae0 = y.groupby(\"year_month\").apply(lambda x: mae(x[\"target\"], x[oof_cols[0]])).to_frame(\"mae_once\")\n",
    "    mae1 = y.groupby(\"year_month\").apply(lambda x: mae(x[\"target\"], x[oof_cols[1]])).to_frame(\"mae_retr\")\n",
    "    mae_report = pd.concat([mae0, mae1], axis=1)\n",
    "    mae_report[\"mae_diff\"] = mae_report[\"mae_once\"] - mae_report[\"mae_retr\"]\n",
    "    mae_report = mae_report.reindex(YM_IDX)\n",
    "    \n",
    "    fig, ax = plt.subplots(figsize=(14, 4))\n",
    "    ax.plot(mae_report.index, mae_report.iloc[:, 0].values, \"g-\", label=\"Retrain at start\")\n",
    "    ax.plot(mae_report.index, mae_report.iloc[:, 1].values, \"r-\", label=\"Monthly retrain\")\n",
    "    ax2 = ax.twinx()\n",
    "    ax2.plot(mae_report.index, mae_report.iloc[:, 2].values, \"bo\", label=\"Prf Improve\")\n",
    "    for ym, diff in zip(mae_report.index, mae_report.iloc[:, 2].values):\n",
    "        ax2.annotate(f\"{diff:.4f}\", xy=(ym, diff*1.02))\n",
    "    ax.legend()\n",
    "    ax.set_title(\"Retrain at Start or Monthly Retrain for Consumption Raw Model\")\n",
    "    ax.set_xlabel(\"Year_Month\")\n",
    "    ax.set_ylabel(\"MAE\")\n",
    "    plt.tight_layout()\n",
    "    \n",
    "    return mae_report"
   ]
  },
  {
   "cell_type": "code",
   "execution_count": 12,
   "id": "1ec01095-bc17-4302-8e15-cff24019f9e0",
   "metadata": {
    "tags": []
   },
   "outputs": [],
   "source": [
    "VAL_MONTH_TAIL = datetime(2022, 9, 1, 0)\n",
    "YM_IDX = [\"2022_9\", \"2022_10\", \"2022_11\", \"2022_12\"] + [f\"2023_{M}\" for M in range(1, 6)]"
   ]
  },
  {
   "cell_type": "code",
   "execution_count": 9,
   "id": "35d1696c-bbb4-43c3-98b1-6d5e1612b1fb",
   "metadata": {
    "tags": []
   },
   "outputs": [],
   "source": [
    "p_raw_once = _load_oof(\"0125-20_29_55\")\n",
    "p_raw_retr = _load_oof(\"0125-20_58_47\")\n",
    "y = _align_oof(y_true_raw, [p_raw_once, p_raw_retr], tscv=TSCV(3, 3, 0))\n",
    "y[\"year_month\"] = y[\"datetime\"].dt.year.astype(str).str.cat(y[\"datetime\"].dt.month.astype(str), sep=\"_\")\n",
    "mask = (y[\"datetime\"] >= VAL_MONTH_TAIL) & (y[\"is_consumption\"] == 0)\n",
    "y = y[mask].reset_index(drop=True)\n",
    "_show_gp_prf(y, is_cons=0)\n",
    "p_raw_mae = _plot_month_prf(y)"
   ]
  },
  {
   "cell_type": "code",
   "execution_count": 10,
   "id": "3d64e0fb-2559-4d2e-8ff9-a6240e2054c9",
   "metadata": {
    "tags": []
   },
   "outputs": [],
   "source": [
    "p_raw_mae.T.to_csv(\"./tmp.csv\", index=False)"
   ]
  },
  {
   "cell_type": "code",
   "execution_count": 22,
   "id": "f6054780-45d6-4a12-add4-cf9eb9353f18",
   "metadata": {
    "tags": []
   },
   "outputs": [],
   "source": [
    "c_raw_once = _load_oof(\"0125-20_02_27\")\n",
    "c_raw_retr = _load_oof(\"0125-21_06_23\")\n",
    "y = _align_oof(y_true_raw, [c_raw_once, c_raw_retr], tscv=TSCV(3, 3, 0))\n",
    "y[\"year_month\"] = y[\"datetime\"].dt.year.astype(str).str.cat(y[\"datetime\"].dt.month.astype(str), sep=\"_\")\n",
    "mask = (y[\"datetime\"] >= VAL_MONTH_TAIL) & (y[\"is_consumption\"] == 1)\n",
    "y = y[mask].reset_index(drop=True)\n",
    "_show_gp_prf(y, is_cons=1)\n",
    "c_raw_mae = _plot_month_prf(y)"
   ]
  },
  {
   "cell_type": "code",
   "execution_count": 13,
   "id": "4f980917-ba1e-472d-8d85-e5db6705f5ac",
   "metadata": {
    "collapsed": true,
    "jupyter": {
     "outputs_hidden": true
    },
    "tags": []
   },
   "outputs": [],
   "source": [
    "c_raw_mae.T.to_csv(\"tmp.csv\", index=False)"
   ]
  },
  {
   "cell_type": "code",
   "execution_count": 13,
   "id": "833b8817-2b32-4e36-9e57-69f8153a2d72",
   "metadata": {
    "tags": []
   },
   "outputs": [],
   "source": [
    "p_diff_once = _load_oof(\"0125-20_35_11\")\n",
    "p_diff_retr = _load_oof(\"0125-21_20_51\")\n",
    "y = _align_oof(y_true_diff, [p_diff_once, p_diff_retr], tscv=TSCV(3, 3, 0))\n",
    "y[\"year_month\"] = y[\"datetime\"].dt.year.astype(str).str.cat(y[\"datetime\"].dt.month.astype(str), sep=\"_\")\n",
    "mask = (y[\"datetime\"] >= VAL_MONTH_TAIL) & (y[\"is_consumption\"] == 0)\n",
    "y = y[mask].reset_index(drop=True)\n",
    "_show_gp_prf(y, is_cons=0)\n",
    "p_diff_mae = _plot_month_prf(y)"
   ]
  },
  {
   "cell_type": "code",
   "execution_count": 14,
   "id": "3b47ac13-7ec5-482b-b8d7-736758e8eb21",
   "metadata": {
    "tags": []
   },
   "outputs": [],
   "source": [
    "p_diff_mae.T.to_csv(\"tmp.csv\", index=False)"
   ]
  },
  {
   "cell_type": "code",
   "execution_count": 17,
   "id": "1f4f83eb-4d93-4e5b-9772-2fd4ade46b79",
   "metadata": {
    "tags": []
   },
   "outputs": [],
   "source": [
    "c_diff_once = _load_oof(\"0125-20_37_38\")\n",
    "c_diff_retr = _load_oof(\"0125-21_27_15\")\n",
    "y = _align_oof(y_true_diff, [c_diff_once, c_diff_retr], tscv=TSCV(3, 3, 0))\n",
    "y[\"year_month\"] = y[\"datetime\"].dt.year.astype(str).str.cat(y[\"datetime\"].dt.month.astype(str), sep=\"_\")\n",
    "mask = (y[\"datetime\"] >= VAL_MONTH_TAIL) & (y[\"is_consumption\"] == 1)\n",
    "y = y[mask].reset_index(drop=True)\n",
    "_show_gp_prf(y, is_cons=1)\n",
    "c_diff_mae = _plot_month_prf(y)"
   ]
  },
  {
   "cell_type": "code",
   "execution_count": 18,
   "id": "3ea0df9d-ad39-4bc9-958b-8ff7e763d9fb",
   "metadata": {
    "tags": []
   },
   "outputs": [],
   "source": [
    "c_diff_mae.T.to_csv(\"tmp.csv\", index=False)"
   ]
  },
  {
   "cell_type": "code",
   "execution_count": 17,
   "id": "5f206bc7-c60f-4302-ab11-f646dcb63333",
   "metadata": {
    "tags": []
   },
   "outputs": [],
   "source": [
    "p_dcap_once = _load_oof(\"0126-19_54_57\")\n",
    "p_dcap_retr = _load_oof(\"0126-23_20_59\")\n",
    "y = _align_oof(y_true_div, [p_dcap_once, p_dcap_retr], tscv=TSCV(3, 3, 0))\n",
    "y[\"year_month\"] = y[\"datetime\"].dt.year.astype(str).str.cat(y[\"datetime\"].dt.month.astype(str), sep=\"_\")\n",
    "mask = (y[\"datetime\"] >= VAL_MONTH_TAIL) & (y[\"is_consumption\"] == 0)\n",
    "y = y[mask].reset_index(drop=True)\n",
    "_show_gp_prf(y, is_cons=0)\n",
    "p_div_mae = _plot_month_prf(y)"
   ]
  },
  {
   "cell_type": "code",
   "execution_count": 18,
   "id": "71fb1715-fba7-417e-90c0-9d6fbd734ab2",
   "metadata": {
    "tags": []
   },
   "outputs": [],
   "source": [
    "p_div_mae.T.to_csv(\"tmp.csv\",index=False)"
   ]
  },
  {
   "cell_type": "code",
   "execution_count": 15,
   "id": "0ce8b0f5-ecce-4f5a-92ac-bfeede54f322",
   "metadata": {
    "tags": []
   },
   "outputs": [],
   "source": [
    "cc_dcap_once = _load_oof(\"0126-21_14_40\")\n",
    "cc_dcap_retr = _load_oof(\"0126-23_29_35\")\n",
    "y = _align_oof(y_true_div, [cc_dcap_once, cc_dcap_retr], tscv=TSCV(3, 3, 0))\n",
    "y[\"year_month\"] = y[\"datetime\"].dt.year.astype(str).str.cat(y[\"datetime\"].dt.month.astype(str), sep=\"_\")\n",
    "mask = (y[\"datetime\"] >= VAL_MONTH_TAIL) & (y[\"is_consumption\"] == 1) & (y[\"is_business\"] == 0)\n",
    "y = y[mask].reset_index(drop=True)\n",
    "_show_gp_prf(y, is_cons=1, is_bus=0)\n",
    "cc_div_mae = _plot_month_prf(y)"
   ]
  },
  {
   "cell_type": "code",
   "execution_count": 16,
   "id": "408c9e05-db89-4db8-aec9-f750b1deef35",
   "metadata": {
    "tags": []
   },
   "outputs": [],
   "source": [
    "cc_div_mae.T.to_csv(\"tmp.csv\",index=False)"
   ]
  },
  {
   "cell_type": "code",
   "execution_count": 13,
   "id": "0d37ea75-621b-48ee-b149-55129af3f808",
   "metadata": {
    "tags": []
   },
   "outputs": [],
   "source": [
    "cb_dcap_once = _load_oof(\"0126-21_51_22\")\n",
    "cb_dcap_retr = _load_oof(\"0126-23_38_35\")\n",
    "y = _align_oof(y_true_div, [cb_dcap_once, cb_dcap_retr], tscv=TSCV(3, 3, 0))\n",
    "y[\"year_month\"] = y[\"datetime\"].dt.year.astype(str).str.cat(y[\"datetime\"].dt.month.astype(str), sep=\"_\")\n",
    "mask = (y[\"datetime\"] >= VAL_MONTH_TAIL) & (y[\"is_consumption\"] == 1) & (y[\"is_business\"] == 1)\n",
    "y = y[mask].reset_index(drop=True)\n",
    "_show_gp_prf(y, is_cons=1, is_bus=1)\n",
    "cb_div_mae = _plot_month_prf(y)"
   ]
  },
  {
   "cell_type": "code",
   "execution_count": 14,
   "id": "cd8f2c33-80fd-4954-96d8-7dd7c99b755a",
   "metadata": {
    "tags": []
   },
   "outputs": [],
   "source": [
    "cb_div_mae.T.to_csv(\"tmp.csv\",index=False)"
   ]
  },
  {
   "cell_type": "code",
   "execution_count": 69,
   "id": "19407987-c709-4672-9932-ab1170d4ece4",
   "metadata": {
    "tags": []
   },
   "outputs": [],
   "source": [
    "cc_dcap_once = _load_oof(\"0130-23_36_12\")\n",
    "cc_dcap_retr = _load_oof(\"0131-00_37_48\")\n",
    "y = _align_oof(y_true_div, [cc_dcap_once, cc_dcap_retr], tscv=TSCV(3, 3, 0))\n",
    "y[\"year_month\"] = y[\"datetime\"].dt.year.astype(str).str.cat(y[\"datetime\"].dt.month.astype(str), sep=\"_\")\n",
    "mask = (y[\"datetime\"] >= VAL_MONTH_TAIL) & (y[\"is_consumption\"] == 1) & (y[\"is_business\"] == 0)\n",
    "y = y[mask].reset_index(drop=True)\n",
    "_show_gp_prf(y, is_cons=1, is_bus=0)\n",
    "cc_div_mae = _plot_month_prf(y)"
   ]
  },
  {
   "cell_type": "code",
   "execution_count": 24,
   "id": "a2efed2e-26a1-456a-b9c6-297342f72c49",
   "metadata": {
    "collapsed": true,
    "jupyter": {
     "outputs_hidden": true
    },
    "tags": []
   },
   "outputs": [],
   "source": [
    "cc_dcap_once = _load_oof(\"0131-05_10_20\")\n",
    "cc_dcap_retr = _load_oof(\"0131-05_39_36\")\n",
    "y = _align_oof(y_true_div, [cc_dcap_once, cc_dcap_retr], tscv=TSCV(3, 3, 0))\n",
    "y[\"year_month\"] = y[\"datetime\"].dt.year.astype(str).str.cat(y[\"datetime\"].dt.month.astype(str), sep=\"_\")\n",
    "mask = (y[\"datetime\"] >= VAL_MONTH_TAIL) & (y[\"is_consumption\"] == 1) & (y[\"is_business\"] == 1)\n",
    "y = y[mask].reset_index(drop=True)\n",
    "_show_gp_prf(y, is_cons=1, is_bus=1)\n",
    "cc_div_mae = _plot_month_prf(y)"
   ]
  },
  {
   "cell_type": "code",
   "execution_count": 25,
   "id": "10990702-dc32-4d66-ad85-0ae6d1f101ee",
   "metadata": {
    "tags": []
   },
   "outputs": [],
   "source": [
    "cc_div_mae"
   ]
  },
  {
   "cell_type": "markdown",
   "id": "14d5bd82-da99-414b-bac4-0c5bc89c84c3",
   "metadata": {
    "jp-MarkdownHeadingCollapsed": true,
    "tags": []
   },
   "source": [
    "## Dynamically Select Models\n",
    "First we need to reconstruct the oof prediction DataFrame containing every predicting methods."
   ]
  },
  {
   "cell_type": "code",
   "execution_count": null,
   "id": "09aba595-0c37-48e7-986e-b2a25423fefb",
   "metadata": {},
   "outputs": [],
   "source": [
    "#用2023.3 - 2023.5作為test data\n",
    "df_prediction['dataset'] = 'train'\n",
    "df_prediction.loc[df_prediction['datetime']>'2023-03-01', 'dataset'] = 'test'\n",
    "\n",
    "# 初始化target_pred_dynamic: 除了cons_b為ensemble_raw_diff target, 其他都是div_cap target\n",
    "df_prediction['target_pred_dynamic'] = df_prediction['target_pred_norm_xl']\n",
    "df_prediction.loc[(df_prediction['is_consumption']==1)&(df_prediction['is_business']==1), 'target_pred_dynamic'] = df_prediction.loc[(df_prediction['is_consumption']==1)&(df_prediction['is_business']==1), 'target_pred_raw_diff_xl']\n",
    "\n",
    "# 以下為對非train dataset進行逐日測試(意即用2023的3到5月做測試)\n",
    "# target_ensemble_raw_diff和mae_raw_diff_xl只會用來比較模型誤差, 但不會用來做二次ensemble(有測試過納入後誤差變大)\n",
    "for date in tqdm(df_prediction[df_prediction['dataset']!='train']['date'].unique()): \n",
    "    revealed_date = date - timedelta(days = 2) #最新revealed data的日期(兩天前)\n",
    "    \n",
    "########### dynamic: production #########\n",
    "    df_history = df_prediction[(df_prediction['is_consumption']==0)&(df_prediction['date']<=revealed_date)&(df_prediction['dataset']!='train')]\n",
    "    \n",
    "    segment_mae = df_history.groupby('segment')[['mae_xl','mae_diff_xl','mae_norm_xl','mae_raw_diff_xl']].mean()\n",
    "    best_models = segment_mae.idxmin(axis=1)\n",
    "\n",
    "    list_whole_model = list(best_models[best_models=='mae_xl'].index)\n",
    "    list_whole_model_diff = list(best_models[best_models=='mae_diff_xl'].index)\n",
    "    list_whole_model_norm = list(best_models[best_models=='mae_norm_xl'].index)\n",
    "\n",
    "    #進行最佳模型預測的取代 (如果diff或raw歷史預測較div_cap佳, 則用最佳的模型與div_cap作ensemble)\n",
    "    df_prediction.loc[(df_prediction['date']==date)&(df_prediction['segment'].isin(list_whole_model)), 'target_pred_dynamic'] = df_prediction.loc[(df_prediction['date']==date)&(df_prediction['segment'].isin(list_whole_model)), ['target_pred_xl','target_pred_norm_xl']].mean(axis=1)\n",
    "    df_prediction.loc[(df_prediction['date']==date)&(df_prediction['segment'].isin(list_whole_model_diff)), 'target_pred_dynamic'] = df_prediction.loc[(df_prediction['date']==date)&(df_prediction['segment'].isin(list_whole_model_diff)), ['target_pred_diff_xl','target_pred_norm_xl']].mean(axis=1)\n",
    "    #df_prediction.loc[(df_prediction['date']==date)&(df_prediction['segment'].isin(list_whole_model_norm)), 'target_pred_dynamic'] = df_prediction.loc[(df_prediction['date']==date)&(df_prediction['segment'].isin(list_whole_model_norm)), 'target_pred_norm_xl']\n",
    "    \n",
    "########### dynamic: heating #########\n",
    "    df_history = df_prediction[(df_prediction['is_consumption']==1)&(df_prediction['is_business']==0)&(df_prediction['date']<=revealed_date)&(df_prediction['dataset']!='train')]\n",
    " \n",
    "    segment_mae = df_history.groupby('segment')[['mae_xl','mae_diff_xl','mae_norm_xl','mae_raw_diff_xl']].mean()\n",
    "    best_models = segment_mae.idxmin(axis=1)\n",
    "\n",
    "    list_whole_model = list(best_models[best_models=='mae_xl'].index)\n",
    "    list_whole_model_diff = list(best_models[best_models=='mae_diff_xl'].index)\n",
    "    list_whole_model_norm = list(best_models[best_models=='mae_norm_xl'].index)\n",
    "\n",
    "    #進行最佳模型預測的取代 (如果diff或raw歷史預測較div_cap佳, 則用最佳的模型與div_cap作ensemble)\n",
    "    df_prediction.loc[(df_prediction['date']==date)&(df_prediction['segment'].isin(list_whole_model)), 'target_pred_dynamic'] = df_prediction.loc[(df_prediction['date']==date)&(df_prediction['segment'].isin(list_whole_model)), ['target_pred_xl','target_pred_norm_xl']].mean(axis=1)\n",
    "    df_prediction.loc[(df_prediction['date']==date)&(df_prediction['segment'].isin(list_whole_model_diff)), 'target_pred_dynamic'] = df_prediction.loc[(df_prediction['date']==date)&(df_prediction['segment'].isin(list_whole_model_diff)), ['target_pred_diff_xl','target_pred_norm_xl']].mean(axis=1)\n",
    "    #df_prediction.loc[(df_prediction['date']==date)&(df_prediction['segment'].isin(list_whole_model_norm)), 'target_pred_dynamic'] = df_prediction.loc[(df_prediction['date']==date)&(df_prediction['segment'].isin(list_whole_model_norm)), 'target_pred_norm_xl']\n",
    "\n",
    "########### dynamic: business #########\n",
    "    df_history = df_prediction[(df_prediction['is_consumption']==1)&(df_prediction['is_business']==1)&(df_prediction['date']<=revealed_date)&(df_prediction['dataset']!='train')]\n",
    "    \n",
    "    segment_mae = df_history.groupby('segment')[['mae_xl','mae_diff_xl','mae_norm_xl','mae_raw_diff_xl']].mean()\n",
    "    best_models = segment_mae.idxmin(axis=1)\n",
    "\n",
    "    list_whole_model = list(best_models[best_models=='mae_xl'].index)\n",
    "    list_whole_model_diff = list(best_models[best_models=='mae_diff_xl'].index)\n",
    "    list_whole_model_norm = list(best_models[best_models=='mae_norm_xl'].index)\n",
    "\n",
    "    #進行最佳模型預測的取代 (如果div_cap, diff或raw歷史預測較ensemble_raw_diff佳, 則用最佳的模型與ensemble_raw_diff作ensemble)\n",
    "    df_prediction.loc[(df_prediction['date']==date)&(df_prediction['segment'].isin(list_whole_model)), 'target_pred_dynamic'] = df_prediction.loc[(df_prediction['date']==date)&(df_prediction['segment'].isin(list_whole_model)), ['target_pred_xl','target_pred_raw_diff_xl']].mean(axis=1)\n",
    "    df_prediction.loc[(df_prediction['date']==date)&(df_prediction['segment'].isin(list_whole_model_diff)), 'target_pred_dynamic'] = df_prediction.loc[(df_prediction['date']==date)&(df_prediction['segment'].isin(list_whole_model_diff)), ['target_pred_diff_xl','target_pred_raw_diff_xl']].mean(axis=1)\n",
    "    df_prediction.loc[(df_prediction['date']==date)&(df_prediction['segment'].isin(list_whole_model_norm)), 'target_pred_dynamic'] = df_prediction.loc[(df_prediction['date']==date)&(df_prediction['segment'].isin(list_whole_model_norm)), ['target_pred_norm_xl','target_pred_raw_diff_xl']].mean(axis=1)"
   ]
  },
  {
   "cell_type": "code",
   "execution_count": 98,
   "id": "0da89b49-db93-4d2a-a05c-7b6acca928ed",
   "metadata": {
    "tags": []
   },
   "outputs": [],
   "source": [
    "yp.shape, ycc.shape, ycb.shape"
   ]
  },
  {
   "cell_type": "code",
   "execution_count": 101,
   "id": "6f3e1ea1-3e40-4899-8930-4faa820f3065",
   "metadata": {
    "tags": []
   },
   "outputs": [],
   "source": [
    "def _get_seg_mae(\n",
    "    y: pd.DataFrame,\n",
    "    pred_cols: List[str],\n",
    "    mae_cols: List[str],\n",
    ") -> pd.DataFrame:\n",
    "    for pred_col, mae_col in zip(pred_cols, mae_cols):\n",
    "        y[mae_col] = abs(y[\"target\"] - y[pred_col])\n",
    "    \n",
    "    # seg_mae = y.groupby(\"seg\")[mae_cols].mean()\n",
    "    seg_mae = y.groupby(\"seg\").apply(lambda x: _get_wt_mean(x))\n",
    "    \n",
    "    return seg_mae"
   ]
  },
  {
   "cell_type": "code",
   "execution_count": 102,
   "id": "f9eb8852-c6c7-4007-b984-05d8b1610d13",
   "metadata": {
    "tags": []
   },
   "outputs": [],
   "source": [
    "def _get_wt_mean(x):\n",
    "    a = x.groupby(\"date\")[mae_cols].mean().sort_index()\n",
    "    if len(a) == 2:\n",
    "        a = a * np.array([[0.5], [0.5]])\n",
    "    else: \n",
    "        a = a\n",
    "    return a.sum()"
   ]
  },
  {
   "cell_type": "code",
   "execution_count": 133,
   "id": "1893bfd8-7e91-43a2-98c5-4b84d65efc61",
   "metadata": {
    "tags": []
   },
   "outputs": [],
   "source": [
    "for seg, gp in y_fold_pred_long.groupby(\"seg\"):\n",
    "    a = gp.groupby(\"date\")[mae_cols].mean().sort_index()\n",
    "    print(a)\n",
    "    a = a * np.array([[0.3], [0.7]])\n",
    "    print(a)\n",
    "    print(a.sum())\n",
    "    break"
   ]
  },
  {
   "cell_type": "code",
   "execution_count": 129,
   "id": "aefd1678-530e-41d9-8156-d4bcb42905fb",
   "metadata": {
    "tags": []
   },
   "outputs": [],
   "source": [
    "y = ycb"
   ]
  },
  {
   "cell_type": "code",
   "execution_count": 130,
   "id": "d359bb6d-ed8f-47f3-be88-7598d2f059b9",
   "metadata": {
    "tags": []
   },
   "outputs": [],
   "source": [
    "y.head(1)"
   ]
  },
  {
   "cell_type": "code",
   "execution_count": 131,
   "id": "f6bd4902-420c-4134-bae7-beda41c73c6d",
   "metadata": {
    "tags": []
   },
   "outputs": [],
   "source": [
    "# oof_cands = [c for c in y.columns if \"oof\" in c and \"xl\" in c]\n",
    "base_col = \"oof0_ens_xl\"\n",
    "oof_cands = [base_col] + [\"oof0_dcap_xl\", \"oof0_ens2_xl\"]  # dynamic ens2 for cons_b\n",
    "mae_cols = [f\"mae_{c}\" for c in oof_cands]\n",
    "oof_cands, mae_cols"
   ]
  },
  {
   "attachments": {
    "f55d35a6-360a-4a0c-8496-e6fb2ad7d18e.png": {
     "image/png": "[encoded data removed]"
    }
   },
   "cell_type": "markdown",
   "id": "e3fde728-fa19-4964-ae38-3df875bd875e",
   "metadata": {},
   "source": [
    "### *Dynamic Ensemble*\n",
    "1. p still fails to improve...\n",
    "2. cc improves only a little bit...\n",
    "\n",
    "![Screenshot 2024-01-30 at 9.59.29 PM.png](attachment:f55d35a6-360a-4a0c-8496-e6fb2ad7d18e.png)\n",
    "\n",
    "3. "
   ]
  },
  {
   "cell_type": "code",
   "execution_count": 133,
   "id": "8520e6f1-1298-4b12-982b-9148c115fab9",
   "metadata": {
    "tags": []
   },
   "outputs": [],
   "source": [
    "for fold in range(3):\n",
    "    y_fold = y[y[f\"fold{fold}_eval\"] == 1].reset_index(drop=True)\n",
    "    y_fold_pred = y_fold[[\"is_business\", \"seg\", \"datetime\", \"target\"] + oof_cands]\n",
    "    \n",
    "    print(f\"## Fold {fold} ##\")\n",
    "    print(f\"Val Range | {y_fold['datetime'].min()} ~ {y_fold['datetime'].max()}\")\n",
    "    \n",
    "    # Perform dynamic model switching\n",
    "    oof_dy = \"oof0_dy\"\n",
    "    y_fold_pred[\"date\"] = y_fold_pred[\"datetime\"].dt.date\n",
    "    y_fold_pred[oof_dy] = np.zeros((len(y_fold_pred), ))\n",
    "\n",
    "    for i, (dt, gp) in tqdm(enumerate(y_fold_pred.groupby(\"date\")), total=y_fold_pred[\"date\"].nunique()):\n",
    "        if i < 2: continue\n",
    "        # if i < 7: continue\n",
    "\n",
    "        # Compute segment-wise MAE\n",
    "        dt_lag2d = dt - timedelta(days=2)\n",
    "        # dt_lag7d = dt - timedelta(days=7)\n",
    "        y_fold_pred_long = y_fold_pred[y_fold_pred[\"date\"] <= dt_lag2d]\n",
    "        # y_fold_pred_long = y_fold_pred[y_fold_pred[\"date\"] == dt_lag7d]\n",
    "        # y_fold_pred_long = y_fold_pred[y_fold_pred[\"date\"].isin([dt_lag2d, dt_lag7d])]\n",
    "        \n",
    "        seg_mae = _get_seg_mae(y_fold_pred_long, oof_cands, mae_cols)\n",
    "\n",
    "        # Perform dynamic model switching\n",
    "        dt_mask = (y_fold_pred[\"date\"] == dt)\n",
    "        # y_fold_pred.loc[dt_mask, oof_dy] = y_fold_pred.loc[dt_mask, base_col]  # Dcap as base for prod\n",
    "        # y_fold_pred.loc[dt_mask, oof_dy] = y_fold_pred.loc[dt_mask, base_col]  # Ens of dcap & deic as base for cons_c\n",
    "        y_fold_pred.loc[dt_mask, oof_dy] = y_fold_pred.loc[dt_mask, base_col]  # Ens of raw & diff as base for cons_b\n",
    "        \n",
    "        # == Retrieve directly ==\n",
    "        best_model_types = seg_mae.idxmin(axis=1)\n",
    "        # seg_mae[\"mae_oof0_raw\"] = seg_mae[\"mae_oof0_raw\"] * 2  # Raw performs the worst, raise its selection condition\n",
    "        # best_model_types = seg_mae.idxmin(axis=1)\n",
    "        # seg_mae[\"mae_oof0_dcap\"] = seg_mae[\"mae_oof0_dcap\"] * 1.15\n",
    "        # best_model_types = seg_mae.idxmin(axis=1)\n",
    "        \n",
    "        # Start replacing\n",
    "        for c in mae_cols:\n",
    "            # if \"dcap\" in c: continue\n",
    "            # if \"div\" in c: continue\n",
    "            if c != \"oof0_dcap_xl\": continue\n",
    "            slc_seg_list = best_model_types[best_model_types == c].index.tolist()\n",
    "            mask = y_fold_pred[\"seg\"].isin(slc_seg_list) & dt_mask\n",
    "            if len(mask) > 0:\n",
    "                # y_fold_pred.loc[mask, oof_dy] = y_fold_pred.loc[mask, [base_col, c.replace(\"mae_\", \"\")]].sum(axis=1) / 2\n",
    "                tmp = y_fold_pred.loc[mask, base_col] * 2\n",
    "                y_fold_pred.loc[mask, oof_dy] = (tmp + y_fold_pred.loc[mask, c.replace(\"mae_\", \"\")].sum(axis=1)) / 3\n",
    "\n",
    "    dt_start = y_fold_pred[\"date\"].min() + timedelta(days=2)\n",
    "    # dt_start = y_fold_pred[\"date\"].min() + timedelta(days=7)\n",
    "    y_fold_pred = y_fold_pred[y_fold_pred[\"date\"] >= dt_start].reset_index(drop=True)\n",
    "\n",
    "    y_fold_pred[\"month\"] = y_fold_pred[\"datetime\"].dt.month\n",
    "    b = []\n",
    "    for i, c in enumerate(oof_cands + [oof_dy]):\n",
    "        # print(f\"== {c} ==-\")\n",
    "        # a = y_fold_pred.groupby([\"month\", \"is_business\"]).apply(lambda x: mae(x[\"target\"], x[c])).to_frame(name=c)\n",
    "        a = y_fold_pred.groupby([\"month\"]).apply(lambda x: mae(x[\"target\"], x[c])).to_frame(name=c)\n",
    "        b.append(a)\n",
    "        \n",
    "    display(pd.concat(b, axis=1))\n",
    "        # print(f\"    >> {c:<16}: {mae(y_fold_pred['target'], y_fold_pred[c]):.4f}\")\n",
    "    # print(f\"=> Dynamic OOF: {mae(y_fold_pred['target'], y_fold_pred[oof_dy]):.4f}\")  "
   ]
  },
  {
   "cell_type": "markdown",
   "id": "b514f50a-b868-4786-8911-66861911f673",
   "metadata": {},
   "source": [
    "> Why `dcap` is good at 10 and 11 and how to leverage???\n",
    "\n",
    "1. Observe one `target` abruptly shirnks, and `dcap` can respond faster than `ens` of `raw` and `diff`."
   ]
  },
  {
   "cell_type": "code",
   "execution_count": null,
   "id": "92105bd3-4648-4e54-9258-5ef371797551",
   "metadata": {
    "collapsed": true,
    "jupyter": {
     "outputs_hidden": true
    },
    "tags": []
   },
   "outputs": [],
   "source": [
    "for pks, gp in ycb.groupby(\"seg\"):\n",
    "    gp = gp.sort_values(\"datetime\")\n",
    "    gp = gp[gp[\"datetime\"] >= datetime(2022, 9, 1, 0)].reset_index(drop=True)\n",
    "    fig = go.Figure()\n",
    "    for col in [\"target\", \"oof0_raw\", \"oof0_diff\", \"oof0_ens\", \"oof0_dcap\"]:\n",
    "        fig.add_trace(go.Scatter(x=gp[\"datetime\"], y=gp[col], name=col))\n",
    "    fig.update_layout(title=f\"{pks}\")\n",
    "    fig.show()"
   ]
  },
  {
   "cell_type": "code",
   "execution_count": 152,
   "id": "c6c87155-1f62-4251-bf84-1570062b2ad9",
   "metadata": {
    "tags": []
   },
   "outputs": [],
   "source": [
    "ycb.head(1)"
   ]
  },
  {
   "cell_type": "code",
   "execution_count": 151,
   "id": "e0b8546a-55d8-427e-8c69-9052288181f0",
   "metadata": {
    "tags": []
   },
   "outputs": [],
   "source": [
    "with open(\"./data/processed/feats/v5_cc_dcap.pkl\", \"rb\") as f:\n",
    "    feats = pickle.load(f)\n",
    "len(feats)"
   ]
  },
  {
   "cell_type": "code",
   "execution_count": 108,
   "id": "1c7799b0-dcb5-4ae3-ab02-fc39bacbd736",
   "metadata": {
    "tags": []
   },
   "outputs": [],
   "source": [
    "a = pd.DataFrame([[1, 2], [3, 4], [5, 6]])\n",
    "a"
   ]
  },
  {
   "cell_type": "code",
   "execution_count": 110,
   "id": "c8844a34-03e8-42f4-9d79-2128bed4603b",
   "metadata": {
    "tags": []
   },
   "outputs": [],
   "source": []
  },
  {
   "cell_type": "code",
   "execution_count": null,
   "id": "dff0d447-0d17-41fb-afeb-b13911cd7054",
   "metadata": {},
   "outputs": [],
   "source": []
  },
  {
   "cell_type": "code",
   "execution_count": null,
   "id": "595e15ce-c8a8-4efe-aeed-9f2925cb8a18",
   "metadata": {},
   "outputs": [],
   "source": []
  },
  {
   "cell_type": "markdown",
   "id": "b6417f8b-6d3b-4df0-8ab3-cc988021a1a5",
   "metadata": {
    "jp-MarkdownHeadingCollapsed": true,
    "tags": []
   },
   "source": [
    "## Final Feature Selection - Element-Wise Reduction\n",
    "1. Reduce those with least importances based on **3-fold agreement** strategy\n",
    "2. Combine with some intuition"
   ]
  },
  {
   "cell_type": "code",
   "execution_count": 17,
   "id": "e049001b-c6e8-446c-8fe7-c94e5a8bffcd",
   "metadata": {
    "collapsed": true,
    "jupyter": {
     "outputs_hidden": true
    },
    "tags": []
   },
   "outputs": [],
   "source": [
    "with open(\"./data/processed/feats/v47_study.pkl\", \"rb\") as f:\n",
    "    feats = pickle.load(f)\n",
    "feats"
   ]
  },
  {
   "cell_type": "code",
   "execution_count": 18,
   "id": "b05a7ee8-46f0-4839-a54f-c3d156a5c899",
   "metadata": {
    "tags": []
   },
   "outputs": [],
   "source": [
    "with open(\"./data/processed/feats/v39_study.pkl\", \"rb\") as f:\n",
    "    feats2 = pickle.load(f)\n",
    "set(feats2).difference(set(feats))"
   ]
  },
  {
   "cell_type": "markdown",
   "id": "99837bf2-3999-46a9-842f-0d0c9853adfb",
   "metadata": {
    "jp-MarkdownHeadingCollapsed": true,
    "tags": []
   },
   "source": [
    "### *`c_raw`*\n",
    "For models `c_raw` and `c_diff`."
   ]
  },
  {
   "cell_type": "code",
   "execution_count": 20,
   "id": "30c6ac0e-4353-4ea8-8b75-cc4f2ce0260e",
   "metadata": {
    "collapsed": true,
    "jupyter": {
     "outputs_hidden": true
    },
    "tags": []
   },
   "outputs": [],
   "source": [
    "tid_feats = ['quarter', 'month', 'day', 'weekday', 'hour', 'dayofyear']\n",
    "feats = (\n",
    "    TGT_PK_COLS\n",
    "    + tid_feats\n",
    "    + [\"is_country_holiday\"]\n",
    "    + [f\"target_lag{d}d_prod\" for d in range(2, 8)]\n",
    "    + [f\"target_lag{d}d_cons\" for d in range(2, 8)]\n",
    "    + [c for c in df.columns if \"target_ratio\" in c]\n",
    "    + [c for c in df.columns if c.endswith(\"_local_mean\") or c.endswith(\"_global_mean\")]\n",
    "    + [c for c in df.columns if c.endswith(f\"_local_mean_hist_lag7d\")]\n",
    "    + [\"eic_count_lag2d\"]\n",
    ")\n",
    "print(f\"Feature set (# = {len(feats)}):\", feats)\n",
    "\n",
    "with open(\"./data/processed/feats/v1_c_raw.pkl\", \"wb\") as f:\n",
    "    pickle.dump(feats, f)"
   ]
  },
  {
   "cell_type": "code",
   "execution_count": 42,
   "id": "0d2236db-8a4e-40cc-a31c-3e821554f4dd",
   "metadata": {
    "tags": []
   },
   "outputs": [],
   "source": [
    "feats = (\n",
    "    TGT_PK_COLS\n",
    "    + tid_feats\n",
    "    + [\"is_country_holiday\"]\n",
    "    + [f\"target_lag{d}d_prod\" for d in range(2, 8)]\n",
    "    + [f\"target_lag{d}d_cons\" for d in range(2, 8)]\n",
    "    + [f\"target_ratio_lag{d}to{d+7}_cons\" for d in [2, 3, 4, 7]]\n",
    "    + [c for c in df.columns if c.endswith(\"_local_mean\") or c.endswith(\"_global_mean\")]\n",
    "    + ['temperature_local_mean_hist_lag7d',\n",
    "       'dewpoint_local_mean_hist_lag7d',\n",
    "       'rain_local_mean_hist_lag7d',\n",
    "       'snowfall_local_mean_hist_lag7d',\n",
    "       'surface_pressure_local_mean_hist_lag7d',\n",
    "       'cloudcover_total_local_mean_hist_lag7d',\n",
    "       'windspeed_10m_local_mean_hist_lag7d',\n",
    "       'winddirection_10m_local_mean_hist_lag7d',\n",
    "       'shortwave_radiation_local_mean_hist_lag7d',\n",
    "       'direct_solar_radiation_local_mean_hist_lag7d',\n",
    "       'diffuse_radiation_local_mean_hist_lag7d']\n",
    "    + [\"eic_count_lag2d\"]\n",
    ")\n",
    "print(f\"Feature set (# = {len(feats)}):\", feats)\n",
    "\n",
    "with open(\"./data/processed/feats/v2_c_raw.pkl\", \"wb\") as f:\n",
    "    pickle.dump(feats, f)"
   ]
  },
  {
   "cell_type": "code",
   "execution_count": 53,
   "id": "91e6f7f1-ecb6-4470-b193-b76957bda429",
   "metadata": {
    "tags": []
   },
   "outputs": [],
   "source": [
    "fwth_feats = [\"temperature\", \"dewpoint\", \"cloudcover_low\", \"cloudcover_total\", \n",
    "              \"direct_solar_radiation\", \"surface_solar_radiation_downwards\", \"snowfall\", \"total_precipitation\"]\n",
    "feats = (\n",
    "    TGT_PK_COLS\n",
    "    + tid_feats\n",
    "    + [\"is_country_holiday\"]\n",
    "    + [f\"target_lag{d}d_prod\" for d in range(2, 8)]\n",
    "    + [f\"target_lag{d}d_cons\" for d in range(2, 8)]\n",
    "    + [f\"target_ratio_lag{d}to{d+7}_cons\" for d in [2, 3, 4, 7]]\n",
    "    + [f\"{c}_local_mean\" for c in fwth_feats]\n",
    "    + [f\"{c}_global_mean\" for c in fwth_feats]\n",
    "    + ['temperature_local_mean_hist_lag7d',\n",
    "       'dewpoint_local_mean_hist_lag7d',\n",
    "       'rain_local_mean_hist_lag7d',\n",
    "       'snowfall_local_mean_hist_lag7d',\n",
    "       'surface_pressure_local_mean_hist_lag7d',\n",
    "       'cloudcover_total_local_mean_hist_lag7d',\n",
    "       'windspeed_10m_local_mean_hist_lag7d',\n",
    "       'winddirection_10m_local_mean_hist_lag7d',\n",
    "       'shortwave_radiation_local_mean_hist_lag7d',\n",
    "       'direct_solar_radiation_local_mean_hist_lag7d',\n",
    "       'diffuse_radiation_local_mean_hist_lag7d']\n",
    "    + [\"eic_count_lag2d\"]\n",
    ")\n",
    "print(f\"Feature set (# = {len(feats)}):\", feats)\n",
    "\n",
    "with open(\"./data/processed/feats/v3_c_raw.pkl\", \"wb\") as f:\n",
    "    pickle.dump(feats, f)"
   ]
  },
  {
   "cell_type": "code",
   "execution_count": 57,
   "id": "aaea7a29-7881-4efd-be7e-5aad2dfe05f1",
   "metadata": {
    "tags": []
   },
   "outputs": [],
   "source": [
    "fwth_feats = [\"temperature\", \"dewpoint\", \"cloudcover_low\", \n",
    "              \"direct_solar_radiation\", \"surface_solar_radiation_downwards\", \"snowfall\", \"total_precipitation\"]\n",
    "feats = (\n",
    "    TGT_PK_COLS\n",
    "    + tid_feats\n",
    "    + [\"is_country_holiday\"]\n",
    "    + [f\"target_lag{d}d_prod\" for d in range(2, 8)]\n",
    "    + [f\"target_lag{d}d_cons\" for d in range(2, 8)]\n",
    "    + [f\"target_ratio_lag{d}to{d+7}_cons\" for d in [2, 3, 4, 7]]\n",
    "    + [f\"{c}_local_mean\" for c in fwth_feats]\n",
    "    + [f\"{c}_global_mean\" for c in fwth_feats]\n",
    "    + ['temperature_local_mean_hist_lag7d',\n",
    "       'dewpoint_local_mean_hist_lag7d',\n",
    "       'rain_local_mean_hist_lag7d',\n",
    "       'surface_pressure_local_mean_hist_lag7d',\n",
    "       'cloudcover_total_local_mean_hist_lag7d',\n",
    "       'shortwave_radiation_local_mean_hist_lag7d',\n",
    "       'direct_solar_radiation_local_mean_hist_lag7d',\n",
    "       'diffuse_radiation_local_mean_hist_lag7d']\n",
    "    + [\"eic_count_lag2d\"]\n",
    ")\n",
    "print(f\"Feature set (# = {len(feats)}):\", feats)\n",
    "\n",
    "with open(\"./data/processed/feats/v4_c_raw.pkl\", \"wb\") as f:\n",
    "    pickle.dump(feats, f)"
   ]
  },
  {
   "cell_type": "code",
   "execution_count": 60,
   "id": "3c8b78c1-f000-4ff0-a33c-b953c4d0de8b",
   "metadata": {
    "tags": []
   },
   "outputs": [],
   "source": [
    "fwth_feats = [\"temperature\", \"dewpoint\", \"cloudcover_low\", \n",
    "              \"direct_solar_radiation\", \"surface_solar_radiation_downwards\", \"snowfall\", \"total_precipitation\"]\n",
    "feats = (\n",
    "    TGT_PK_COLS\n",
    "    + tid_feats\n",
    "    + [\"is_country_holiday\"]\n",
    "    + [f\"target_lag{d}d_prod\" for d in range(2, 8)]\n",
    "    + [f\"target_lag{d}d_cons\" for d in range(2, 8)]\n",
    "    + [f\"target_ratio_lag{d}to{d+7}_cons\" for d in [2, 3, 4, 7]]\n",
    "    + [f\"{c}_local_mean\" for c in fwth_feats]\n",
    "    + [f\"{c}_global_mean\" for c in fwth_feats]\n",
    "    + ['temperature_local_mean_hist_lag7d',\n",
    "       'dewpoint_local_mean_hist_lag7d',\n",
    "       'surface_pressure_local_mean_hist_lag7d',\n",
    "       'shortwave_radiation_local_mean_hist_lag7d',\n",
    "       'direct_solar_radiation_local_mean_hist_lag7d',\n",
    "       'diffuse_radiation_local_mean_hist_lag7d']\n",
    "    + [\"eic_count_lag2d\"]\n",
    ")\n",
    "print(f\"Feature set (# = {len(feats)}):\", feats)\n",
    "\n",
    "with open(\"./data/processed/feats/v5_c_raw.pkl\", \"wb\") as f:\n",
    "    pickle.dump(feats, f)"
   ]
  },
  {
   "cell_type": "code",
   "execution_count": 52,
   "id": "9628b305-e241-447f-b8b7-63d675f2616b",
   "metadata": {
    "tags": []
   },
   "outputs": [],
   "source": [
    "[c for c in df.columns if (\"_local_mean\" in c or \"_global_mean\" in c) and \"_hist_\" not in c ]"
   ]
  },
  {
   "cell_type": "markdown",
   "id": "41ee82bc-5b2c-4cf7-a4d1-767806a7f966",
   "metadata": {
    "jp-MarkdownHeadingCollapsed": true,
    "tags": []
   },
   "source": [
    "### *p_raw*\n",
    "For models `p_raw` and `p_diff`."
   ]
  },
  {
   "cell_type": "code",
   "execution_count": 65,
   "id": "f1a13441-1cce-40ea-9efe-e7f3fab1b956",
   "metadata": {
    "tags": []
   },
   "outputs": [],
   "source": [
    "fwth_feats = ['temperature', 'dewpoint', 'cloudcover_low', 'cloudcover_mid', \n",
    "              'cloudcover_total', '10_metre_u_wind_component', '10_metre_v_wind_component', 'direct_solar_radiation', \n",
    "              'surface_solar_radiation_downwards', 'total_precipitation']\n",
    "feats = (\n",
    "    TGT_PK_COLS\n",
    "    + tid_feats\n",
    "    + [f\"target_lag{d}d_prod\" for d in range(2, 8)]\n",
    "    + [f\"target_lag{d}d_cons\" for d in range(2, 8)]\n",
    "    + [f\"{c}_local_mean\" for c in fwth_feats]\n",
    "    + [f\"{c}_global_mean\" for c in fwth_feats]\n",
    "    + [\"installed_capacity_lag2d\", \"eic_count_lag2d\"]\n",
    ")\n",
    "print(f\"Feature set (# = {len(feats)}):\", feats)\n",
    "\n",
    "with open(\"./data/processed/feats/v1_p_raw.pkl\", \"wb\") as f:\n",
    "    pickle.dump(feats, f)"
   ]
  },
  {
   "cell_type": "code",
   "execution_count": 67,
   "id": "a0b94fc3-beb4-4506-91f6-d7afc4fded9c",
   "metadata": {
    "tags": []
   },
   "outputs": [],
   "source": [
    "lfwth_feats = ['temperature', 'cloudcover_low', 'cloudcover_mid', \n",
    "              'cloudcover_total', '10_metre_u_wind_component', 'direct_solar_radiation', \n",
    "              'surface_solar_radiation_downwards', 'total_precipitation']\n",
    "gfwth_feats = ['temperature', 'dewpoint', 'cloudcover_low', 'cloudcover_mid', \n",
    "              'cloudcover_total', '10_metre_u_wind_component', '10_metre_v_wind_component', 'direct_solar_radiation', \n",
    "              'surface_solar_radiation_downwards', 'total_precipitation']\n",
    "feats = (\n",
    "    TGT_PK_COLS\n",
    "    + tid_feats\n",
    "    + [f\"target_lag{d}d_prod\" for d in range(2, 8)]\n",
    "    + [f\"target_lag{d}d_cons\" for d in range(2, 8)]\n",
    "    + [f\"{c}_local_mean\" for c in lfwth_feats]\n",
    "    + [f\"{c}_global_mean\" for c in gfwth_feats]\n",
    "    + [\"installed_capacity_lag2d\", \"eic_count_lag2d\"]\n",
    ")\n",
    "print(f\"Feature set (# = {len(feats)}):\", feats)\n",
    "\n",
    "with open(\"./data/processed/feats/v2_p_raw.pkl\", \"wb\") as f:\n",
    "    pickle.dump(feats, f)"
   ]
  },
  {
   "cell_type": "code",
   "execution_count": 70,
   "id": "01e27518-759d-4ef1-89e3-f40fbc0422c4",
   "metadata": {
    "tags": []
   },
   "outputs": [],
   "source": [
    "lfwth_feats = ['temperature', 'cloudcover_low', 'cloudcover_mid', \n",
    "              'direct_solar_radiation', \n",
    "              'surface_solar_radiation_downwards', 'total_precipitation']\n",
    "gfwth_feats = ['dewpoint', 'cloudcover_low', 'cloudcover_mid', \n",
    "              '10_metre_u_wind_component', '10_metre_v_wind_component', 'direct_solar_radiation', \n",
    "              'surface_solar_radiation_downwards', 'total_precipitation']\n",
    "feats = (\n",
    "    TGT_PK_COLS\n",
    "    + tid_feats\n",
    "    + [f\"target_lag{d}d_prod\" for d in range(2, 8)]\n",
    "    + [f\"target_lag{d}d_cons\" for d in range(2, 8)]\n",
    "    + [f\"{c}_local_mean\" for c in lfwth_feats]\n",
    "    + [f\"{c}_global_mean\" for c in gfwth_feats]\n",
    "    + [\"installed_capacity_lag2d\", \"eic_count_lag2d\"]\n",
    ")\n",
    "print(f\"Feature set (# = {len(feats)}):\", feats)\n",
    "\n",
    "with open(\"./data/processed/feats/v3_p_raw.pkl\", \"wb\") as f:\n",
    "    pickle.dump(feats, f)"
   ]
  },
  {
   "cell_type": "code",
   "execution_count": null,
   "id": "964baa78-6255-4dc2-bd96-75998a4ed434",
   "metadata": {
    "tags": []
   },
   "outputs": [],
   "source": [
    "for c in ['temperature_local_mean_hist_lag7d',\n",
    " 'dewpoint_local_mean_hist_lag7d',\n",
    " 'rain_local_mean_hist_lag7d',\n",
    " 'snowfall_local_mean_hist_lag7d',\n",
    " 'surface_pressure_local_mean_hist_lag7d',\n",
    " 'cloudcover_total_local_mean_hist_lag7d',\n",
    " 'windspeed_10m_local_mean_hist_lag7d',\n",
    " 'winddirection_10m_local_mean_hist_lag7d',\n",
    " 'shortwave_radiation_local_mean_hist_lag7d',\n",
    " 'direct_solar_radiation_local_mean_hist_lag7d',\n",
    " 'diffuse_radiation_local_mean_hist_lag7d',]:\n",
    "    a = df.select(pl.col(c) == 0).sum()\n",
    "    \n",
    "    \n",
    "    fig, ax = plt.subplots(figsize=(16, 3))\n",
    "    sns.histplot(df[c])\n",
    "    ax.set_title(f\"{c} - {a}\")\n",
    "    plt.show()"
   ]
  },
  {
   "cell_type": "code",
   "execution_count": 38,
   "id": "2f2e7747-6e6a-45e2-8f74-713d5f45b4f3",
   "metadata": {
    "tags": []
   },
   "outputs": [],
   "source": [
    "df.group_by(\"month\").agg(pl.col(\"snowfall_local_mean_hist_lag7d\").mean()).sort(\"month\")"
   ]
  },
  {
   "cell_type": "code",
   "execution_count": 64,
   "id": "bf632683-73ca-4d97-ac81-e811fd7e323f",
   "metadata": {
    "tags": []
   },
   "outputs": [],
   "source": [
    "with open(\"./data/processed/feats/v2_study.pkl\", \"rb\") as f:\n",
    "    feats = pickle.load(f)\n",
    "feats"
   ]
  },
  {
   "cell_type": "code",
   "execution_count": 18,
   "id": "99787b3e-0921-4127-8bb9-b63d7c36c035",
   "metadata": {
    "tags": []
   },
   "outputs": [],
   "source": [
    "def _plot_feat_imp(feat_imp, name) -> None:\n",
    "    # Features Importance\n",
    "    # Feature_Imp = pd.DataFrame(sorted(zip(model.feature_importances_, all_features)), columns=['Value','Feature'])\n",
    "    feat_imp.columns = [\"Feature\", \"Value\"]\n",
    "    feat_imp['Value'] = 100* (feat_imp['Value'] / feat_imp['Value'].max()) # Normalisation\n",
    "    feat_imp = feat_imp.sort_values(by='Value', ascending=False).reset_index(drop=True)\n",
    "\n",
    "    # Features Importance\n",
    "    if len(feat_imp) > 90 : plt.figure(figsize=(7, 18))\n",
    "    elif len(feat_imp) > 60 : plt.figure(figsize=(7, 15))\n",
    "    elif len(feat_imp) > 30 : plt.figure(figsize=(7, 12))\n",
    "    else :\n",
    "        plt.figure(figsize=(5, 5))\n",
    "    sns.barplot(x=\"Value\", y=\"Feature\", data=feat_imp.head(100))\n",
    "    plt.title(f'Features Importance ({name})')\n",
    "    plt.show()"
   ]
  },
  {
   "cell_type": "code",
   "execution_count": 44,
   "id": "988bae50-8651-4674-93c2-688109015402",
   "metadata": {
    "tags": []
   },
   "outputs": [],
   "source": [
    "feat_imp_p[\"feature\"].unique()"
   ]
  },
  {
   "cell_type": "code",
   "execution_count": 71,
   "id": "94a32438-68e5-4dab-9d73-87fb396d5fb3",
   "metadata": {
    "collapsed": true,
    "jupyter": {
     "outputs_hidden": true
    },
    "tags": []
   },
   "outputs": [],
   "source": [
    "feat_imp_p = pd.read_parquet(\"./output/0125-20_29_55/feat_imps.parquet\")\n",
    "for name, gp in feat_imp_p.groupby([\"fold\", \"tgt_type\"]):\n",
    "    print(f\"=== {name} ===\")\n",
    "    a = gp.sort_values(\"importance_gain\")\n",
    "    display(a.head(15))\n",
    "    # display(a.tail(15))"
   ]
  },
  {
   "cell_type": "code",
   "execution_count": 69,
   "id": "82937414-6e51-4eae-bade-b1ea23fd89eb",
   "metadata": {
    "tags": []
   },
   "outputs": [],
   "source": [
    "feat_imp = pd.read_parquet(\"output/0125-20_02_27/feat_imps.parquet\")\n",
    "feat_imp.head()"
   ]
  },
  {
   "cell_type": "code",
   "execution_count": 62,
   "id": "e2cb2d18-25a4-4c9a-9341-458e4d09c524",
   "metadata": {
    "collapsed": true,
    "jupyter": {
     "outputs_hidden": true
    },
    "tags": []
   },
   "outputs": [],
   "source": [
    "for name, gp in feat_imp.groupby([\"fold\", \"tgt_type\"]):\n",
    "    print(f\"=== {name} ===\")\n",
    "    a = gp.sort_values(\"importance_gain\")\n",
    "    display(a.head(15))\n",
    "    # display(a.tail(15))\n",
    "    \n",
    "    \n",
    "    # _plot_feat_imp(gp.iloc[:, :2], name)"
   ]
  },
  {
   "cell_type": "markdown",
   "id": "84482343-9904-42e2-9838-b7b6a8ce3310",
   "metadata": {
    "jp-MarkdownHeadingCollapsed": true,
    "tags": []
   },
   "source": [
    "### *p_dcap*"
   ]
  },
  {
   "cell_type": "code",
   "execution_count": 12,
   "id": "73f65361-60ea-4bdd-964f-fb84619b3dbb",
   "metadata": {
    "tags": []
   },
   "outputs": [],
   "source": [
    "with open(\"./data/processed/feats/v3_dcap.pkl\", \"rb\") as f:\n",
    "    feats = pickle.load(f)"
   ]
  },
  {
   "cell_type": "code",
   "execution_count": 13,
   "id": "e5b327a6-b858-4463-a912-fbbe95627334",
   "metadata": {
    "collapsed": true,
    "jupyter": {
     "outputs_hidden": true
    },
    "tags": []
   },
   "outputs": [],
   "source": [
    "feats"
   ]
  },
  {
   "cell_type": "code",
   "execution_count": 19,
   "id": "5f0c4452-6e5d-4411-8b99-560397b6aac2",
   "metadata": {
    "tags": []
   },
   "outputs": [],
   "source": [
    "tid_feats = ['quarter',\n",
    " 'month',\n",
    " 'day',\n",
    " 'weekday',\n",
    " 'hour',\n",
    " 'dayofyear']"
   ]
  },
  {
   "cell_type": "code",
   "execution_count": 24,
   "id": "addeb657-982a-49e3-b2b6-26d4ca755a18",
   "metadata": {
    "tags": []
   },
   "outputs": [],
   "source": [
    "lfwth_feats = ['dewpoint', 'cloudcover_low', 'cloudcover_mid', \n",
    "               'direct_solar_radiation', 'surface_solar_radiation_downwards', 'snowfall', 'total_precipitation',]\n",
    "gfwth_feats = ['temperature', 'dewpoint', 'cloudcover_high', 'cloudcover_low', 'cloudcover_mid', \n",
    "               '10_metre_u_wind_component', '10_metre_v_wind_component', 'direct_solar_radiation', 'surface_solar_radiation_downwards', 'snowfall', 'total_precipitation',]\n",
    "\n",
    "feats = (\n",
    "    TGT_PK_COLS\n",
    "    + tid_feats\n",
    "    + [f\"target_div_cap_lag2d_lag{d}d_prod\" for d in range(2, 8)]\n",
    "    + [f\"target_div_cap_lag2d_lag{d}d_cons\" for d in [2, 3, 5, 6, 7]]\n",
    "    + [f\"{c}_local_mean\" for c in lfwth_feats]\n",
    "    + [f\"{c}_global_mean\" for c in gfwth_feats]\n",
    ")\n",
    "print(f\"Feature set (# = {len(feats)}):\", feats)\n",
    "\n",
    "with open(\"./data/processed/feats/v1_p_dcap.pkl\", \"wb\") as f:\n",
    "    pickle.dump(feats, f)"
   ]
  },
  {
   "cell_type": "code",
   "execution_count": 27,
   "id": "9045b102-674c-4d31-95ed-033664aaa4eb",
   "metadata": {
    "tags": []
   },
   "outputs": [],
   "source": [
    "lfwth_feats = ['dewpoint', 'cloudcover_low', \n",
    "               'direct_solar_radiation', 'surface_solar_radiation_downwards', 'total_precipitation',]\n",
    "gfwth_feats = ['temperature', 'dewpoint', 'cloudcover_low', 'cloudcover_mid', \n",
    "               '10_metre_u_wind_component', 'direct_solar_radiation', 'surface_solar_radiation_downwards', 'snowfall', 'total_precipitation',]\n",
    "\n",
    "feats = (\n",
    "    TGT_PK_COLS\n",
    "    + tid_feats\n",
    "    + [f\"target_div_cap_lag2d_lag{d}d_prod\" for d in range(2, 8)]\n",
    "    + [f\"target_div_cap_lag2d_lag{d}d_cons\" for d in [2, 6, 7]]\n",
    "    + [f\"{c}_local_mean\" for c in lfwth_feats]\n",
    "    + [f\"{c}_global_mean\" for c in gfwth_feats]\n",
    ")\n",
    "print(f\"Feature set (# = {len(feats)}):\", feats)\n",
    "\n",
    "with open(\"./data/processed/feats/v2_p_dcap.pkl\", \"wb\") as f:\n",
    "    pickle.dump(feats, f)"
   ]
  },
  {
   "cell_type": "code",
   "execution_count": 12,
   "id": "a0bc65c6-04b3-4c02-815a-ca7022054b6c",
   "metadata": {
    "collapsed": true,
    "jupyter": {
     "outputs_hidden": true
    },
    "tags": []
   },
   "outputs": [],
   "source": [
    "p_dcap = _load_oof(\"0126-19_07_09\")\n",
    "yp_div = _align_oof(y_true_div, [p_dcap], tscv=tscv)\n",
    "mask = yp_div[\"is_consumption\"] == 0\n",
    "yp_div = yp_div[mask].reset_index(drop=True)\n",
    "_show_gp_prf(yp_div, is_cons=0)"
   ]
  },
  {
   "cell_type": "code",
   "execution_count": 17,
   "id": "56855dc8-fe2c-401e-9070-19dfb4db377c",
   "metadata": {
    "collapsed": true,
    "jupyter": {
     "outputs_hidden": true
    },
    "tags": []
   },
   "outputs": [],
   "source": [
    "_show_gp_prf(y_comb, n_oofs=3, is_cons=0)"
   ]
  },
  {
   "cell_type": "code",
   "execution_count": 13,
   "id": "f74e337e-c6d4-4e79-81e2-2cb3e066b37e",
   "metadata": {
    "tags": []
   },
   "outputs": [],
   "source": [
    "yp_div.head(1)"
   ]
  },
  {
   "cell_type": "code",
   "execution_count": 14,
   "id": "a60f0c6a-461a-4612-8c63-b352887a29f2",
   "metadata": {
    "tags": []
   },
   "outputs": [],
   "source": [
    "y_comb = y_comb.merge(yp_div[TGT_PK_COLS + [\"datetime\", \"oof0\"]], how=\"left\", suffixes=(\"\", \"_dcap\"))\n",
    "y_comb = y_comb.rename({\"oof0\": \"oof0_dcap\"}, axis=1)\n",
    "y_comb.head(1)"
   ]
  },
  {
   "cell_type": "code",
   "execution_count": null,
   "id": "4e51868f-724f-4f4f-8df6-a880bbe3dc4e",
   "metadata": {
    "collapsed": true,
    "jupyter": {
     "outputs_hidden": true
    },
    "tags": []
   },
   "outputs": [],
   "source": [
    "for pk, gp in y_comb.groupby(TGT_PK_COLS):\n",
    "    gp = gp.sort_values(\"datetime\")\n",
    "    gp = gp[gp[\"datetime\"] >= datetime(2022, 9, 1, 0)].reset_index(drop=True)\n",
    "    fig = go.Figure()\n",
    "    for col in [\"target\", \"oof0_raw\", \"oof0_diff\", \"oof0_ens\", \"oof0_dcap\"]:\n",
    "        fig.add_trace(go.Scatter(x=gp[\"datetime\"], y=gp[col], name=col))\n",
    "    fig.update_layout(title=f\"{pk}\")\n",
    "    fig.show()"
   ]
  },
  {
   "cell_type": "code",
   "execution_count": 28,
   "id": "8f133a2a-c01e-4860-a802-9e0e5fc22f83",
   "metadata": {
    "collapsed": true,
    "jupyter": {
     "outputs_hidden": true
    },
    "tags": []
   },
   "outputs": [],
   "source": [
    "feat_imp_p = pd.read_parquet(\"./output/0126-19_54_57/feat_imps.parquet\")\n",
    "for name, gp in feat_imp_p.groupby([\"fold\", \"tgt_type\"]):\n",
    "    print(f\"=== {name} ===\")\n",
    "    a = gp.sort_values(\"importance_gain\")\n",
    "    display(a.head(15))\n",
    "    # _plot_feat_imp(gp.iloc[:, :2], name)   "
   ]
  },
  {
   "cell_type": "markdown",
   "id": "fbc1ce20-f362-44ea-a075-258e0cb8dee7",
   "metadata": {
    "jp-MarkdownHeadingCollapsed": true,
    "tags": []
   },
   "source": [
    "### *cc_dcap*"
   ]
  },
  {
   "cell_type": "code",
   "execution_count": 57,
   "id": "33168421-11fa-4b6d-b473-05f8134c0fff",
   "metadata": {
    "tags": []
   },
   "outputs": [],
   "source": [
    "['temperature',\n",
    " 'dewpoint',\n",
    " 'cloudcover_high',\n",
    " 'cloudcover_low',\n",
    " 'cloudcover_mid',\n",
    " 'cloudcover_total',\n",
    " '10_metre_u_wind_component',\n",
    " '10_metre_v_wind_component',\n",
    " 'direct_solar_radiation',\n",
    " 'surface_solar_radiation_downwards',\n",
    " 'snowfall',\n",
    " 'total_precipitation']"
   ]
  },
  {
   "cell_type": "code",
   "execution_count": null,
   "id": "0e675aaf-07d2-43e8-a8ca-9c051cdbfe81",
   "metadata": {},
   "outputs": [],
   "source": [
    "['temperature', 'dewpoint', 'rain', 'snowfall',\n",
    " 'surface_pressure', 'cloudcover_total', 'cloudcover_low', 'cloudcover_mid',\n",
    " 'cloudcover_high', 'windspeed_10m', 'winddirection_10m', 'shortwave_radiation',\n",
    " 'direct_solar_radiation', 'diffuse_radiation']"
   ]
  },
  {
   "cell_type": "code",
   "execution_count": 29,
   "id": "aff3f4b3-6458-44e8-8ee0-754fdd1cf574",
   "metadata": {
    "collapsed": true,
    "jupyter": {
     "outputs_hidden": true
    },
    "tags": []
   },
   "outputs": [],
   "source": [
    "with open(\"./data/processed/feats/v5_dcap.pkl\", \"rb\") as f:\n",
    "    feats = pickle.load(f)\n",
    "feats"
   ]
  },
  {
   "cell_type": "code",
   "execution_count": 62,
   "id": "88430871-71c9-424d-abb6-3b21711212ff",
   "metadata": {
    "tags": []
   },
   "outputs": [],
   "source": [
    "fwth_feats = ['temperature', 'dewpoint', 'cloudcover_high', 'cloudcover_low', 'cloudcover_mid',\n",
    "              'cloudcover_total', '10_metre_u_wind_component', '10_metre_v_wind_component', 'direct_solar_radiation', 'surface_solar_radiation_downwards',\n",
    "              'snowfall', 'total_precipitation']\n",
    "hwth_feats = ['temperature', 'dewpoint', 'snowfall',\n",
    "              'surface_pressure', 'cloudcover_total', 'cloudcover_low', 'cloudcover_mid',\n",
    "              'windspeed_10m', 'winddirection_10m', 'shortwave_radiation',\n",
    "              'direct_solar_radiation', 'diffuse_radiation']\n",
    "\n",
    "feats = (\n",
    "    TGT_PK_COLS\n",
    "    + tid_feats\n",
    "    + [\"is_country_holiday\"]\n",
    "    + [f\"target_div_cap_lag2d_lag{d}d_prod\" for d in range(2, 8)]\n",
    "    + [f\"target_div_cap_lag2d_lag{d}d_cons\" for d in range(2, 8)]\n",
    "    + [c for c in df.columns if \"target_div_cap_lag2d_ratio\" in c and \"prod\" not in c]\n",
    "    + [f\"{c}_local_mean\" for c in fwth_feats]\n",
    "    + [f\"{c}_local_mean_hist_lag7d\" for c in hwth_feats]\n",
    ")\n",
    "print(f\"Feature set (# = {len(feats)}):\", feats)\n",
    "\n",
    "with open(\"./data/processed/feats/v1_cc_dcap.pkl\", \"wb\") as f:\n",
    "    pickle.dump(feats, f)"
   ]
  },
  {
   "cell_type": "code",
   "execution_count": 64,
   "id": "90614cdc-5888-442e-a118-7d8f6d914fcb",
   "metadata": {
    "tags": []
   },
   "outputs": [],
   "source": [
    "fwth_feats = ['temperature', 'dewpoint', 'cloudcover_low',\n",
    "              'cloudcover_total', '10_metre_u_wind_component', '10_metre_v_wind_component', 'direct_solar_radiation', 'surface_solar_radiation_downwards',\n",
    "              'snowfall', 'total_precipitation']\n",
    "hwth_feats = ['temperature', 'dewpoint', 'snowfall',\n",
    "              'surface_pressure', 'cloudcover_total', 'cloudcover_low',\n",
    "              'windspeed_10m', 'winddirection_10m', 'shortwave_radiation',\n",
    "              'direct_solar_radiation', 'diffuse_radiation']\n",
    "\n",
    "feats = (\n",
    "    TGT_PK_COLS\n",
    "    + tid_feats\n",
    "    + [\"is_country_holiday\"]\n",
    "    + [f\"target_div_cap_lag2d_lag{d}d_prod\" for d in [2, 3, 6, 7]]\n",
    "    + [f\"target_div_cap_lag2d_lag{d}d_cons\" for d in range(2, 8)]\n",
    "    + [c for c in df.columns if \"target_div_cap_lag2d_ratio\" in c and \"prod\" not in c]\n",
    "    + [f\"{c}_local_mean\" for c in fwth_feats]\n",
    "    + [f\"{c}_local_mean_hist_lag7d\" for c in hwth_feats]\n",
    ")\n",
    "print(f\"Feature set (# = {len(feats)}):\", feats)\n",
    "\n",
    "with open(\"./data/processed/feats/v2_cc_dcap.pkl\", \"wb\") as f:\n",
    "    pickle.dump(feats, f)"
   ]
  },
  {
   "cell_type": "code",
   "execution_count": 66,
   "id": "e5d7aa7d-c6bb-479e-a940-b8b4dd02dc57",
   "metadata": {
    "tags": []
   },
   "outputs": [],
   "source": [
    "fwth_feats = ['temperature', 'dewpoint', 'cloudcover_low',\n",
    "              'cloudcover_total', '10_metre_u_wind_component', '10_metre_v_wind_component', 'direct_solar_radiation', 'surface_solar_radiation_downwards',\n",
    "              'snowfall', 'total_precipitation']\n",
    "hwth_feats = ['temperature', 'dewpoint', 'snowfall',\n",
    "              'surface_pressure', 'windspeed_10m', 'winddirection_10m', 'shortwave_radiation',\n",
    "              'direct_solar_radiation', 'diffuse_radiation']\n",
    "\n",
    "feats = (\n",
    "    TGT_PK_COLS\n",
    "    + tid_feats\n",
    "    + [\"is_country_holiday\"]\n",
    "    + [f\"target_div_cap_lag2d_lag{d}d_prod\" for d in [2, 7]]\n",
    "    + [f\"target_div_cap_lag2d_lag{d}d_cons\" for d in range(2, 8)]\n",
    "    + [c for c in df.columns if \"target_div_cap_lag2d_ratio\" in c and \"prod\" not in c]\n",
    "    + [f\"{c}_local_mean\" for c in fwth_feats]\n",
    "    + [f\"{c}_local_mean_hist_lag7d\" for c in hwth_feats]\n",
    ")\n",
    "print(f\"Feature set (# = {len(feats)}):\", feats)\n",
    "\n",
    "with open(\"./data/processed/feats/v3_cc_dcap.pkl\", \"wb\") as f:\n",
    "    pickle.dump(feats, f)"
   ]
  },
  {
   "cell_type": "code",
   "execution_count": 68,
   "id": "bec2b484-419a-4a7d-9e73-c9001051c837",
   "metadata": {
    "tags": []
   },
   "outputs": [],
   "source": [
    "fwth_feats = ['temperature', 'dewpoint', 'cloudcover_low',\n",
    "              '10_metre_u_wind_component', '10_metre_v_wind_component', 'direct_solar_radiation', 'surface_solar_radiation_downwards',\n",
    "              'snowfall', 'total_precipitation']\n",
    "hwth_feats = ['temperature', 'dewpoint', 'snowfall',\n",
    "              'surface_pressure', 'windspeed_10m']\n",
    "\n",
    "feats = (\n",
    "    TGT_PK_COLS\n",
    "    + tid_feats\n",
    "    + [\"is_country_holiday\"]\n",
    "    + [f\"target_div_cap_lag2d_lag{d}d_prod\" for d in [2, 7]]\n",
    "    + [f\"target_div_cap_lag2d_lag{d}d_cons\" for d in range(2, 8)]\n",
    "    + [c for c in df.columns if \"target_div_cap_lag2d_ratio\" in c and \"prod\" not in c]\n",
    "    + [f\"{c}_local_mean\" for c in fwth_feats]\n",
    "    + [f\"{c}_local_mean_hist_lag7d\" for c in hwth_feats]\n",
    ")\n",
    "print(f\"Feature set (# = {len(feats)}):\", feats)\n",
    "\n",
    "with open(\"./data/processed/feats/v4_cc_dcap.pkl\", \"wb\") as f:\n",
    "    pickle.dump(feats, f)"
   ]
  },
  {
   "cell_type": "code",
   "execution_count": 71,
   "id": "c09827f7-8a5b-4a3a-8c86-6fef56412ee5",
   "metadata": {
    "tags": []
   },
   "outputs": [],
   "source": [
    "fwth_feats = ['temperature', 'dewpoint', 'cloudcover_low', 'direct_solar_radiation', 'surface_solar_radiation_downwards',\n",
    "              'snowfall']\n",
    "hwth_feats = ['temperature', 'dewpoint', 'snowfall', 'surface_pressure']\n",
    "\n",
    "feats = (\n",
    "    TGT_PK_COLS\n",
    "    + tid_feats\n",
    "    + [\"is_country_holiday\"]\n",
    "    + [f\"target_div_cap_lag2d_lag{d}d_prod\" for d in [2, 7]]\n",
    "    + [f\"target_div_cap_lag2d_lag{d}d_cons\" for d in range(2, 8)]\n",
    "    + [c for c in df.columns if \"target_div_cap_lag2d_ratio\" in c and \"prod\" not in c]\n",
    "    + [f\"{c}_local_mean\" for c in fwth_feats]\n",
    "    + [f\"{c}_local_mean_hist_lag7d\" for c in hwth_feats]\n",
    ")\n",
    "print(f\"Feature set (# = {len(feats)}):\", feats)\n",
    "\n",
    "with open(\"./data/processed/feats/v5_cc_dcap.pkl\", \"wb\") as f:\n",
    "    pickle.dump(feats, f)"
   ]
  },
  {
   "cell_type": "code",
   "execution_count": null,
   "id": "c0a0d9e9-691a-432a-86a8-6d6a5b9099df",
   "metadata": {},
   "outputs": [],
   "source": []
  },
  {
   "cell_type": "code",
   "execution_count": 50,
   "id": "e18ec13f-581f-4a3b-b00a-2b44a7b51270",
   "metadata": {
    "tags": []
   },
   "outputs": [],
   "source": [
    "cc_dcap = _load_oof(\"0126-20_02_17\")\n",
    "ycc_div = _align_oof(y_true_div, [cc_dcap], tscv=tscv)\n",
    "mask = (ycc_div[\"is_consumption\"] == 1) & (ycc_div[\"is_business\"] == 0)\n",
    "ycc_div = ycc_div[mask].reset_index(drop=True)\n",
    "_show_gp_prf(ycc_div, is_cons=1, is_bus=0)"
   ]
  },
  {
   "cell_type": "code",
   "execution_count": 51,
   "id": "07f3309c-ef65-4d87-b8b2-c1ef233ae636",
   "metadata": {
    "tags": []
   },
   "outputs": [],
   "source": [
    "y_c_comb = y_c_comb[y_c_comb[\"is_business\"] == 0].reset_index(drop=True)\n",
    "y_c_comb.shape, ycc_div.shape"
   ]
  },
  {
   "cell_type": "code",
   "execution_count": 52,
   "id": "256e4439-b3d5-4526-a971-a9cdaa33a7bd",
   "metadata": {
    "tags": []
   },
   "outputs": [],
   "source": [
    "y_c_comb = y_c_comb.merge(ycc_div[TGT_PK_COLS + [\"datetime\", \"oof0\"]], how=\"left\", suffixes=(\"\", \"_dcap\"))\n",
    "y_c_comb = y_c_comb.rename({\"oof0\": \"oof0_dcap\"}, axis=1)\n",
    "y_c_comb.head(1)"
   ]
  },
  {
   "cell_type": "code",
   "execution_count": null,
   "id": "961728cf-6f14-46b9-bc36-e3166452cb3e",
   "metadata": {
    "collapsed": true,
    "jupyter": {
     "outputs_hidden": true
    },
    "tags": []
   },
   "outputs": [],
   "source": [
    "for pk, gp in y_c_comb.groupby(TGT_PK_COLS):\n",
    "    gp = gp.sort_values(\"datetime\")\n",
    "    gp = gp[gp[\"datetime\"] >= datetime(2022, 9, 1, 0)].reset_index(drop=True)\n",
    "    fig = go.Figure()\n",
    "    for col in [\"target\", \"oof0_raw\", \"oof0_diff\", \"oof0_ens\", \"oof0_dcap\"]:\n",
    "        fig.add_trace(go.Scatter(x=gp[\"datetime\"], y=gp[col], name=col))\n",
    "    fig.update_layout(title=f\"{pk}\")\n",
    "    fig.show()"
   ]
  },
  {
   "cell_type": "code",
   "execution_count": 55,
   "id": "810bc003-3499-4a9d-b498-1d787978cdab",
   "metadata": {
    "collapsed": true,
    "jupyter": {
     "outputs_hidden": true
    },
    "tags": []
   },
   "outputs": [],
   "source": [
    "_show_gp_prf(y_c_comb, is_cons=1, is_bus=0)"
   ]
  },
  {
   "cell_type": "code",
   "execution_count": 69,
   "id": "218f1f86-8df3-42f7-af68-8a89b24ef0f4",
   "metadata": {
    "collapsed": true,
    "jupyter": {
     "outputs_hidden": true
    },
    "tags": []
   },
   "outputs": [],
   "source": [
    "feat_imp_c = pd.read_parquet(\"./output/0126-21_08_11/feat_imps.parquet\")\n",
    "for name, gp in feat_imp_c.groupby([\"fold\", \"tgt_type\"]):\n",
    "    print(f\"=== {name} ===\")\n",
    "    a = gp.sort_values(\"importance_gain\")\n",
    "    display(a.head(15))\n",
    "    # _plot_feat_imp(gp.iloc[:, :2], name)   "
   ]
  },
  {
   "cell_type": "markdown",
   "id": "5390554e-bf75-43d8-a55f-f75dafb45457",
   "metadata": {
    "jp-MarkdownHeadingCollapsed": true,
    "tags": []
   },
   "source": [
    "### *cb_dcap*"
   ]
  },
  {
   "cell_type": "code",
   "execution_count": 25,
   "id": "f5de61df-de30-4f18-b843-25371c040101",
   "metadata": {
    "collapsed": true,
    "jupyter": {
     "outputs_hidden": true
    },
    "tags": []
   },
   "outputs": [],
   "source": [
    "with open(\"./data/processed/feats/v10_dcap.pkl\", \"rb\") as f:\n",
    "    feats = pickle.load(f)\n",
    "feats"
   ]
  },
  {
   "cell_type": "code",
   "execution_count": 20,
   "id": "3cd694f8-c711-4eaa-98fc-606c7df3d166",
   "metadata": {
    "tags": []
   },
   "outputs": [],
   "source": [
    "feats = (\n",
    "    TGT_PK_COLS\n",
    "    + tid_feats\n",
    "    + [\"is_country_holiday\"]\n",
    "    + [f\"target_div_cap_lag2d_lag{d}d_prod\" for d in [2, 7]]\n",
    "    + [f\"target_div_cap_lag2d_lag{d}d_cons\" for d in range(2, 8)]\n",
    "    + [c for c in df.columns if \"target_div_cap_lag2d_ratio\" in c and \"prod\" not in c]\n",
    "    + [c for c in df.columns if c.endswith(\"_local_mean\") or c.endswith(\"_global_mean\")]\n",
    ")\n",
    "print(f\"Feature set (# = {len(feats)}):\", feats)\n",
    "\n",
    "with open(\"./data/processed/feats/v1_cb_dcap.pkl\", \"wb\") as f:\n",
    "    pickle.dump(feats, f)"
   ]
  },
  {
   "cell_type": "code",
   "execution_count": 22,
   "id": "b3020e95-fb59-4e8a-a84e-11f2a84ee987",
   "metadata": {
    "tags": []
   },
   "outputs": [],
   "source": [
    "feats = (\n",
    "    TGT_PK_COLS\n",
    "    + tid_feats\n",
    "    + [\"is_country_holiday\"]\n",
    "    + [f\"target_div_cap_lag2d_lag{d}d_prod\" for d in [2, 3, 6, 7]]\n",
    "    + [f\"target_div_cap_lag2d_lag{d}d_cons\" for d in range(2, 8)]\n",
    "    + [c for c in df.columns if \"target_div_cap_lag2d_ratio\" in c and \"prod\" not in c]\n",
    "    + [c for c in df.columns if c.endswith(\"_local_mean\") or c.endswith(\"_global_mean\")]\n",
    ")\n",
    "print(f\"Feature set (# = {len(feats)}):\", feats)\n",
    "\n",
    "with open(\"./data/processed/feats/v2_cb_dcap.pkl\", \"wb\") as f:\n",
    "    pickle.dump(feats, f)"
   ]
  },
  {
   "cell_type": "code",
   "execution_count": 27,
   "id": "0b3eeaaa-72b6-4e2d-9f9a-f4883c6d9928",
   "metadata": {
    "tags": []
   },
   "outputs": [],
   "source": [
    "feats = (\n",
    "    TGT_PK_COLS\n",
    "    + tid_feats\n",
    "    + [\"is_country_holiday\"]\n",
    "    + [f\"target_div_cap_lag2d_lag{d}d_prod\" for d in range(2, 8)]\n",
    "    + [f\"target_div_cap_lag2d_lag{d}d_cons\" for d in range(2, 8)]\n",
    "    + [c for c in df.columns if \"target_div_cap_lag2d_ratio\" in c and \"prod\" not in c]\n",
    "    + [c for c in df.columns if c.endswith(\"_local_mean\") or c.endswith(\"_global_mean\")]\n",
    ")\n",
    "print(f\"Feature set (# = {len(feats)}):\", feats)\n",
    "\n",
    "with open(\"./data/processed/feats/v3_cb_dcap.pkl\", \"wb\") as f:\n",
    "    pickle.dump(feats, f)"
   ]
  },
  {
   "cell_type": "code",
   "execution_count": 28,
   "id": "159416fe-3a92-484a-aba4-7b8bc96191e8",
   "metadata": {
    "tags": []
   },
   "outputs": [],
   "source": [
    "cb_dcap1 = _load_oof(\"0126-21_19_37\")\n",
    "cb_dcap2 = _load_oof(\"0126-21_51_22\")\n",
    "ycb_div = _align_oof(y_true_div, [cb_dcap1, cb_dcap2], tscv=tscv)\n",
    "mask = (ycb_div[\"is_consumption\"] == 1) & (ycb_div[\"is_business\"] == 1)\n",
    "ycb_div = ycb_div[mask].reset_index(drop=True)\n",
    "_show_gp_prf(ycb_div, is_cons=1, is_bus=1)"
   ]
  },
  {
   "cell_type": "code",
   "execution_count": 13,
   "id": "3e474366-1cc7-48cf-ad2a-ccb80be2a9e8",
   "metadata": {
    "tags": []
   },
   "outputs": [],
   "source": [
    "cb_dcap = _load_oof(\"0126-21_19_37\")\n",
    "ycb_div = _align_oof(y_true_div, [cb_dcap], tscv=tscv)\n",
    "mask = (ycb_div[\"is_consumption\"] == 1) & (ycb_div[\"is_business\"] == 1)\n",
    "ycb_div = ycb_div[mask].reset_index(drop=True)\n",
    "_show_gp_prf(ycb_div, is_cons=1, is_bus=1)"
   ]
  },
  {
   "cell_type": "code",
   "execution_count": 14,
   "id": "e8ca033e-2d65-4b17-87ac-34d4a171af61",
   "metadata": {
    "tags": []
   },
   "outputs": [],
   "source": [
    "y_c_comb = y_c_comb[y_c_comb[\"is_business\"] == 1].reset_index(drop=True)\n",
    "y_c_comb = y_c_comb.merge(ycb_div[TGT_PK_COLS + [\"datetime\", \"oof0\"]], how=\"left\", suffixes=(\"\", \"_dcap\"))\n",
    "y_c_comb = y_c_comb.rename({\"oof0\": \"oof0_dcap\"}, axis=1)\n",
    "y_c_comb.head(1)"
   ]
  },
  {
   "cell_type": "code",
   "execution_count": null,
   "id": "9cbb6a43-63e8-4544-9203-28a32f1e96af",
   "metadata": {
    "collapsed": true,
    "jupyter": {
     "outputs_hidden": true
    },
    "tags": []
   },
   "outputs": [],
   "source": [
    "for pk, gp in y_c_comb.groupby(TGT_PK_COLS):\n",
    "    gp = gp.sort_values(\"datetime\")\n",
    "    gp = gp[gp[\"datetime\"] >= datetime(2022, 9, 1, 0)].reset_index(drop=True)\n",
    "    fig = go.Figure()\n",
    "    for col in [\"target\", \"oof0_raw\", \"oof0_diff\", \"oof0_ens\", \"oof0_dcap\"]:\n",
    "        fig.add_trace(go.Scatter(x=gp[\"datetime\"], y=gp[col], name=col))\n",
    "    fig.update_layout(title=f\"{pk}\")\n",
    "    fig.show()"
   ]
  },
  {
   "cell_type": "code",
   "execution_count": 15,
   "id": "eee1665d-c671-4291-a3ce-a465317802ea",
   "metadata": {
    "collapsed": true,
    "jupyter": {
     "outputs_hidden": true
    },
    "tags": []
   },
   "outputs": [],
   "source": [
    "_show_gp_prf(y_c_comb, is_cons=1, is_bus=1)"
   ]
  },
  {
   "cell_type": "code",
   "execution_count": 29,
   "id": "61dac650-c223-4571-adc3-eb5b27a70486",
   "metadata": {
    "tags": []
   },
   "outputs": [],
   "source": [
    "feat_imp_c = pd.read_parquet(\"./output/0126-21_51_22/feat_imps.parquet\")\n",
    "for name, gp in feat_imp_c.groupby([\"fold\", \"tgt_type\"]):\n",
    "    print(f\"=== {name} ===\")\n",
    "    a = gp.sort_values(\"importance_gain\")\n",
    "    display(a.head(15))\n",
    "    # _plot_feat_imp(gp.iloc[:, :2], name)   "
   ]
  },
  {
   "cell_type": "markdown",
   "id": "7978361c-4e00-40c8-8256-989ed936cd23",
   "metadata": {
    "jp-MarkdownHeadingCollapsed": true,
    "tags": []
   },
   "source": [
    "### *cc_deic*"
   ]
  },
  {
   "cell_type": "code",
   "execution_count": 46,
   "id": "1b15392e-9193-4316-b32a-f7cf2f9dc0cf",
   "metadata": {
    "collapsed": true,
    "jupyter": {
     "outputs_hidden": true
    },
    "tags": []
   },
   "outputs": [],
   "source": [
    "# with open(\"./data/processed/feats/v1_deic.pkl\", \"rb\") as f:\n",
    "    # feats = pickle.load(f)\n",
    "feats"
   ]
  },
  {
   "cell_type": "code",
   "execution_count": 52,
   "id": "1be817b3-a378-4149-9c3b-0334d6ddbd9d",
   "metadata": {
    "tags": []
   },
   "outputs": [],
   "source": [
    "feats2 = ['county', 'is_business', 'product_type',\n",
    "          'quarter', 'month', 'day', 'weekday', 'hour', 'dayofyear', 'is_country_holiday',\n",
    "          'target_div_eic_lag2d_lag2d_prod', 'target_div_eic_lag2d_lag3d_prod', 'target_div_eic_lag2d_lag4d_prod', 'target_div_eic_lag2d_lag5d_prod', 'target_div_eic_lag2d_lag6d_prod', 'target_div_eic_lag2d_lag7d_prod',\n",
    "          'target_div_eic_lag2d_lag2d_cons', 'target_div_eic_lag2d_lag3d_cons', 'target_div_eic_lag2d_lag4d_cons', 'target_div_eic_lag2d_lag5d_cons', 'target_div_eic_lag2d_lag6d_cons', 'target_div_eic_lag2d_lag7d_cons',\n",
    "          'target_div_eic_lag2d_ratio_lag2to9_cons', 'target_div_eic_lag2d_ratio_lag3to10_cons', 'target_div_eic_lag2d_ratio_lag4to11_cons', 'target_div_eic_lag2d_ratio_lag7to14_cons',\n",
    "         'temperature_local_mean',\n",
    "         'dewpoint_local_mean',\n",
    "         'cloudcover_low_local_mean',\n",
    "         'cloudcover_mid_local_mean',\n",
    "         'cloudcover_total_local_mean',\n",
    "         '10_metre_u_wind_component_local_mean',\n",
    "         '10_metre_v_wind_component_local_mean',\n",
    "         'direct_solar_radiation_local_mean',\n",
    "         'surface_solar_radiation_downwards_local_mean',\n",
    "         'snowfall_local_mean',\n",
    "         'total_precipitation_local_mean',\n",
    "         'temperature_local_mean_hist_lag7d',\n",
    "         'dewpoint_local_mean_hist_lag7d',\n",
    "         'snowfall_local_mean_hist_lag7d',\n",
    "         'surface_pressure_local_mean_hist_lag7d',\n",
    "         'cloudcover_total_local_mean_hist_lag7d',\n",
    "         'cloudcover_low_local_mean_hist_lag7d',\n",
    "         'cloudcover_high_local_mean_hist_lag7d',\n",
    "         'windspeed_10m_local_mean_hist_lag7d',\n",
    "         'winddirection_10m_local_mean_hist_lag7d',\n",
    "         'shortwave_radiation_local_mean_hist_lag7d',\n",
    "         'direct_solar_radiation_local_mean_hist_lag7d',\n",
    "         'diffuse_radiation_local_mean_hist_lag7d']\n",
    "\n",
    "with open(\"./data/processed/feats/v1_cc_deic.pkl\", \"wb\") as f:\n",
    "    pickle.dump(feats2, f)"
   ]
  },
  {
   "cell_type": "code",
   "execution_count": 57,
   "id": "24723541-2b29-4ac2-a508-5a51c0fd6c4e",
   "metadata": {
    "tags": []
   },
   "outputs": [],
   "source": [
    "feats3 = ['county', 'is_business', 'product_type',\n",
    "          'quarter', 'month', 'day', 'weekday', 'hour', 'dayofyear', 'is_country_holiday',\n",
    "          'target_div_eic_lag2d_lag2d_prod', 'target_div_eic_lag2d_lag3d_prod', 'target_div_eic_lag2d_lag6d_prod', 'target_div_eic_lag2d_lag7d_prod',\n",
    "          'target_div_eic_lag2d_lag2d_cons', 'target_div_eic_lag2d_lag3d_cons', 'target_div_eic_lag2d_lag4d_cons', 'target_div_eic_lag2d_lag5d_cons', 'target_div_eic_lag2d_lag6d_cons', 'target_div_eic_lag2d_lag7d_cons',\n",
    "          'target_div_eic_lag2d_ratio_lag2to9_cons', 'target_div_eic_lag2d_ratio_lag3to10_cons', 'target_div_eic_lag2d_ratio_lag4to11_cons', 'target_div_eic_lag2d_ratio_lag7to14_cons',\n",
    "         'temperature_local_mean',\n",
    "         'dewpoint_local_mean',\n",
    "         'cloudcover_low_local_mean',\n",
    "         'cloudcover_mid_local_mean',\n",
    "         'cloudcover_total_local_mean',\n",
    "         '10_metre_u_wind_component_local_mean',\n",
    "         '10_metre_v_wind_component_local_mean',\n",
    "         'direct_solar_radiation_local_mean',\n",
    "         'surface_solar_radiation_downwards_local_mean',\n",
    "         'snowfall_local_mean',\n",
    "         'total_precipitation_local_mean',\n",
    "         'temperature_local_mean_hist_lag7d',\n",
    "         'dewpoint_local_mean_hist_lag7d',\n",
    "         'snowfall_local_mean_hist_lag7d',\n",
    "         'surface_pressure_local_mean_hist_lag7d',\n",
    "         'cloudcover_total_local_mean_hist_lag7d',\n",
    "         'winddirection_10m_local_mean_hist_lag7d',\n",
    "         'shortwave_radiation_local_mean_hist_lag7d',\n",
    "         'direct_solar_radiation_local_mean_hist_lag7d',\n",
    "         'diffuse_radiation_local_mean_hist_lag7d']\n",
    "print(len(feats3))\n",
    "\n",
    "with open(\"./data/processed/feats/v2_cc_deic.pkl\", \"wb\") as f:\n",
    "    pickle.dump(feats3, f)"
   ]
  },
  {
   "cell_type": "code",
   "execution_count": 58,
   "id": "d6b2206e-8b16-4f27-89e1-35389c5e755d",
   "metadata": {
    "tags": []
   },
   "outputs": [],
   "source": [
    "feats3 = ['county', 'is_business', 'product_type',\n",
    "          'quarter', 'month', 'day', 'weekday', 'hour', 'dayofyear', 'is_country_holiday',\n",
    "          'target_div_eic_lag2d_lag2d_prod', 'target_div_eic_lag2d_lag6d_prod', 'target_div_eic_lag2d_lag7d_prod',\n",
    "          'target_div_eic_lag2d_lag2d_cons', 'target_div_eic_lag2d_lag3d_cons', 'target_div_eic_lag2d_lag4d_cons', 'target_div_eic_lag2d_lag5d_cons', 'target_div_eic_lag2d_lag6d_cons', 'target_div_eic_lag2d_lag7d_cons',\n",
    "          'target_div_eic_lag2d_ratio_lag2to9_cons', 'target_div_eic_lag2d_ratio_lag3to10_cons', 'target_div_eic_lag2d_ratio_lag4to11_cons', 'target_div_eic_lag2d_ratio_lag7to14_cons',\n",
    "         'temperature_local_mean',\n",
    "         'dewpoint_local_mean',\n",
    "         'cloudcover_low_local_mean',\n",
    "         '10_metre_u_wind_component_local_mean',\n",
    "         '10_metre_v_wind_component_local_mean',\n",
    "         'direct_solar_radiation_local_mean',\n",
    "         'surface_solar_radiation_downwards_local_mean',\n",
    "         'snowfall_local_mean',\n",
    "         'total_precipitation_local_mean',\n",
    "         'temperature_local_mean_hist_lag7d',\n",
    "         'dewpoint_local_mean_hist_lag7d',\n",
    "         'snowfall_local_mean_hist_lag7d',\n",
    "         'surface_pressure_local_mean_hist_lag7d',\n",
    "         'winddirection_10m_local_mean_hist_lag7d',\n",
    "         'shortwave_radiation_local_mean_hist_lag7d',\n",
    "         'direct_solar_radiation_local_mean_hist_lag7d',\n",
    "         'diffuse_radiation_local_mean_hist_lag7d']\n",
    "print(len(feats3))\n",
    "\n",
    "with open(\"./data/processed/feats/v3_cc_deic.pkl\", \"wb\") as f:\n",
    "    pickle.dump(feats3, f)"
   ]
  },
  {
   "cell_type": "code",
   "execution_count": 60,
   "id": "ff6a8aca-7a83-4033-bfe0-868100e808df",
   "metadata": {
    "tags": []
   },
   "outputs": [],
   "source": [
    "feats4 = ['county', 'is_business', 'product_type',\n",
    "          'quarter', 'month', 'day', 'weekday', 'hour', 'dayofyear', 'is_country_holiday',\n",
    "          'target_div_eic_lag2d_lag2d_prod', 'target_div_eic_lag2d_lag6d_prod', 'target_div_eic_lag2d_lag7d_prod',\n",
    "          'target_div_eic_lag2d_lag2d_cons', 'target_div_eic_lag2d_lag3d_cons', 'target_div_eic_lag2d_lag4d_cons', 'target_div_eic_lag2d_lag5d_cons', 'target_div_eic_lag2d_lag6d_cons', 'target_div_eic_lag2d_lag7d_cons',\n",
    "          'target_div_eic_lag2d_ratio_lag7to14_cons',\n",
    "         'temperature_local_mean',\n",
    "         'dewpoint_local_mean',\n",
    "         'cloudcover_low_local_mean',\n",
    "         'direct_solar_radiation_local_mean',\n",
    "         'surface_solar_radiation_downwards_local_mean',\n",
    "         'snowfall_local_mean',\n",
    "         'total_precipitation_local_mean',\n",
    "         'temperature_local_mean_hist_lag7d',\n",
    "         'dewpoint_local_mean_hist_lag7d',\n",
    "         'snowfall_local_mean_hist_lag7d',\n",
    "         'surface_pressure_local_mean_hist_lag7d',\n",
    "         'winddirection_10m_local_mean_hist_lag7d',\n",
    "         'shortwave_radiation_local_mean_hist_lag7d',\n",
    "         'direct_solar_radiation_local_mean_hist_lag7d',\n",
    "         'diffuse_radiation_local_mean_hist_lag7d']\n",
    "print(len(feats4))\n",
    "\n",
    "with open(\"./data/processed/feats/v4_cc_deic.pkl\", \"wb\") as f:\n",
    "    pickle.dump(feats4, f)"
   ]
  },
  {
   "cell_type": "code",
   "execution_count": 62,
   "id": "5536c13c-18e0-4c42-ace7-24efa20c78df",
   "metadata": {
    "tags": []
   },
   "outputs": [],
   "source": [
    "feats5 = ['county', 'is_business', 'product_type',\n",
    "          'quarter', 'month', 'day', 'weekday', 'hour', 'dayofyear', 'is_country_holiday',\n",
    "          'target_div_eic_lag2d_lag2d_prod', 'target_div_eic_lag2d_lag7d_prod',\n",
    "          'target_div_eic_lag2d_lag2d_cons', 'target_div_eic_lag2d_lag3d_cons', 'target_div_eic_lag2d_lag4d_cons', 'target_div_eic_lag2d_lag5d_cons', 'target_div_eic_lag2d_lag6d_cons', 'target_div_eic_lag2d_lag7d_cons',\n",
    "          'target_div_eic_lag2d_ratio_lag7to14_cons',\n",
    "         'temperature_local_mean',\n",
    "         'dewpoint_local_mean',\n",
    "         'cloudcover_low_local_mean',\n",
    "         'direct_solar_radiation_local_mean',\n",
    "         'surface_solar_radiation_downwards_local_mean',\n",
    "         'snowfall_local_mean',\n",
    "         'total_precipitation_local_mean',\n",
    "         'temperature_local_mean_hist_lag7d',\n",
    "         'dewpoint_local_mean_hist_lag7d',\n",
    "         'surface_pressure_local_mean_hist_lag7d',\n",
    "         'shortwave_radiation_local_mean_hist_lag7d',\n",
    "         'direct_solar_radiation_local_mean_hist_lag7d',\n",
    "         'diffuse_radiation_local_mean_hist_lag7d']\n",
    "print(len(feats5))\n",
    "\n",
    "with open(\"./data/processed/feats/v5_cc_deic.pkl\", \"wb\") as f:\n",
    "    pickle.dump(feats5, f)"
   ]
  },
  {
   "cell_type": "code",
   "execution_count": 66,
   "id": "4eddfd64-4707-44ff-b7cf-e246d3f2abf6",
   "metadata": {
    "tags": []
   },
   "outputs": [],
   "source": [
    "feats6 = ['county', 'is_business', 'product_type',\n",
    "          'quarter', 'month', 'day', 'weekday', 'hour', 'dayofyear', 'is_country_holiday',\n",
    "          'target_div_eic_lag2d_lag2d_cons', 'target_div_eic_lag2d_lag3d_cons', 'target_div_eic_lag2d_lag4d_cons', 'target_div_eic_lag2d_lag5d_cons', 'target_div_eic_lag2d_lag6d_cons', 'target_div_eic_lag2d_lag7d_cons',\n",
    "          'target_div_eic_lag2d_ratio_lag7to14_cons',\n",
    "         'temperature_local_mean',\n",
    "         'dewpoint_local_mean',\n",
    "         'cloudcover_low_local_mean',\n",
    "         'direct_solar_radiation_local_mean',\n",
    "         'surface_solar_radiation_downwards_local_mean',\n",
    "         'snowfall_local_mean',\n",
    "         'temperature_local_mean_hist_lag7d',\n",
    "         'dewpoint_local_mean_hist_lag7d',\n",
    "         'shortwave_radiation_local_mean_hist_lag7d',\n",
    "         'direct_solar_radiation_local_mean_hist_lag7d',\n",
    "         'diffuse_radiation_local_mean_hist_lag7d']\n",
    "print(len(feats6))\n",
    "\n",
    "with open(\"./data/processed/feats/v6_cc_deic.pkl\", \"wb\") as f:\n",
    "    pickle.dump(feats6, f)"
   ]
  },
  {
   "cell_type": "code",
   "execution_count": 65,
   "id": "56eded6d-00f0-43dc-85c2-eff155826b35",
   "metadata": {
    "tags": []
   },
   "outputs": [],
   "source": [
    "feat_imp = pd.read_parquet(\"output/0130-23_36_12/feat_imps.parquet\")\n",
    "for name, gp in feat_imp.groupby([\"fold\", \"tgt_type\"]):\n",
    "    print(f\"=== {name} ===\")\n",
    "    a = gp.sort_values(\"importance_gain\")\n",
    "    display(a.head(15))\n",
    "    # display(a.tail(15))"
   ]
  },
  {
   "cell_type": "markdown",
   "id": "b141840a-489d-4f5d-adf6-ae2e06114464",
   "metadata": {
    "jp-MarkdownHeadingCollapsed": true,
    "tags": []
   },
   "source": [
    "### *cb_deic*"
   ]
  },
  {
   "cell_type": "code",
   "execution_count": 12,
   "id": "71e667d9-8f87-4398-a10a-f4be96843424",
   "metadata": {
    "tags": []
   },
   "outputs": [],
   "source": [
    "with open(\"./data/processed/feats/v3_deic.pkl\", \"rb\") as f:\n",
    "    feats = pickle.load(f)\n",
    "feats"
   ]
  },
  {
   "cell_type": "code",
   "execution_count": 13,
   "id": "59c231d7-b326-4258-beb2-b08a629b0f4f",
   "metadata": {
    "tags": []
   },
   "outputs": [],
   "source": [
    "len(feats)"
   ]
  },
  {
   "cell_type": "code",
   "execution_count": null,
   "id": "ee950e01-4b30-4a35-8388-0a4a77a84eed",
   "metadata": {
    "jupyter": {
     "source_hidden": true
    },
    "tags": []
   },
   "outputs": [],
   "source": [
    "# feats1 = ['county', 'is_business', 'product_type',\n",
    "#  'quarter', 'month', 'day', 'weekday', 'hour', 'dayofyear', 'is_country_holiday',\n",
    "#  'target_div_eic_lag2d_lag2d_prod', 'target_div_eic_lag2d_lag3d_prod', 'target_div_eic_lag2d_lag4d_prod', 'target_div_eic_lag2d_lag5d_prod', 'target_div_eic_lag2d_lag6d_prod', 'target_div_eic_lag2d_lag7d_prod',\n",
    "#  'target_div_eic_lag2d_lag2d_cons', 'target_div_eic_lag2d_lag3d_cons', 'target_div_eic_lag2d_lag4d_cons', 'target_div_eic_lag2d_lag5d_cons', 'target_div_eic_lag2d_lag6d_cons', 'target_div_eic_lag2d_lag7d_cons',\n",
    "#  'target_div_eic_lag2d_ratio_lag2to9_prod',\n",
    "#  'target_div_eic_lag2d_ratio_lag3to10_prod',\n",
    "#  'target_div_eic_lag2d_ratio_lag4to11_prod',\n",
    "#  'target_div_eic_lag2d_ratio_lag7to14_prod',\n",
    "#  'target_div_eic_lag2d_ratio_lag2to9_cons',\n",
    "#  'target_div_eic_lag2d_ratio_lag3to10_cons',\n",
    "#  'target_div_eic_lag2d_ratio_lag4to11_cons',\n",
    "#  'target_div_eic_lag2d_ratio_lag7to14_cons',\n",
    "#  'temperature_local_mean',\n",
    "#  'dewpoint_local_mean',\n",
    "#  'cloudcover_high_local_mean',\n",
    "#  'cloudcover_low_local_mean',\n",
    "#  'cloudcover_mid_local_mean',\n",
    "#  'cloudcover_total_local_mean',\n",
    "#  '10_metre_u_wind_component_local_mean',\n",
    "#  '10_metre_v_wind_component_local_mean',\n",
    "#  'direct_solar_radiation_local_mean',\n",
    "#  'surface_solar_radiation_downwards_local_mean',\n",
    "#  'snowfall_local_mean',\n",
    "#  'total_precipitation_local_mean',\n",
    "#  'temperature_global_mean',\n",
    "#  'dewpoint_global_mean',\n",
    "#  'cloudcover_high_global_mean',\n",
    "#  'cloudcover_low_global_mean',\n",
    "#  'cloudcover_mid_global_mean',\n",
    "#  'cloudcover_total_global_mean',\n",
    "#  '10_metre_u_wind_component_global_mean',\n",
    "#  '10_metre_v_wind_component_global_mean',\n",
    "#  'direct_solar_radiation_global_mean',\n",
    "#  'surface_solar_radiation_downwards_global_mean',\n",
    "#  'snowfall_global_mean',\n",
    "#  'total_precipitation_global_mean']\n",
    "# print(len(feats1))\n",
    "\n",
    "# with open(\"./data/processed/feats/v1_cb_deic.pkl\", \"wb\") as f:\n",
    "#     pickle.dump(feats1, f)"
   ]
  },
  {
   "cell_type": "code",
   "execution_count": 147,
   "id": "3dda104f-4f4c-4db0-bd86-522971e04155",
   "metadata": {
    "tags": []
   },
   "outputs": [],
   "source": [
    "feats1 = ['county', 'is_business', 'product_type',\n",
    " 'quarter', 'month', 'day', 'weekday', 'hour', 'dayofyear', 'is_country_holiday',\n",
    " 'target_div_eic_lag2d_lag2d_prod', 'target_div_eic_lag2d_lag3d_prod', 'target_div_eic_lag2d_lag4d_prod', 'target_div_eic_lag2d_lag5d_prod', 'target_div_eic_lag2d_lag6d_prod', 'target_div_eic_lag2d_lag7d_prod',\n",
    " 'target_div_eic_lag2d_lag2d_cons', 'target_div_eic_lag2d_lag3d_cons', 'target_div_eic_lag2d_lag4d_cons', 'target_div_eic_lag2d_lag5d_cons', 'target_div_eic_lag2d_lag6d_cons', 'target_div_eic_lag2d_lag7d_cons',\n",
    " 'target_div_eic_lag2d_ratio_lag2to9_prod',\n",
    " 'target_div_eic_lag2d_ratio_lag7to14_prod',\n",
    " 'target_div_eic_lag2d_ratio_lag2to9_cons',\n",
    " 'target_div_eic_lag2d_ratio_lag3to10_cons',\n",
    " 'target_div_eic_lag2d_ratio_lag4to11_cons',\n",
    " 'target_div_eic_lag2d_ratio_lag7to14_cons',\n",
    " 'temperature_local_mean',\n",
    " 'dewpoint_local_mean',\n",
    " 'cloudcover_low_local_mean',\n",
    " 'cloudcover_mid_local_mean',\n",
    " 'cloudcover_total_local_mean',\n",
    " '10_metre_u_wind_component_local_mean',\n",
    " '10_metre_v_wind_component_local_mean',\n",
    " 'direct_solar_radiation_local_mean',\n",
    " 'surface_solar_radiation_downwards_local_mean',\n",
    " 'snowfall_local_mean',\n",
    " 'total_precipitation_local_mean',\n",
    " 'temperature_global_mean',\n",
    " 'dewpoint_global_mean',\n",
    " 'cloudcover_low_global_mean',\n",
    " 'cloudcover_total_global_mean',\n",
    " '10_metre_u_wind_component_global_mean',\n",
    " '10_metre_v_wind_component_global_mean',\n",
    " 'direct_solar_radiation_global_mean',\n",
    " 'surface_solar_radiation_downwards_global_mean',\n",
    " 'total_precipitation_global_mean']\n",
    "print(len(feats1))\n",
    "\n",
    "with open(\"./data/processed/feats/v1_cb_deic.pkl\", \"wb\") as f:\n",
    "    pickle.dump(feats1, f)"
   ]
  },
  {
   "cell_type": "code",
   "execution_count": 148,
   "id": "ed2b015e-feb0-43d8-8775-33819551f54c",
   "metadata": {
    "tags": []
   },
   "outputs": [],
   "source": [
    "feats2 =['county', 'is_business', 'product_type',\n",
    " 'quarter', 'month', 'day', 'weekday', 'hour', 'dayofyear', 'is_country_holiday',\n",
    " 'target_div_eic_lag2d_lag2d_prod', 'target_div_eic_lag2d_lag3d_prod', 'target_div_eic_lag2d_lag4d_prod', 'target_div_eic_lag2d_lag5d_prod', 'target_div_eic_lag2d_lag6d_prod', 'target_div_eic_lag2d_lag7d_prod',\n",
    " 'target_div_eic_lag2d_lag2d_cons', 'target_div_eic_lag2d_lag3d_cons', 'target_div_eic_lag2d_lag4d_cons', 'target_div_eic_lag2d_lag5d_cons', 'target_div_eic_lag2d_lag6d_cons', 'target_div_eic_lag2d_lag7d_cons',\n",
    " 'target_div_eic_lag2d_ratio_lag2to9_prod',\n",
    " 'target_div_eic_lag2d_ratio_lag7to14_prod',\n",
    " 'target_div_eic_lag2d_ratio_lag2to9_cons',\n",
    " 'target_div_eic_lag2d_ratio_lag3to10_cons',\n",
    " 'target_div_eic_lag2d_ratio_lag4to11_cons',\n",
    " 'target_div_eic_lag2d_ratio_lag7to14_cons',\n",
    " 'temperature_local_mean',\n",
    " 'dewpoint_local_mean',\n",
    " 'cloudcover_high_local_mean',\n",
    " 'cloudcover_low_local_mean',\n",
    " 'cloudcover_mid_local_mean',\n",
    " 'cloudcover_total_local_mean',\n",
    " '10_metre_u_wind_component_local_mean',\n",
    " '10_metre_v_wind_component_local_mean',\n",
    " 'direct_solar_radiation_local_mean',\n",
    " 'surface_solar_radiation_downwards_local_mean',\n",
    " 'snowfall_local_mean',\n",
    " 'total_precipitation_local_mean',\n",
    " 'temperature_global_mean',\n",
    " 'dewpoint_global_mean',\n",
    " 'cloudcover_high_global_mean',\n",
    " 'cloudcover_low_global_mean',\n",
    " 'cloudcover_mid_global_mean',\n",
    " 'cloudcover_total_global_mean',\n",
    " '10_metre_u_wind_component_global_mean',\n",
    " '10_metre_v_wind_component_global_mean',\n",
    " 'direct_solar_radiation_global_mean',\n",
    " 'surface_solar_radiation_downwards_global_mean',\n",
    " 'snowfall_global_mean',\n",
    " 'total_precipitation_global_mean']\n",
    "print(len(feats2))\n",
    "\n",
    "with open(\"./data/processed/feats/v2_cb_deic.pkl\", \"wb\") as f:\n",
    "    pickle.dump(feats2, f)"
   ]
  },
  {
   "cell_type": "code",
   "execution_count": 136,
   "id": "24077c93-7e21-4c6f-b12d-d2c4f12d6524",
   "metadata": {
    "tags": []
   },
   "outputs": [],
   "source": [
    "o1 = _load_oof(\"0131-05_10_20\")\n",
    "y1 = _align_oof(y_true_div, [o1], tscv)\n",
    "_ = _show_gp_prf(y1, is_cons=1, is_bus=1)"
   ]
  },
  {
   "cell_type": "code",
   "execution_count": 140,
   "id": "4e697ddd-d527-4e3a-ad85-33c688fcbf1c",
   "metadata": {
    "tags": []
   },
   "outputs": [],
   "source": [
    "o1 = _load_oof(\"0131-05_23_19\")\n",
    "y1 = _align_oof(y_true_div, [o1], tscv)\n",
    "_ = _show_gp_prf(y1, is_cons=1, is_bus=1) "
   ]
  },
  {
   "cell_type": "code",
   "execution_count": 11,
   "id": "b23a120f-a12a-400c-9eae-8384f1954e2e",
   "metadata": {
    "tags": []
   },
   "outputs": [],
   "source": [
    "o1 = _load_oof(\"0131-05_34_41\")\n",
    "y1 = _align_oof(y_true_div, [o1], tscv)\n",
    "_ = _show_gp_prf(y1, is_cons=1, is_bus=1) "
   ]
  },
  {
   "cell_type": "code",
   "execution_count": 137,
   "id": "fc753b8a-7a66-4031-9c60-49b332785cc4",
   "metadata": {
    "tags": []
   },
   "outputs": [],
   "source": [
    "feat_imp = pd.read_parquet(\"output/0131-05_10_20/feat_imps.parquet\")\n",
    "for name, gp in feat_imp.groupby([\"fold\", \"tgt_type\"]):\n",
    "    print(f\"=== {name} ===\")\n",
    "    a = gp.sort_values(\"importance_gain\")\n",
    "    display(a.head(15))\n",
    "    # display(a.tail(15))"
   ]
  },
  {
   "cell_type": "code",
   "execution_count": null,
   "id": "59b51723-c159-4f68-87c6-a72e97fb3fe6",
   "metadata": {},
   "outputs": [],
   "source": []
  },
  {
   "cell_type": "code",
   "execution_count": null,
   "id": "d36df4d8-bf80-464a-a275-c4ec0686dadc",
   "metadata": {},
   "outputs": [],
   "source": []
  },
  {
   "cell_type": "code",
   "execution_count": null,
   "id": "c1c15159-1895-49d1-ba61-06ddf2b9e71f",
   "metadata": {},
   "outputs": [],
   "source": []
  },
  {
   "cell_type": "code",
   "execution_count": null,
   "id": "1a1b1bd5-4352-44f7-9bda-cea40a9956ca",
   "metadata": {},
   "outputs": [],
   "source": []
  },
  {
   "cell_type": "code",
   "execution_count": null,
   "id": "a70b8ba8-1e69-4840-89e5-c1fdfc175123",
   "metadata": {},
   "outputs": [],
   "source": []
  },
  {
   "cell_type": "code",
   "execution_count": null,
   "id": "6570becd-ee3d-45dd-89a6-cf61630b6d02",
   "metadata": {},
   "outputs": [],
   "source": []
  },
  {
   "cell_type": "code",
   "execution_count": null,
   "id": "e07ebeb1-f921-4837-9599-b566b32b25f6",
   "metadata": {},
   "outputs": [],
   "source": []
  },
  {
   "cell_type": "markdown",
   "id": "b0dd1f31-a8ac-4263-9051-0473d6044f2b",
   "metadata": {
    "jp-MarkdownHeadingCollapsed": true,
    "tags": []
   },
   "source": [
    "## Run Unseen Meter Test\n",
    "\n",
    "Design a strategy for handling unseen meters.\n",
    "\n",
    "Which one can handle unseen well, raw, diff, ens or dcap??? Then, for unseen, directly select that type for submission???\n",
    "> Maybe diff also performs worse on unseen, let's test it !!"
   ]
  },
  {
   "cell_type": "code",
   "execution_count": 85,
   "id": "af47428f-e33a-4f12-9e7c-8b60bd4070b4",
   "metadata": {
    "tags": []
   },
   "outputs": [],
   "source": [
    "df = df.with_columns(\n",
    "            pl.concat_str(*(TGT_PK_COLS+[\"is_consumption\"]), separator=\"_\").alias(\"seg\")\n",
    "        )"
   ]
  },
  {
   "cell_type": "code",
   "execution_count": 91,
   "id": "16807a96-06ec-4e6e-8003-f4c4f835bde6",
   "metadata": {
    "tags": []
   },
   "outputs": [],
   "source": [
    "sorted(df.filter(pl.col(\"is_consumption\") == 0).select(\"seg\").unique()[\"seg\"].to_list())"
   ]
  },
  {
   "cell_type": "code",
   "execution_count": 27,
   "id": "5a535ad8-35f0-49e9-82d8-3ca42a761413",
   "metadata": {
    "tags": []
   },
   "outputs": [],
   "source": [
    "uniq_units = df.select(TGT_PK_COLS).unique().sort(TGT_PK_COLS)\n",
    "holdout_units = []\n",
    "for county, gp in uniq_units.group_by(\"county\"):\n",
    "    if county in [6, 12]: \n",
    "        assert len(gp) == 1\n",
    "        print(\"Only one unit in county, skip...\")\n",
    "        continue\n",
    "        \n",
    "    holdout_idx = random.randint(0, len(gp)-1)\n",
    "    holdout_unit = gp.row(holdout_idx)\n",
    "    county, is_business, product_type = holdout_unit\n",
    "    holdout_units.append(f\"{county}_{is_business}_{product_type}\")\n",
    "    print(f\"Holdout unit in county {county} (out of {len(gp)} units): county {county}, is_bus {is_business}, product_type {product_type}\")"
   ]
  },
  {
   "cell_type": "code",
   "execution_count": 28,
   "id": "b654b92c-5cfa-4a9f-b2b8-878169758999",
   "metadata": {
    "tags": []
   },
   "outputs": [],
   "source": [
    "holdout_units"
   ]
  },
  {
   "cell_type": "code",
   "execution_count": 29,
   "id": "08fe5d32-ed58-4d1c-95f3-5cb6717b2f39",
   "metadata": {
    "tags": []
   },
   "outputs": [],
   "source": [
    "tmp = uniq_units.to_pandas()\n",
    "tmp.head()"
   ]
  },
  {
   "cell_type": "code",
   "execution_count": 30,
   "id": "afb77ac2-f21a-4855-9ace-425bfa54d66c",
   "metadata": {},
   "outputs": [],
   "source": [
    "tmp2 = tmp.iloc[[0, 1, 3, 5, 7, 8 ,9]]\n",
    "tmp2"
   ]
  },
  {
   "cell_type": "code",
   "execution_count": 41,
   "id": "f4d88a25-714a-4ada-a90c-0d151971b78f",
   "metadata": {
    "tags": []
   },
   "outputs": [],
   "source": [
    "tscv = TSCV(3, 3, 0)"
   ]
  },
  {
   "cell_type": "code",
   "execution_count": 42,
   "id": "caa69d11-e467-4e16-9339-5337d8ecef96",
   "metadata": {},
   "outputs": [],
   "source": [
    "p_raw = _load_oof(\"0127-04_09_27\")\n",
    "p_diff = _load_oof(\"0127-04_17_21\")\n",
    "p_dcap = _load_oof(\"0127-04_24_36\")\n",
    "yp_raw = _align_oof(y_true_raw, [p_raw], tscv=tscv)\n",
    "yp_diff = _align_oof(y_true_diff, [p_diff], tscv=tscv)\n",
    "yp_dcap = _align_oof(y_true_div, [p_dcap], tscv=tscv)\n",
    "yp_raw.shape, yp_diff.shape, yp_dcap.shape"
   ]
  },
  {
   "cell_type": "code",
   "execution_count": 43,
   "id": "da37ad9f-6101-4bb3-95c3-11336d577892",
   "metadata": {
    "tags": []
   },
   "outputs": [],
   "source": [
    "yp_raw = yp_raw[yp_raw[\"is_consumption\"] == 0].reset_index(drop=True)\n",
    "yp_diff = yp_diff[yp_diff[\"is_consumption\"] == 0].reset_index(drop=True)\n",
    "yp_dcap = yp_dcap[yp_dcap[\"is_consumption\"] == 0].reset_index(drop=True)\n",
    "yp = (\n",
    "    yp_diff\n",
    "    .merge(yp_dcap[TGT_PK_COLS+[\"datetime\", \"oof0\"]], on=TGT_PK_COLS+[\"datetime\"], how=\"left\", suffixes=(\"_diff\", \"_dcap\"))\n",
    "    .merge(yp_raw[TGT_PK_COLS+[\"datetime\", \"oof0\"]], on=TGT_PK_COLS+[\"datetime\"], how=\"left\")\n",
    ")\n",
    "yp = yp.rename({\"oof0\": \"oof0_raw\"}, axis=1)\n",
    "yp[\"oof0_ens\"] = (yp[\"oof0_raw\"] + yp[\"oof0_diff\"]) / 2\n",
    "yp[\"seg\"] = yp[\"county\"].astype(str).str.cat(yp[\"is_business\"].astype(str),  sep=\"_\").str.cat(yp[\"product_type\"].astype(str),  sep=\"_\")\n",
    "yp.head()"
   ]
  },
  {
   "cell_type": "code",
   "execution_count": 47,
   "id": "434aa81f-7a9d-4c01-80cf-4761ea05e142",
   "metadata": {
    "collapsed": true,
    "jupyter": {
     "outputs_hidden": true
    },
    "tags": []
   },
   "outputs": [],
   "source": [
    "yp_unseen = yp[yp[\"seg\"].isin(holdout_units)].reset_index(drop=True)\n",
    "for pks, gp in yp_unseen.groupby(\"seg\"):\n",
    "    gp = gp.sort_values(\"datetime\")\n",
    "    gp = gp[gp[\"datetime\"] >= datetime(2022, 9, 1, 0)].reset_index(drop=True)\n",
    "    fig = go.Figure()\n",
    "    for col in [\"target\", \"oof0_raw\", \"oof0_diff\", \"oof0_ens\", \"oof0_dcap\"]:\n",
    "        fig.add_trace(go.Scatter(x=gp[\"datetime\"], y=gp[col], name=col))\n",
    "    fig.update_layout(title=f\"{pks}\")\n",
    "    fig.show()"
   ]
  },
  {
   "cell_type": "markdown",
   "id": "5ec06353-60f3-428b-afe1-473b20c47045",
   "metadata": {},
   "source": [
    "`dcap` still the best for unseen in prod."
   ]
  },
  {
   "cell_type": "code",
   "execution_count": 49,
   "id": "e6daf129-9396-449f-961f-2bed7ed8fc2f",
   "metadata": {
    "tags": []
   },
   "outputs": [],
   "source": [
    "_show_gp_prf(yp_unseen, is_cons=0)"
   ]
  },
  {
   "cell_type": "code",
   "execution_count": 56,
   "id": "327698e4-e521-4f57-b12b-dd86efc75cae",
   "metadata": {
    "tags": []
   },
   "outputs": [],
   "source": [
    "cc_raw = _load_oof(\"0127-04_12_14\")\n",
    "cc_diff = _load_oof(\"0127-04_19_51\")\n",
    "cc_dcap = _load_oof(\"0127-04_27_30\")\n",
    "ycc_raw = _align_oof(y_true_raw, [cc_raw], tscv=tscv)\n",
    "ycc_diff = _align_oof(y_true_diff, [cc_diff], tscv=tscv)\n",
    "ycc_dcap = _align_oof(y_true_div, [cc_dcap], tscv=tscv)\n",
    "ycc_raw.shape, ycc_diff.shape, ycc_dcap.shape"
   ]
  },
  {
   "cell_type": "code",
   "execution_count": 57,
   "id": "8d774744-4f9e-436a-ba3b-dcaa142104ff",
   "metadata": {
    "tags": []
   },
   "outputs": [],
   "source": [
    "ycc_raw = ycc_raw[(ycc_raw[\"is_consumption\"] == 1) & (ycc_raw[\"is_business\"] == 0)].reset_index(drop=True)\n",
    "ycc_diff = ycc_diff[(ycc_diff[\"is_consumption\"] ==1) & (ycc_diff[\"is_business\"] == 0)].reset_index(drop=True)\n",
    "ycc_dcap = ycc_dcap[(ycc_dcap[\"is_consumption\"] ==1) & (ycc_dcap[\"is_business\"] == 0)].reset_index(drop=True)\n",
    "ycc = (\n",
    "    ycc_diff\n",
    "    .merge(ycc_dcap[TGT_PK_COLS+[\"datetime\", \"oof0\"]], on=TGT_PK_COLS+[\"datetime\"], how=\"left\", suffixes=(\"_diff\", \"_dcap\"))\n",
    "    .merge(ycc_raw[TGT_PK_COLS+[\"datetime\", \"oof0\"]], on=TGT_PK_COLS+[\"datetime\"], how=\"left\")\n",
    ")\n",
    "ycc = ycc.rename({\"oof0\": \"oof0_raw\"}, axis=1)\n",
    "ycc[\"oof0_ens\"] = (ycc[\"oof0_raw\"] + ycc[\"oof0_diff\"]) / 2\n",
    "ycc[\"seg\"] = ycc[\"county\"].astype(str).str.cat(ycc[\"is_business\"].astype(str),  sep=\"_\").str.cat(ycc[\"product_type\"].astype(str),  sep=\"_\")\n",
    "ycc.head()"
   ]
  },
  {
   "cell_type": "code",
   "execution_count": 58,
   "id": "83fd4e25-db5e-4f56-94ba-1d2c98ece23c",
   "metadata": {
    "tags": []
   },
   "outputs": [],
   "source": [
    "ycc_unseen = ycc[ycc[\"seg\"].isin(holdout_units)].reset_index(drop=True)\n",
    "for pks, gp in ycc_unseen.groupby(\"seg\"):\n",
    "    gp = gp.sort_values(\"datetime\")\n",
    "    gp = gp[gp[\"datetime\"] >= datetime(2022, 9, 1, 0)].reset_index(drop=True)\n",
    "    fig = go.Figure()\n",
    "    for col in [\"target\", \"oof0_raw\", \"oof0_diff\", \"oof0_ens\", \"oof0_dcap\"]:\n",
    "        fig.add_trace(go.Scatter(x=gp[\"datetime\"], y=gp[col], name=col))\n",
    "    fig.update_layout(title=f\"{pks}\")\n",
    "    fig.show()"
   ]
  },
  {
   "cell_type": "markdown",
   "id": "d9051f7f-739c-464e-8a68-9d4b57d25382",
   "metadata": {},
   "source": [
    "Ensemble of `raw` and `diff` performs the best for unseen in cons_c. `dcap` is the best in fold0 but just sligtly better than ens."
   ]
  },
  {
   "cell_type": "code",
   "execution_count": 60,
   "id": "60da851c-4eb4-461f-9dd4-95a7618d9661",
   "metadata": {
    "tags": []
   },
   "outputs": [],
   "source": [
    "_show_gp_prf(ycc_unseen, is_cons=1, is_bus=0)"
   ]
  },
  {
   "cell_type": "code",
   "execution_count": 64,
   "id": "23ddf79c-abdb-4c43-9823-8b9abe69ea74",
   "metadata": {},
   "outputs": [],
   "source": [
    "cb_raw = _load_oof(\"0127-04_12_14\")\n",
    "cb_diff = _load_oof(\"0127-04_19_51\")\n",
    "cb_dcap = _load_oof(\"0127-04_30_57\")\n",
    "ycb_raw = _align_oof(y_true_raw, [cb_raw], tscv=tscv)\n",
    "ycb_diff = _align_oof(y_true_diff, [cb_diff], tscv=tscv)\n",
    "ycb_dcap = _align_oof(y_true_div, [cb_dcap], tscv=tscv)\n",
    "ycb_raw.shape, ycb_diff.shape, ycb_dcap.shape"
   ]
  },
  {
   "cell_type": "code",
   "execution_count": 65,
   "id": "6781c229-b16c-4f8b-81c0-9fc761c39df0",
   "metadata": {
    "tags": []
   },
   "outputs": [],
   "source": [
    "ycb_raw = ycb_raw[(ycb_raw[\"is_consumption\"] == 1) & (ycb_raw[\"is_business\"] == 1)].reset_index(drop=True)\n",
    "ycb_diff = ycb_diff[(ycb_diff[\"is_consumption\"] ==1) & (ycb_diff[\"is_business\"] == 1)].reset_index(drop=True)\n",
    "ycb_dcap = ycb_dcap[(ycb_dcap[\"is_consumption\"] ==1) & (ycb_dcap[\"is_business\"] == 1)].reset_index(drop=True)\n",
    "ycb = (\n",
    "    ycb_diff\n",
    "    .merge(ycb_dcap[TGT_PK_COLS+[\"datetime\", \"oof0\"]], on=TGT_PK_COLS+[\"datetime\"], how=\"left\", suffixes=(\"_diff\", \"_dcap\"))\n",
    "    .merge(ycb_raw[TGT_PK_COLS+[\"datetime\", \"oof0\"]], on=TGT_PK_COLS+[\"datetime\"], how=\"left\")\n",
    ")\n",
    "ycb = ycb.rename({\"oof0\": \"oof0_raw\"}, axis=1)\n",
    "ycb[\"oof0_ens\"] = (ycb[\"oof0_raw\"] + ycb[\"oof0_diff\"]) / 2\n",
    "ycb[\"seg\"] = ycb[\"county\"].astype(str).str.cat(ycb[\"is_business\"].astype(str),  sep=\"_\").str.cat(ycb[\"product_type\"].astype(str),  sep=\"_\")\n",
    "ycb.head()"
   ]
  },
  {
   "cell_type": "code",
   "execution_count": 66,
   "id": "a15cf8ea-7666-4ef9-9271-91e4279dfccb",
   "metadata": {
    "collapsed": true,
    "jupyter": {
     "outputs_hidden": true
    },
    "tags": []
   },
   "outputs": [],
   "source": [
    "ycb_unseen = ycb[ycb[\"seg\"].isin(holdout_units)].reset_index(drop=True)\n",
    "for pks, gp in ycb_unseen.groupby(\"seg\"):\n",
    "    gp = gp.sort_values(\"datetime\")\n",
    "    gp = gp[gp[\"datetime\"] >= datetime(2022, 9, 1, 0)].reset_index(drop=True)\n",
    "    fig = go.Figure()\n",
    "    for col in [\"target\", \"oof0_raw\", \"oof0_diff\", \"oof0_ens\", \"oof0_dcap\"]:\n",
    "        fig.add_trace(go.Scatter(x=gp[\"datetime\"], y=gp[col], name=col))\n",
    "    fig.update_layout(title=f\"{pks}\")\n",
    "    fig.show()"
   ]
  },
  {
   "cell_type": "markdown",
   "id": "5c2b19cd-473e-45cd-ad52-f3940d1763d7",
   "metadata": {},
   "source": [
    "`dcap` is always the best for unseen in cons_b.\n",
    "\n",
    "**But, note that `cons_b` is still the most tricky part.**"
   ]
  },
  {
   "cell_type": "code",
   "execution_count": 68,
   "id": "dfce3403-aa94-4ae5-afce-33c72879271e",
   "metadata": {
    "tags": []
   },
   "outputs": [],
   "source": [
    "_show_gp_prf(ycb_unseen, is_cons=1, is_bus=1)"
   ]
  },
  {
   "cell_type": "code",
   "execution_count": 69,
   "id": "e6eda8dd-9794-469c-b64c-03e367ec769c",
   "metadata": {
    "tags": []
   },
   "outputs": [],
   "source": [
    "cc_segs = (\n",
    "    df\n",
    "    .filter((pl.col(\"is_business\") == 0) & (pl.col(\"is_consumption\") == 1))\n",
    "    .select(TGT_PK_COLS+[\"is_consumption\"]).unique().sort(TGT_PK_COLS)\n",
    ")"
   ]
  },
  {
   "cell_type": "code",
   "execution_count": 71,
   "id": "cc918956-092c-471d-9222-24e1d0a8e96c",
   "metadata": {
    "tags": []
   },
   "outputs": [],
   "source": [
    "cc_segs = cc_segs.with_columns(\n",
    "    pl.concat_str(*(TGT_PK_COLS+[\"is_consumption\"]), separator=\"_\").alias(\"seg\")\n",
    ")\n",
    "cc_segs.head()"
   ]
  },
  {
   "cell_type": "code",
   "execution_count": 72,
   "id": "0ae12fec-7345-4e94-a360-05f239b51b87",
   "metadata": {
    "tags": []
   },
   "outputs": [],
   "source": [
    "cc_segs[\"seg\"].to_list()"
   ]
  },
  {
   "cell_type": "code",
   "execution_count": null,
   "id": "3125dea6-6c1f-47b1-965e-a202a483ce15",
   "metadata": {},
   "outputs": [],
   "source": []
  },
  {
   "cell_type": "code",
   "execution_count": null,
   "id": "92dcae54-1e64-461b-b968-3f3aa90fdb7d",
   "metadata": {},
   "outputs": [],
   "source": []
  },
  {
   "cell_type": "code",
   "execution_count": null,
   "id": "7f87c609-dc5b-44a6-ae58-4dfe1166988e",
   "metadata": {},
   "outputs": [],
   "source": []
  },
  {
   "cell_type": "code",
   "execution_count": null,
   "id": "1348edbb-71c6-43d7-87f5-174f8d3ca49c",
   "metadata": {},
   "outputs": [],
   "source": []
  },
  {
   "cell_type": "code",
   "execution_count": null,
   "id": "c59c38c7-5f58-4c33-84e6-770ea177794a",
   "metadata": {},
   "outputs": [],
   "source": []
  },
  {
   "cell_type": "code",
   "execution_count": null,
   "id": "6eb27210-e710-4032-b959-86857d2ba3bf",
   "metadata": {},
   "outputs": [],
   "source": []
  },
  {
   "cell_type": "markdown",
   "id": "ff2c80d7-7be5-413b-8858-e6564a1e355d",
   "metadata": {
    "jp-MarkdownHeadingCollapsed": true,
    "tags": []
   },
   "source": [
    "### *Prod*\n",
    "\n",
    "#### **Observation**\n",
    "1. Raw target model performs the best on fold1, which has the lowest value scale.\n",
    "2. Div target model performs significantly better than raw target model on fold 0 and 2.\n",
    "3. Div target model trained on either **raw** or **div** features is good at different periods. That is, sometimes raw features perform better, but div for another period.\n",
    "\n",
    "Hence, **dynamically adjusting model types** is worth trying. \n",
    "\n",
    "<div class=\"alert alert-block alert-warning\">\n",
    "    But, how to determine <strong>which to use</strong> and <strong>when to switch</strong>?\n",
    "</div>"
   ]
  },
  {
   "cell_type": "code",
   "execution_count": null,
   "id": "9828fbd5-2571-43a6-9280-a3fa1fae7ebb",
   "metadata": {
    "tags": []
   },
   "outputs": [],
   "source": [
    "# Check only prod part, cons oof is not filled\n",
    "oof_raw = np.load(\"./output/0115-20_10_29/preds/oof.npy\")  # Train prod on raw\n",
    "oof_div1 = np.load(\"./output/0116-01_11_11/preds/oof.npy\")  # Train prod on div with raw feats\n",
    "oof_div2 = np.load(\"./output/0116-06_38_33/preds/oof.npy\")  # Train prod on div with div feats"
   ]
  },
  {
   "cell_type": "code",
   "execution_count": null,
   "id": "1cf71e7c-7fa6-495e-84e3-6ed39a04fc28",
   "metadata": {
    "tags": []
   },
   "outputs": [],
   "source": [
    "y_raw = _align_oof(y_true_raw, [oof_raw])\n",
    "y_div = _align_oof(y_true_div, [oof_div1, oof_div2])\n",
    "y_raw.shape, y_div.shape"
   ]
  },
  {
   "cell_type": "code",
   "execution_count": null,
   "id": "6e1c1321-19b9-4665-893a-d07d7e40a89d",
   "metadata": {
    "tags": []
   },
   "outputs": [],
   "source": [
    "_show_gp_prf(y_raw, is_cons=0)\n",
    "print(\"-\"*50)\n",
    "_show_gp_prf(y_div, n_oofs=2, is_cons=0)"
   ]
  },
  {
   "cell_type": "code",
   "execution_count": null,
   "id": "c583ac54-ed25-4d96-bafe-88a334b4d679",
   "metadata": {
    "tags": []
   },
   "outputs": [],
   "source": [
    "line_styles = [\"r-\", \"g-\"]\n",
    "\n",
    "def _plot_pred(y: pd.DataFrame, pks: Tuple[int, ...], fold: int = 0) -> None:\n",
    "    county, is_bus, pt = pks\n",
    "    mask = (y.county == county) & (y.is_business == is_bus) & (y.product_type == pt)\n",
    "    y_tmp = y[mask]\n",
    "    oof_cols = [c for c in y.columns if f\"fold{fold}\" in c and \"oof\" in c]\n",
    "    \n",
    "    fig, ax = plt.subplots(figsize=(20, 3))\n",
    "    ax2 = ax.twinx()\n",
    "    ax.plot(y_tmp[\"datetime\"], y_tmp[\"target\"], \"b-\", label=\"gt\")\n",
    "    ax2.axhline(y=y_tmp[y_tmp[\"target\"] != 0][\"target\"].quantile(0.9), color=\"blue\", linestyle=\"--\")\n",
    "    # ax2.axhline(y=y_tmp[y_tmp[\"target\"] > 1e-3][\"target\"].quantile(0.5), color=\"blue\", linestyle=\"--\")\n",
    "    for i, c in enumerate(oof_cols):\n",
    "        ax.plot(y_tmp[\"datetime\"], y_tmp[c], line_styles[i], label=c)\n",
    "        ax2.axhline(y=y_tmp[y_tmp[c] != 0][c].quantile(0.9), color=line_styles[i][0], linestyle=\"--\")\n",
    "        # ax2.axhline(y=y_tmp[y_tmp[c] > 1e-3][c].quantile(0.5), color=line_styles[i][0], linestyle=\"--\")\n",
    "    ax.set_title(pks)\n",
    "    ax.legend()\n",
    "    plt.show()"
   ]
  },
  {
   "cell_type": "markdown",
   "id": "eeb6c04e-bd1b-4a7c-aeaa-b90cff1bb7db",
   "metadata": {},
   "source": [
    "1. 近夏的prod數值上升，且 quasi-zero 範圍受到壓縮 (*i.e.,* hour plot 兩側近0數值區域變窄)\n",
    "    * 日照時間增加\n",
    "    * 日照強度增強\n",
    "2. "
   ]
  },
  {
   "cell_type": "code",
   "execution_count": null,
   "id": "b87510b8-4ec1-4623-be2c-d2a91d40fe04",
   "metadata": {
    "tags": []
   },
   "outputs": [],
   "source": [
    "y_raw_pfold0 = y_raw.query(\"is_consumption == 0 and fold0_eval == 1\").reset_index(drop=True)\n",
    "y_div_pfold0 = y_div.query(\"is_consumption == 0 and fold0_eval == 1\").reset_index(drop=True)"
   ]
  },
  {
   "cell_type": "code",
   "execution_count": null,
   "id": "607a3d73-f577-4b8f-b497-9bbabe3bc254",
   "metadata": {
    "tags": []
   },
   "outputs": [],
   "source": [
    "y_raw_pfold0[\"hour\"] = y_raw_pfold0[\"datetime\"].dt.hour\n",
    "tgt_mean_by_hour = y_raw_pfold0.groupby(\"hour\").agg({\"target\": [\"mean\"]})\n",
    "fig, ax = plt.subplots(figsize=(12, 2))\n",
    "ax.plot(tgt_mean_by_hour.values)\n",
    "plt.show()"
   ]
  },
  {
   "cell_type": "code",
   "execution_count": null,
   "id": "da269daf-b626-4979-b15f-0e7b976a17bb",
   "metadata": {
    "tags": []
   },
   "outputs": [],
   "source": [
    "y_raw_pfold0[\"fold0_mae\"] = (y_raw_pfold0[\"target\"] - y_raw_pfold0[\"oof0_fold0\"]).abs()\n",
    "mae_by_hour = y_raw_pfold0.groupby(\"hour\").agg({\"fold0_mae\": [\"mean\"]})\n",
    "fig, ax = plt.subplots(figsize=(12, 2))\n",
    "ax.plot(mae_by_hour.values)\n",
    "plt.show()"
   ]
  },
  {
   "cell_type": "code",
   "execution_count": null,
   "id": "9a15b1c7-f91d-4ad6-8123-0482744bad89",
   "metadata": {
    "tags": []
   },
   "outputs": [],
   "source": [
    "uniq_pks = y_raw_pfold0[TGT_PK_COLS].drop_duplicates().values\n",
    "for pks in uniq_pks:\n",
    "    _plot_pred(y_raw_pfold0, tuple(pks), 0)\n",
    "    _plot_pred(y_div_pfold0, tuple(pks), 0)"
   ]
  },
  {
   "cell_type": "code",
   "execution_count": null,
   "id": "0fe91c9a-acde-4413-bd72-a6e835918a89",
   "metadata": {
    "tags": []
   },
   "outputs": [],
   "source": [
    "y_raw_pfold1 = y_raw.query(\"is_consumption == 0 and fold1_eval == 1\").reset_index(drop=True)\n",
    "y_div_pfold1 = y_div.query(\"is_consumption == 0 and fold1_eval == 1\").reset_index(drop=True)"
   ]
  },
  {
   "cell_type": "code",
   "execution_count": null,
   "id": "87e8d288-7ea1-4f3a-baae-d735af56bef4",
   "metadata": {
    "tags": []
   },
   "outputs": [],
   "source": [
    "y_raw_pfold1[\"hour\"] = y_raw_pfold1[\"datetime\"].dt.hour\n",
    "tgt_mean_by_hour = y_raw_pfold1.groupby(\"hour\").agg({\"target\": [\"mean\"]})\n",
    "fig, ax = plt.subplots(figsize=(12, 2))\n",
    "ax.plot(tgt_mean_by_hour.values)\n",
    "plt.show()"
   ]
  },
  {
   "cell_type": "code",
   "execution_count": null,
   "id": "2ddd8f7c-c7ec-4164-81db-be58cabf059f",
   "metadata": {
    "tags": []
   },
   "outputs": [],
   "source": [
    "y_raw_pfold1[\"fold1_mae\"] = (y_raw_pfold1[\"target\"] - y_raw_pfold1[\"oof0_fold1\"]).abs()\n",
    "mae_by_hour = y_raw_pfold1.groupby(\"hour\").agg({\"fold1_mae\": [\"mean\"]})\n",
    "fig, ax = plt.subplots(figsize=(12, 2))\n",
    "ax.plot(mae_by_hour.values)\n",
    "plt.show()"
   ]
  },
  {
   "cell_type": "code",
   "execution_count": null,
   "id": "46c531ba-c97c-4f03-9886-bcd9d233889d",
   "metadata": {
    "tags": []
   },
   "outputs": [],
   "source": [
    "mask = (y_raw_pfold1.county == 0) & (y_raw_pfold1.is_business == 0) & (y_raw_pfold1.product_type == 1)\n",
    "y_tmp = y_raw_pfold1[mask]\n",
    "\n",
    "fig = go.Figure()\n",
    "fig.add_trace(go.Scatter(x=y_tmp[\"datetime\"], y=y_tmp[\"target\"], name=\"target\"))\n",
    "fig.show()"
   ]
  },
  {
   "cell_type": "code",
   "execution_count": null,
   "id": "b8cb4516-50a0-42ce-b496-031f1c570cea",
   "metadata": {
    "tags": []
   },
   "outputs": [],
   "source": [
    "uniq_pks = y_raw_pfold1[TGT_PK_COLS].drop_duplicates().values\n",
    "for pks in uniq_pks:\n",
    "    _plot_pred(y_raw_pfold1, tuple(pks), 1)\n",
    "    _plot_pred(y_div_pfold1, tuple(pks), 1)"
   ]
  },
  {
   "cell_type": "code",
   "execution_count": null,
   "id": "7881a96e-6a71-4f9c-8d47-0e8697e37252",
   "metadata": {},
   "outputs": [],
   "source": []
  },
  {
   "cell_type": "code",
   "execution_count": null,
   "id": "d52bbb0e-2396-463a-b6cf-a255007b4877",
   "metadata": {},
   "outputs": [],
   "source": []
  },
  {
   "cell_type": "code",
   "execution_count": null,
   "id": "b3cc9327-54c2-4f41-a90a-4a599ac41b04",
   "metadata": {},
   "outputs": [],
   "source": []
  },
  {
   "cell_type": "code",
   "execution_count": null,
   "id": "d0ce2407-6ff6-4e08-8cab-2c50073da29b",
   "metadata": {},
   "outputs": [],
   "source": []
  },
  {
   "cell_type": "code",
   "execution_count": null,
   "id": "fadbb3e6-971d-4d12-a04c-fcfcd53d47be",
   "metadata": {},
   "outputs": [],
   "source": []
  },
  {
   "cell_type": "code",
   "execution_count": null,
   "id": "fb0ca060-32a3-4066-bc04-9a3504d1e73a",
   "metadata": {},
   "outputs": [],
   "source": []
  },
  {
   "cell_type": "markdown",
   "id": "4747b8ef-c46f-4498-b54a-61543e11fe9a",
   "metadata": {
    "jp-MarkdownHeadingCollapsed": true,
    "tags": []
   },
   "source": [
    "### *Cons*\n",
    "\n",
    "#### **Observation**\n",
    "1. `cons_c` performs better with div target models sep-trained on `cons_c` only.\n",
    "    * `cons_b` data is a drag on it.\n",
    "2. `cons_b` performs unstable on CV/LB (with no luck on sync).\n",
    "    * Div target models improve a lot on CV, but drop even larger on LB.\n",
    "    * Sep-training `cons_b` on raw target crashes on fold0, but work find for both fold1 & 2.\n",
    "        > Still have no idea here...\n",
    "3. `cons_c` can be trained without `fwth_g_mean` features. As for `cons_b`, including them performs better.\n",
    "4. `cons_b` can be trained without `hwth_l_mean_lag7d` features.\n",
    "\n",
    "In short, I now sep-train `cons_c` on div w/o `fwth_g_mean` and co-train `cons` for `cons_b` on raw w/ `fwth_g_mean`.\n",
    "\n",
    "<div class=\"alert alert-block alert-warning\">\n",
    "    Sep-training <code>cons_b</code> doesn't work on fold0.\n",
    "</div>"
   ]
  },
  {
   "cell_type": "code",
   "execution_count": null,
   "id": "7105c844-fcf1-460e-be85-0b2047fcfdb6",
   "metadata": {
    "tags": []
   },
   "outputs": [],
   "source": [
    "# Check only cons part, prod oof is not filled\n",
    "oof_raw = np.load(\"./output/0115-23_33_05/preds/oof.npy\")  # Co-train cons_c & cons_b on raw\n",
    "oof_div1 = np.load(\"./output/0116-01_22_38/preds/oof.npy\")  # Sep-train cons_c on div with raw feats\n",
    "oof_div2 = np.load(\"./output/0116-06_48_22/preds/oof.npy\")  # Sep-train cons_c on div with div feats"
   ]
  },
  {
   "cell_type": "code",
   "execution_count": null,
   "id": "bbc4cf42-1941-4229-a054-bdf5414becc2",
   "metadata": {
    "tags": []
   },
   "outputs": [],
   "source": [
    "y_raw = _align_oof(y_true_raw, [oof_raw])\n",
    "y_div = _align_oof(y_true_div, [oof_div1, oof_div2])\n",
    "y_raw.shape, y_div.shape"
   ]
  },
  {
   "cell_type": "code",
   "execution_count": null,
   "id": "5cc8740e-f563-4451-91bc-705f810496fc",
   "metadata": {
    "tags": []
   },
   "outputs": [],
   "source": [
    "y_comb = y_div.copy()\n",
    "y_comb = y_comb.merge(y_raw, on=TGT_PK_COLS+[\"is_consumption\", \"datetime\"], how=\"left\", suffixes=(\"\", \"_raw\"))\n",
    "mask = (y_comb[\"is_consumption\"] == 1) & (y_comb[\"is_business\"] == 1)\n",
    "for fold in range(3):\n",
    "    y_comb.loc[mask, f\"oof1_fold{fold}\"] = y_comb.loc[mask, f\"oof0_fold{fold}_raw\"]"
   ]
  },
  {
   "cell_type": "code",
   "execution_count": null,
   "id": "4868ac38-5945-4fbf-b000-80ad80b1a5c3",
   "metadata": {
    "tags": []
   },
   "outputs": [],
   "source": [
    "prfs = []\n",
    "y_comb_c = y_comb[y_comb[\"is_consumption\"] == 1].reset_index(drop=True)\n",
    "for fold in range(3):\n",
    "    y_tmp = y_comb_c[y_comb_c[f\"fold{fold}_eval\"] == 1]\n",
    "    prfs.append(mae(y_tmp[\"target\"], y_tmp[f\"oof1_fold{fold}\"]))\n",
    "prfs"
   ]
  },
  {
   "cell_type": "code",
   "execution_count": null,
   "id": "9a2e2e7e-7459-420b-8285-ff7633d1d325",
   "metadata": {
    "tags": []
   },
   "outputs": [],
   "source": [
    "np.mean(prfs)"
   ]
  },
  {
   "cell_type": "code",
   "execution_count": null,
   "id": "90375a37-7550-45ee-9f23-9a0b6ae72c71",
   "metadata": {
    "tags": []
   },
   "outputs": [],
   "source": [
    "_show_gp_prf(y_raw, is_cons=1)"
   ]
  },
  {
   "cell_type": "code",
   "execution_count": null,
   "id": "7e1ba3d2-5cd4-4ac0-b066-f5351dddc730",
   "metadata": {
    "tags": []
   },
   "outputs": [],
   "source": [
    "_show_gp_prf(y_div, \"target\", 2, is_cons=1)"
   ]
  },
  {
   "cell_type": "markdown",
   "id": "6508eafd-6e03-44c8-bff1-e63ffa6bbba6",
   "metadata": {
    "jp-MarkdownHeadingCollapsed": true,
    "tags": []
   },
   "source": [
    "#### **Compare `cons_c` on DCap and DEic Targets**\n",
    "Though `cons_c` targets show higher corr with `eic`, the performance doesn't improve."
   ]
  },
  {
   "cell_type": "code",
   "execution_count": null,
   "id": "8683f098-fb6c-4cc7-9568-1c11f97b65a4",
   "metadata": {
    "tags": []
   },
   "outputs": [],
   "source": [
    "oof_div1 = np.load(\"./output/0117-22_24_39/preds/oof.npy\")  # Sep-train cons_c on dcap with div feats\n",
    "oof_div2 = np.load(\"./output/0118-21_23_21/preds/oof.npy\")  # Sep-train cons_c on deic with div feats\n",
    "y_div = _align_oof(y_true_div, [oof_div1, oof_div2])\n",
    "_show_gp_prf(y_div, \"target\", 2, is_cons=1, is_bus=0)"
   ]
  },
  {
   "cell_type": "markdown",
   "id": "82c47ca2-bfcc-48a8-a8c0-b3771bfb0543",
   "metadata": {
    "tags": []
   },
   "source": [
    "#### **Check if `cons_b` Can Use Div Target Models**\n",
    "\n",
    "In this experiment, training cons_b with div_cap yields better performance on all folds (specially on fold 2). Also, co-training shows a little bit better but not that much.\n",
    "\n",
    "<div class=\"alert alert-danger alert-block\">\n",
    "    It's worth trying div_cap models again for cons_b. But, <strong>fail again</strong>.\n",
    "</div>"
   ]
  },
  {
   "cell_type": "code",
   "execution_count": null,
   "id": "83e897fc-d291-4d1e-9b2f-0dc9b718db39",
   "metadata": {
    "tags": []
   },
   "outputs": [],
   "source": [
    "# Check only cons_b part to verify cons_b prf using div again\n",
    "oof_raw = np.load(\"./output/0115-23_33_05/preds/oof.npy\")  # Co-train cons_c & cons_b on raw\n",
    "oof_div1 = np.load(\"./output/0116-23_43_51/preds/oof.npy\")  # Co-train cons_c & cons_b on dcap\n",
    "oof_div2 = np.load(\"./output/0118-21_33_07/preds/oof.npy\")  # Co-train cons_c & cons_b on deic\n",
    "# oof_div2 = np.load(\"./output/0116-23_36_16/preds/oof.npy\")  # Sep-train cons_b on div"
   ]
  },
  {
   "cell_type": "code",
   "execution_count": null,
   "id": "19c0def4-0a94-467a-85a9-b7e42b976d18",
   "metadata": {
    "tags": []
   },
   "outputs": [],
   "source": [
    "y_raw = _align_oof(y_true_raw, [oof_raw])\n",
    "y_div = _align_oof(y_true_div, [oof_div1, oof_div2])\n",
    "y_raw.shape, y_div.shape"
   ]
  },
  {
   "cell_type": "code",
   "execution_count": null,
   "id": "ec063a9d-14c3-4bb8-8131-923bb11dfcfc",
   "metadata": {
    "tags": []
   },
   "outputs": [],
   "source": [
    "y_comb = y_div.copy()\n",
    "y_comb = y_comb.merge(y_raw, on=TGT_PK_COLS+[\"is_consumption\", \"datetime\"], how=\"left\", suffixes=(\"\", \"_raw\"))\n",
    "mask = (y_comb[\"is_consumption\"] == 1) & (y_comb[\"is_business\"] == 1)\n",
    "for fold in range(3):\n",
    "    y_comb.loc[mask, f\"oof0_fold{fold}\"] = y_comb.loc[mask, f\"oof0_fold{fold}_raw\"]\n",
    "\n",
    "prfs = []\n",
    "y_comb_c = y_comb[y_comb[\"is_consumption\"] == 1].reset_index(drop=True)\n",
    "for fold in range(3):\n",
    "    y_tmp = y_comb_c[y_comb_c[f\"fold{fold}_eval\"] == 1]\n",
    "    prfs.append(mae(y_tmp[\"target\"], y_tmp[f\"oof0_fold{fold}\"]))\n",
    "prfs"
   ]
  },
  {
   "cell_type": "code",
   "execution_count": null,
   "id": "14f30d30-1c21-462b-99cf-283230b3ace3",
   "metadata": {
    "tags": []
   },
   "outputs": [],
   "source": [
    "_show_gp_prf(y_raw, is_cons=1)"
   ]
  },
  {
   "cell_type": "code",
   "execution_count": null,
   "id": "8e8ab135-937e-4cde-9dd2-6b093b1203a2",
   "metadata": {
    "tags": []
   },
   "outputs": [],
   "source": [
    "_show_gp_prf(y_div, n_oofs=2, is_cons=1)"
   ]
  },
  {
   "cell_type": "markdown",
   "id": "f5176752-e434-4c57-a604-5246550e1798",
   "metadata": {},
   "source": [
    "Let's see which units perform worse in `cons_b`."
   ]
  },
  {
   "cell_type": "code",
   "execution_count": null,
   "id": "a264ca18-9500-46d9-97da-58573433312e",
   "metadata": {
    "tags": []
   },
   "outputs": [],
   "source": [
    "y_raw_cb = y_raw.query(\"is_business == 1 and is_consumption == 1\").reset_index(drop=True)\n",
    "y_div_cb = y_div.query(\"is_business == 1 and is_consumption == 1\").reset_index(drop=True)\n",
    "y_raw_cb.shape, y_div_cb.shape"
   ]
  },
  {
   "cell_type": "code",
   "execution_count": null,
   "id": "3d2112b9-7cd2-4f3e-a8af-1c3c060d68f5",
   "metadata": {
    "tags": []
   },
   "outputs": [],
   "source": [
    "y_cb = y_raw_cb.merge(y_div_cb.drop(\"is_consumption\", axis=1), on=TGT_PK_COLS+[\"datetime\"], how=\"left\", suffixes=(\"\", \"_div\"))\n",
    "y_cb = y_cb.dropna().reset_index(drop=True)"
   ]
  },
  {
   "cell_type": "code",
   "execution_count": null,
   "id": "7b65d05c-2d5b-4c93-9753-c6526cc24f8c",
   "metadata": {
    "tags": []
   },
   "outputs": [],
   "source": [
    "y_cb.head()"
   ]
  },
  {
   "cell_type": "code",
   "execution_count": null,
   "id": "aabfa60c-d419-4b83-9a99-ebe8861613ec",
   "metadata": {
    "tags": []
   },
   "outputs": [],
   "source": [
    "n_supports_cb = y_cb.groupby(TGT_PK_COLS)[\"datetime\"].count().to_frame(\"n_supports\").reset_index()"
   ]
  },
  {
   "cell_type": "code",
   "execution_count": null,
   "id": "95c5b30d-459a-4538-956c-035af0b08145",
   "metadata": {
    "tags": []
   },
   "outputs": [],
   "source": [
    "y_cb_prf_report = None\n",
    "for fold in range(3):\n",
    "    print(f\"## Fold {fold} ##\")\n",
    "    y_cb_fold = y_cb[y_cb[f\"fold{fold}_eval\"] == 1].reset_index(drop=True)\n",
    "    prf_raw = y_cb_fold.groupby(TGT_PK_COLS).apply(lambda x: mae(x[\"target\"], x[f\"oof0_fold{fold}\"]))\n",
    "    prf_dcap  = y_cb_fold.groupby(TGT_PK_COLS).apply(lambda x: mae(x[\"target\"], x[f\"oof0_fold{fold}_div\"]))\n",
    "    prf_deic  = y_cb_fold.groupby(TGT_PK_COLS).apply(lambda x: mae(x[\"target\"], x[f\"oof1_fold{fold}\"]))\n",
    "    \n",
    "    prf_raw = prf_raw.to_frame(name=f\"mae_raw_fold{fold}\").reset_index()\n",
    "    prf_dcap = prf_dcap.to_frame(name=f\"mae_dcap_fold{fold}\").reset_index()\n",
    "    prf_deic = prf_deic.to_frame(name=f\"mae_deic_fold{fold}\").reset_index()\n",
    "    \n",
    "    prf_fold = prf_raw.merge(prf_dcap, on=TGT_PK_COLS, how=\"left\").merge(prf_deic, on=TGT_PK_COLS, how=\"left\")\n",
    "    if y_cb_prf_report is None:\n",
    "        y_cb_prf_report = prf_fold\n",
    "    else:\n",
    "        y_cb_prf_report = y_cb_prf_report.merge(prf_fold, on=TGT_PK_COLS, how=\"left\")\n",
    "y_cb_prf_report.head(1)"
   ]
  },
  {
   "cell_type": "code",
   "execution_count": null,
   "id": "a27901f3-03aa-4de4-ae5b-3d50bd4746eb",
   "metadata": {
    "tags": []
   },
   "outputs": [],
   "source": [
    "y_cb_prf_report = y_cb_prf_report.merge(n_supports_cb, on=TGT_PK_COLS, how=\"left\")"
   ]
  },
  {
   "cell_type": "markdown",
   "id": "39d2ffb1-0661-4e4e-aed5-424d58632a57",
   "metadata": {},
   "source": [
    "`n_supports` **for each val fold** will affect a unit's contribution to val score. And, this **weight** won't be the same in the test set."
   ]
  },
  {
   "cell_type": "code",
   "execution_count": null,
   "id": "78c3c13a-0649-4670-86ad-71f1a56bdd47",
   "metadata": {
    "tags": []
   },
   "outputs": [],
   "source": [
    "# Not so accurate approximation of improvement for row 0...\n",
    "# Suppose each val fold has complete 3-month period\n",
    "# Then in average, CV improves 17.5 per fold (per 3 months)\n",
    "# And, consumption of one unit contributes 1 / 2 (is_cons) / 69 (#units) score to total (if all units are equally-weighted)\n",
    "((33.6 + 18.9) / 3) / 2 / 69"
   ]
  },
  {
   "cell_type": "code",
   "execution_count": null,
   "id": "3f15a3cb-75a0-4c27-8915-82d20e817aed",
   "metadata": {
    "tags": []
   },
   "outputs": [],
   "source": [
    "for fold in range(3):\n",
    "    y_cb_prf_report[f\"mae_improve_dcap_fold{fold}\"] = y_cb_prf_report[f\"mae_raw_fold{fold}\"] - y_cb_prf_report[f\"mae_dcap_fold{fold}\"]\n",
    "    y_cb_prf_report[f\"mae_improve_deic_fold{fold}\"] = y_cb_prf_report[f\"mae_raw_fold{fold}\"] - y_cb_prf_report[f\"mae_deic_fold{fold}\"]\n",
    "    \n",
    "y_cb_prf_report[\"cv_improve_dcap\"] = (y_cb_prf_report[[f\"mae_improve_dcap_fold{fold}\" for fold in range(3)]] > 0).all(axis=1).values\n",
    "y_cb_prf_report[\"cv_improve_deic\"] = (y_cb_prf_report[[f\"mae_improve_deic_fold{fold}\" for fold in range(3)]] > 0).all(axis=1).values\n",
    "\n",
    "ycb_prf_report = y_cb_prf_report[[\"n_supports\"] + [c for c in y_cb_prf_report.columns if \"improve\" in c]]\n",
    "ycb_prf_report"
   ]
  },
  {
   "cell_type": "code",
   "execution_count": null,
   "id": "4c1f84f1-3e56-4ba2-a294-dd782d73de56",
   "metadata": {
    "tags": []
   },
   "outputs": [],
   "source": [
    "selected_dcap = ycb_prf_report[(ycb_prf_report[\"cv_improve_dcap\"])].index# | (ycb_prf_report[\"cv_improve_deic\"])]\n",
    "y_cb_prf_report.iloc[selected_dcap]"
   ]
  },
  {
   "cell_type": "code",
   "execution_count": null,
   "id": "68c4e392-ca38-4db4-a9da-c17ce38ad81b",
   "metadata": {
    "tags": []
   },
   "outputs": [],
   "source": [
    "l = []\n",
    "for i, r in y_cb_prf_report.iloc[selected_dcap][TGT_PK_COLS].iterrows():\n",
    "    l.append(f\"{r['county']}_1_{r['product_type']}_1\")"
   ]
  },
  {
   "cell_type": "markdown",
   "id": "bec3405b-5796-469b-b87f-0477d438ff83",
   "metadata": {},
   "source": [
    "Still fail to improve on these 8 selected segments using dcap models..."
   ]
  },
  {
   "cell_type": "code",
   "execution_count": null,
   "id": "30363ef0-a5e6-485e-866a-7f5e2d5eea41",
   "metadata": {
    "tags": []
   },
   "outputs": [],
   "source": [
    "l"
   ]
  },
  {
   "cell_type": "code",
   "execution_count": null,
   "id": "59645d4a-543b-4d29-a597-232605e6db3d",
   "metadata": {
    "tags": []
   },
   "outputs": [],
   "source": [
    "0.2 / 69"
   ]
  },
  {
   "cell_type": "code",
   "execution_count": null,
   "id": "637f746e-ae39-4d80-939f-ebbbc7fb53dd",
   "metadata": {},
   "outputs": [],
   "source": []
  },
  {
   "cell_type": "code",
   "execution_count": null,
   "id": "4e84ab41-3220-409d-9cda-700e60eb57c2",
   "metadata": {},
   "outputs": [],
   "source": []
  },
  {
   "cell_type": "code",
   "execution_count": null,
   "id": "f139905e-9d3a-4146-b337-2a2922702d1f",
   "metadata": {},
   "outputs": [],
   "source": []
  },
  {
   "cell_type": "markdown",
   "id": "0ae2387f-d9e3-45bb-ab2c-7252e12753e6",
   "metadata": {},
   "source": [
    "From the perspective of **average MAE among all units with `is_business == 1` (total 38 units)**, we will mis-interpret the performance improvement. Following fine-grained analysis shows that the improvement happens only on a small subset of units."
   ]
  },
  {
   "cell_type": "code",
   "execution_count": null,
   "id": "1c664160-53a7-4948-88bc-9bc83d34a3d2",
   "metadata": {
    "tags": []
   },
   "outputs": [],
   "source": [
    "y_cb_prf_report[[f\"mae_improve_dcap_fold{fold}\" for fold in range(3)]].sum() / len(y_cb_prf_report)"
   ]
  },
  {
   "cell_type": "code",
   "execution_count": null,
   "id": "310b534b-49f5-4511-b314-380a43b011a8",
   "metadata": {
    "tags": []
   },
   "outputs": [],
   "source": [
    "y_cb_prf_report[[f\"mae_improve_deic_fold{fold}\" for fold in range(3)]].sum() / len(y_cb_prf_report)"
   ]
  },
  {
   "cell_type": "code",
   "execution_count": null,
   "id": "7a7b6b75-cea0-46b4-bcb8-29b469e40692",
   "metadata": {
    "tags": []
   },
   "outputs": [],
   "source": []
  },
  {
   "cell_type": "code",
   "execution_count": null,
   "id": "fe6620f6-8857-4c0d-9ff7-f38fc8d33b0c",
   "metadata": {
    "tags": []
   },
   "outputs": [],
   "source": [
    "y_cb_prf_report[TGT_PK_COLS + [c for c in y_cb_prf_report.columns if \"eic\" in c and \"improve\" in c]]"
   ]
  },
  {
   "cell_type": "code",
   "execution_count": null,
   "id": "761ba390-f402-4419-becc-571eabc9bc19",
   "metadata": {
    "tags": []
   },
   "outputs": [],
   "source": [
    "y_cb_prf_report[y_cb_prf_report[\"cv_improve\"]]"
   ]
  },
  {
   "cell_type": "code",
   "execution_count": null,
   "id": "f5e9a181-5742-459b-93b1-2190ee4c1897",
   "metadata": {
    "tags": []
   },
   "outputs": [],
   "source": [
    "y_cb_prf_report[~y_cb_prf_report[\"cv_improve\"]].sort_values(\"corr_cap\")"
   ]
  },
  {
   "cell_type": "code",
   "execution_count": null,
   "id": "6c34a98b-2843-4edd-bc36-8d0a7198f49a",
   "metadata": {
    "tags": []
   },
   "outputs": [],
   "source": [
    "y_cb_prf_report.sort_values(\"corr_cap\")"
   ]
  },
  {
   "cell_type": "code",
   "execution_count": null,
   "id": "9b9a504d-3523-453a-9f1c-d85a1d1f4207",
   "metadata": {
    "tags": []
   },
   "outputs": [],
   "source": [
    "y_cb_prf_report = y_cb_prf_report.merge(df_corr[df_corr[\"is_consumption\"] == 1], on=TGT_PK_COLS, how=\"left\")\n",
    "y_cb_prf_report.head()"
   ]
  },
  {
   "cell_type": "code",
   "execution_count": null,
   "id": "45daf66b-2408-4a63-8056-3d1d9e3fbd2d",
   "metadata": {
    "tags": []
   },
   "outputs": [],
   "source": [
    "df_demo = df.filter((pl.col(\"county\") == 0) & (pl.col(\"is_business\") == 1) & (pl.col(\"product_type\") == 0))\n",
    "df_demo_p, df_demo_c = df_demo.filter(pl.col(\"is_consumption\") == 0), df_demo.filter(pl.col(\"is_consumption\") == 1)\n",
    "fig, ax = plt.subplots(figsize=(24, 3))\n",
    "ax2 = ax.twinx()\n",
    "ax.plot(df_demo_c[\"datetime\"], df_demo_c[\"target\"])\n",
    "ax2.plot(df_demo_c[\"datetime\"], df_demo_c[\"installed_capacity_lag2d\"])\n",
    "plt.show()"
   ]
  },
  {
   "cell_type": "code",
   "execution_count": null,
   "id": "c4de76bc-03b3-4bdb-ad7c-0030ad4bd533",
   "metadata": {
    "tags": []
   },
   "outputs": [],
   "source": [
    "df_bus = df.filter(pl.col(\"is_business\") == 1).select(TGT_PK_COLS + [\"is_consumption\", \"datetime\", \"target\", \"installed_capacity_lag2d\"])\n",
    "df_bus.head()"
   ]
  },
  {
   "cell_type": "code",
   "execution_count": null,
   "id": "48abe9ee-dba5-4beb-8c08-c15ef13e1217",
   "metadata": {
    "tags": []
   },
   "outputs": [],
   "source": [
    "df.group_by(TGT_PK_COLS).agg(pl.col(\"target\").count().alias(\"count\"))[\"count\"].max()"
   ]
  },
  {
   "cell_type": "code",
   "execution_count": null,
   "id": "5540ade7-1048-4a88-befa-fcfc28859a1f",
   "metadata": {
    "tags": []
   },
   "outputs": [],
   "source": [
    "N_SAMPS_TOT = 30624\n",
    "N_UNIQ_DTS = N_SAMPS_TOT // 2  # 15312 == df[\"datetime\"].n_unique()\n",
    "\n",
    "for pks, gp in df_bus.group_by(TGT_PK_COLS):\n",
    "    gp = gp.sort(\"datetime\")\n",
    "    seg = f\"county{pks[0]}-is_business{pks[1]}-product_type{pks[2]}\"\n",
    "    missing_ratio = (1 - (len(gp) / 2 / N_UNIQ_DTS)) * 100\n",
    "    cv_improve = y_cb_prf_report[(y_cb_prf_report[\"county\"] == pks[0]) \n",
    "                                 & (y_cb_prf_report[\"is_business\"] == pks[1]) \n",
    "                                 & (y_cb_prf_report[\"product_type\"] == pks[2])][\"cv_improve\"]\n",
    "    \n",
    "    fig = px.line(gp, x=\"datetime\", y=\"target\", color=\"is_consumption\")\n",
    "    fig.update_layout(title=f\"Seg {seg} with Missing Ratio {missing_ratio}, CV Improve {cv_improve}\")\n",
    "    fig.show()"
   ]
  },
  {
   "cell_type": "code",
   "execution_count": null,
   "id": "7229bd53-9ac7-4514-a78d-d15ee3d7e55a",
   "metadata": {
    "tags": []
   },
   "outputs": [],
   "source": [
    "for pks, gp in df_bus.group_by(TGT_PK_COLS):\n",
    "    print(pks, gp.select([\"target\", \"installed_capacity_lag2d\"]).filter(pl.col(\"installed_capacity_lag2d\").is_not_null() & pl.col(\"target\").is_not_null()).corr())"
   ]
  },
  {
   "cell_type": "code",
   "execution_count": null,
   "id": "4299fef0-6988-4e64-b17d-928d98198985",
   "metadata": {
    "tags": []
   },
   "outputs": [],
   "source": [
    "def _get_corr(gp):\n",
    "    gp = gp.dropna()\n",
    "    corr = gp.corr().values[0][1]\n",
    "    \n",
    "    return corr\n",
    "    \n",
    "df_tmp = df.select(TGT_PK_COLS + [\"is_consumption\", \"datetime\", \"target\"] + [\"installed_capacity_lag2d\", \"eic_count_lag2d\"]).to_pandas()\n",
    "df_corr_cap = df_tmp.groupby(TGT_PK_COLS+[\"is_consumption\"]).apply(lambda gp: _get_corr(gp[[\"target\", \"installed_capacity_lag2d\"]])).to_frame(name=\"corr_cap\")\n",
    "df_corr_eic = df_tmp.groupby(TGT_PK_COLS+[\"is_consumption\"]).apply(lambda gp: _get_corr(gp[[\"target\", \"eic_count_lag2d\"]])).to_frame(name=\"corr_eic\")\n",
    "df_corr = df_corr_cap.merge(df_corr_eic, on=TGT_PK_COLS+[\"is_consumption\"], how=\"left\").reset_index()"
   ]
  },
  {
   "cell_type": "code",
   "execution_count": null,
   "id": "3f4ad7d0-e897-4701-ac45-982dc8726bde",
   "metadata": {
    "tags": []
   },
   "outputs": [],
   "source": [
    "df_corr.head()"
   ]
  },
  {
   "cell_type": "code",
   "execution_count": null,
   "id": "a9572c34-6514-46a3-93aa-5ecddf4866e5",
   "metadata": {
    "tags": []
   },
   "outputs": [],
   "source": [
    "df_corr.groupby([\"is_consumption\", \"is_business\", \"product_type\"]).agg({\"corr_cap\": [\"mean\"], \"corr_eic\": [\"mean\"]})"
   ]
  },
  {
   "cell_type": "code",
   "execution_count": null,
   "id": "0716a36e-af14-4e30-acbd-89b2a3d806aa",
   "metadata": {},
   "outputs": [],
   "source": [
    "oof_raw = np.load(\"./output/0115-23_33_05/preds/oof.npy\")\n",
    "oof_dcap = np.load(\"./output/0117-22_24_39/preds/oof.npy\")\n"
   ]
  },
  {
   "cell_type": "code",
   "execution_count": null,
   "id": "1ade5667-1c71-419f-b79b-57017c8b22cc",
   "metadata": {},
   "outputs": [],
   "source": []
  },
  {
   "cell_type": "code",
   "execution_count": null,
   "id": "f9bab25f-ea38-4aef-93d4-eb52b2b21506",
   "metadata": {},
   "outputs": [],
   "source": []
  },
  {
   "cell_type": "code",
   "execution_count": null,
   "id": "8b58050e-4cb2-4871-9851-e29f473bea9a",
   "metadata": {},
   "outputs": [],
   "source": []
  },
  {
   "cell_type": "code",
   "execution_count": null,
   "id": "4ea9b357-3dae-4847-a1af-28da0745461b",
   "metadata": {},
   "outputs": [],
   "source": []
  },
  {
   "cell_type": "code",
   "execution_count": null,
   "id": "93116124-a012-4e79-a60e-1fe99f28c14c",
   "metadata": {},
   "outputs": [],
   "source": []
  },
  {
   "cell_type": "code",
   "execution_count": null,
   "id": "1d337a46-d84f-4ed1-9ba9-617e0128ec95",
   "metadata": {},
   "outputs": [],
   "source": []
  },
  {
   "cell_type": "markdown",
   "id": "85405a20-e566-4da1-ba0c-65b89bed7efb",
   "metadata": {
    "jp-MarkdownHeadingCollapsed": true,
    "tags": []
   },
   "source": [
    "#### **Compare Co-Train `cons` for `cons_b` on Raw Target w&w/o FWTH Global Mean**\n",
    "It's safe and better to remove `fwth_g_mean` features for training `cons_c` models (the same observation also holds for exp `0117-22_24_39` (sep-train `cons_c` div target model)). As for `cons_b`,"
   ]
  },
  {
   "cell_type": "code",
   "execution_count": null,
   "id": "47dc49b8-06bd-4e93-87eb-ef97e430b5a2",
   "metadata": {
    "tags": []
   },
   "outputs": [],
   "source": [
    "oof_raw1 = np.load(\"./output/0115-23_33_05/preds/oof.npy\")  # Co-train cons_c & cons_b on raw (w/ fwth_g_mean)\n",
    "oof_raw2 = np.load(\"./output/0117-22_11_28/preds/oof.npy\")  # Co-train cons_c & cons_b on raw (w/o fwth_g_mean)"
   ]
  },
  {
   "cell_type": "code",
   "execution_count": null,
   "id": "d4fcd201-1ba4-4b6e-a42c-13852d3ba538",
   "metadata": {
    "tags": []
   },
   "outputs": [],
   "source": [
    "y_raw = _align_oof(y_true_raw, [oof_raw1, oof_raw2])"
   ]
  },
  {
   "cell_type": "code",
   "execution_count": null,
   "id": "f59e68db-45cb-476b-9e17-f8962ee2f7e0",
   "metadata": {
    "tags": []
   },
   "outputs": [],
   "source": [
    "_show_gp_prf(y_raw, n_oofs=2, is_cons=1)"
   ]
  },
  {
   "cell_type": "markdown",
   "id": "c175f7d6-d7ee-4eff-86fd-a380316e0925",
   "metadata": {
    "jp-MarkdownHeadingCollapsed": true,
    "tags": []
   },
   "source": [
    "#### **Re-Study Feature Selection for `cons_b` on Raw**\n",
    "Restudying lets me decide to remove `hwth_l_mean_lag7d`."
   ]
  },
  {
   "cell_type": "code",
   "execution_count": null,
   "id": "fcf5e985-1386-44a3-9d7f-399be3c6c60f",
   "metadata": {
    "tags": []
   },
   "outputs": [],
   "source": [
    "with open(\"./data/processed/feats/v39_study.pkl\", \"rb\") as f:\n",
    "    feats1 = pickle.load(f)\n",
    "with open(\"./data/processed/feats/v6_cbstudy.pkl\", \"rb\") as f:\n",
    "    feats2 = pickle.load(f)\n",
    "set(feats1).difference(set(feats2))"
   ]
  },
  {
   "cell_type": "code",
   "execution_count": null,
   "id": "d09052b0-9cd1-4082-8cd3-cb9216d42946",
   "metadata": {
    "tags": []
   },
   "outputs": [],
   "source": [
    "oof_raw1 = np.load(\"./output/0115-23_33_05/preds/oof.npy\")  # #feats = 70\n",
    "# oof_raw1 = np.load(\"./output/0117-23_09_58/preds/oof.npy\") \n",
    "# oof_raw1 = np.load(\"./output/0117-23_13_02/preds/oof.npy\")\n",
    "# oof_raw2 = np.load(\"./output/0117-23_17_45/preds/oof.npy\")\n",
    "# oof_raw2 = np.load(\"./output/0117-23_36_55/preds/oof.npy\")\n",
    "oof_raw2 = np.load(\"./output/0117-23_43_37/preds/oof.npy\")  # #feats = 44\n",
    "oof_raw3 = np.load(\"./output/0117-23_59_11/preds/oof.npy\")  # #feats = 56\n",
    "y_raw = _align_oof(y_true_raw, [oof_raw1, oof_raw2, oof_raw3])\n",
    "_show_gp_prf(y_raw, n_oofs=3, is_cons=1, is_bus=1)"
   ]
  },
  {
   "cell_type": "markdown",
   "id": "6d0e35e0-94bf-423b-86fc-2e0d23e036a0",
   "metadata": {
    "jp-MarkdownHeadingCollapsed": true,
    "tags": []
   },
   "source": [
    "#### **Try `cons_b` on Diff Targets**\n",
    "For `cons_b`, sep-training on diff target performs better on fold1. Hence, we can decide to do the **co-training** (due to lower avg prf) or try to ensemble these two models.\n",
    "\n",
    "<div class=\"alert alert-block alert-danger\">\n",
    "    If we train models with different data sample base, we bring another level of diversity.\n",
    "</div>\n",
    "\n",
    "Submission (v5) using co-training fails to improve (but note `cons_c` changes too... with reduced feature set). Maybe, `cons_b` has the most diversity during different periods?? And, maybe I can test sep-training `cons_b` diff models.\n",
    "<!-- > Extend to see whether `target_diff_lag2d` is a promising target to use. -->"
   ]
  },
  {
   "cell_type": "code",
   "execution_count": null,
   "id": "f62bd9c3-6c09-42af-85d6-603faac966f6",
   "metadata": {
    "tags": []
   },
   "outputs": [],
   "source": [
    "oof_raw = np.load(\"./output/0117-23_59_11/preds/oof.npy\")\n",
    "oof_diff1 = np.load(\"./output/0118-00_15_30/preds/oof.npy\")  # Co-train cons_c & cons_b on diff with raw feats\n",
    "oof_diff2 = np.load(\"./output/0118-00_34_03/preds/oof.npy\")  # Sep-train cons_b on diff with raw feats"
   ]
  },
  {
   "cell_type": "code",
   "execution_count": null,
   "id": "b0dd35ec-d5be-4429-a015-249f532ee145",
   "metadata": {
    "tags": []
   },
   "outputs": [],
   "source": [
    "y_raw = _align_oof(y_true_raw, [oof_raw])\n",
    "y_diff = _align_oof(y_true_diff, [oof_diff1, oof_diff2])"
   ]
  },
  {
   "cell_type": "code",
   "execution_count": null,
   "id": "0cf2925b-523b-4d78-9324-8a28b5b51025",
   "metadata": {
    "tags": []
   },
   "outputs": [],
   "source": [
    "_show_gp_prf(y_raw, is_cons=1, is_bus=1)"
   ]
  },
  {
   "cell_type": "code",
   "execution_count": null,
   "id": "8ee41262-cc5f-483d-96bd-39767de8ed07",
   "metadata": {
    "tags": []
   },
   "outputs": [],
   "source": [
    "_show_gp_prf(y_diff, n_oofs=2, is_cons=1, is_bus=1)"
   ]
  },
  {
   "cell_type": "markdown",
   "id": "b56fcc68-a9a0-448a-a465-2e6d8eca526a",
   "metadata": {
    "jp-MarkdownHeadingCollapsed": true,
    "tags": []
   },
   "source": [
    "#### **Retry `cons_c` Raw on Simpler Feature Set w/ Sep/Co-Training**\n",
    "**Co-training** for `cons_c` raw is better. Also, no need to use `installed_capacity_lag2d` as a feature."
   ]
  },
  {
   "cell_type": "code",
   "execution_count": null,
   "id": "6dbf4ad5-42de-413d-8a05-b6944950d575",
   "metadata": {
    "tags": []
   },
   "outputs": [],
   "source": [
    "oof_raw0 = np.load(\"./output/0115-23_33_05/preds/oof.npy\") # Co #Feats 70\n",
    "# oof_raw1 = np.load(\"./output/0119-20_51_05/preds/oof.npy\") # Sep 56\n",
    "# oof_raw2 = np.load(\"./output/0119-20_55_13/preds/oof.npy\") # Co 56\n",
    "oof_raw3 = np.load(\"./output/0119-21_02_03/preds/oof.npy\") # Co 57 (+eic)\n",
    "# oof_raw4 = np.load(\"./output/0119-21_09_33/preds/oof.npy\") # Co 58 (+cap)\n",
    "\n",
    "y_raw = _align_oof(y_true_raw, [oof_raw0, oof_raw3])\n",
    "_show_gp_prf(y_raw, n_oofs=2, is_cons=1, is_bus=0)"
   ]
  },
  {
   "cell_type": "markdown",
   "id": "6471296e-a8fb-4059-9ae7-17912b182534",
   "metadata": {
    "jp-MarkdownHeadingCollapsed": true,
    "tags": []
   },
   "source": [
    "#### **Try Diff Models on `cons_c` w/ Raw Feats**\n",
    "`v47_study` is selected from the study above. Then, we decide whether to co-train or not for diff."
   ]
  },
  {
   "cell_type": "code",
   "execution_count": null,
   "id": "c5b79c73-7649-45e3-a472-af9fa2c4edd5",
   "metadata": {
    "tags": []
   },
   "outputs": [],
   "source": [
    "oof_raw0 = np.load(\"./output/0115-23_33_05/preds/oof.npy\")  # Co raw w/ #Feats 70\n",
    "oof_diff0 = np.load(\"./output/0119-21_34_08/preds/oof.npy\")  # Co diff w/ #Feats 55\n",
    "oof_diff1 = np.load(\"./output/0119-21_41_01/preds/oof.npy\")  # Sep diff w/ #Feats 55\n",
    "\n",
    "y_raw = _align_oof(y_true_raw, [oof_raw0])\n",
    "y_diff = _align_oof(y_true_diff, [oof_diff0, oof_diff1])\n",
    "_show_gp_prf(y_raw, is_cons=1, is_bus=0)\n",
    "print(\"-\"*20)\n",
    "_show_gp_prf(y_diff, n_oofs=2, is_cons=1, is_bus=0)"
   ]
  },
  {
   "cell_type": "markdown",
   "id": "12455d9a-40b7-4eae-979f-cbdb4c95963d",
   "metadata": {
    "jp-MarkdownHeadingCollapsed": true,
    "tags": []
   },
   "source": [
    "#### **Check `cons_b`**"
   ]
  },
  {
   "cell_type": "code",
   "execution_count": null,
   "id": "8a9ced5b-4b27-44a8-9102-8a6bd249015f",
   "metadata": {
    "tags": []
   },
   "outputs": [],
   "source": [
    "# oof_raw0 = np.load(\"./output/0119-22_24_31/preds/oof.npy\")  # Co raw w/ #Feats 56\n",
    "oof_raw1 = np.load(\"./output/0119-22_30_44/preds/oof.npy\")  # Co raw w/ #Feats 55 (-cap)\n",
    "# oof_dcap = np.load(\"./output/0119-22_38_28/preds/oof.npy\")  # Co dcap w/ #Feats 54\n",
    "oof_deic = np.load(\"./output/0119-22_43_06/preds/oof.npy\")  # Co deic w/ #Feats 54\n",
    "oof_diff = np.load(\"./output/0119-22_54_19/preds/oof.npy\")  # Co diff w/ #Feats 55\n",
    "\n",
    "y_raw = _align_oof(y_true_raw, [oof_raw1])\n",
    "y_div = _align_oof(y_true_div, [oof_deic])\n",
    "y_diff = _align_oof(y_true_diff, [oof_diff])\n",
    "_show_gp_prf(y_raw, is_cons=1, is_bus=1)\n",
    "print(\"-\"*50)\n",
    "_show_gp_prf(y_div, is_cons=1, is_bus=1)\n",
    "print(\"-\"*50)\n",
    "_show_gp_prf(y_diff, is_cons=1, is_bus=1)"
   ]
  },
  {
   "cell_type": "code",
   "execution_count": null,
   "id": "dcb25104-1bbf-4fb2-a87d-e68976535988",
   "metadata": {
    "tags": []
   },
   "outputs": [],
   "source": [
    "oof_raw0 = np.load(\"./output/0115-20_10_29/preds/oof.npy\")  # Co raw w/ #Feats 47\n",
    "oof_raw1 = np.load(\"./output/0119-23_17_00/preds/oof.npy\")  # Co raw w/ #Feats 46 (-eic)\n",
    "\n",
    "y_raw = _align_oof(y_true_raw, [oof_raw0, oof_raw1])\n",
    "_show_gp_prf(y_raw, n_oofs=2, is_cons=0)"
   ]
  },
  {
   "cell_type": "markdown",
   "id": "7ca478c6-5aeb-46bf-90f8-9dfc5f40b015",
   "metadata": {
    "tags": []
   },
   "source": [
    "## Model Selection and Ensemble Trials"
   ]
  },
  {
   "cell_type": "code",
   "execution_count": 7,
   "id": "11c17bb0-b0a6-4420-8781-a8317e89d9ae",
   "metadata": {
    "tags": []
   },
   "outputs": [],
   "source": [
    "tscv = TSCV(3, 3, 0)"
   ]
  },
  {
   "cell_type": "markdown",
   "id": "fa0b9e51-0d18-4fdb-99a1-c4950898ade2",
   "metadata": {
    "jp-MarkdownHeadingCollapsed": true,
    "tags": []
   },
   "source": [
    "### *Ensemble of Raw and Diff*\n",
    "In short, `x_raw` and `x_diff` can be averaged directly for both `p` and `c`.\n",
    "\n",
    "<div class=\"alert alert-block alert-danger\">\n",
    "    <p>If <code>cons_c</code> can be solely covered by <code>dcap</code>, we can handle it based on the stable solution proposed here.</p>\n",
    "</div>"
   ]
  },
  {
   "cell_type": "code",
   "execution_count": 9,
   "id": "0622c333-56f7-454b-b504-77d7f9fcd66b",
   "metadata": {
    "tags": []
   },
   "outputs": [],
   "source": [
    "p_raw = _load_oof(\"0125-20_29_55\")\n",
    "p_diff = _load_oof(\"0125-20_35_11\")\n",
    "y_p_raw = _align_oof(y_true_raw, [p_raw], tscv=tscv)\n",
    "y_p_diff = _align_oof(y_true_diff, [p_diff], tscv=tscv)\n",
    "y_p_raw = y_p_raw.query(\"is_consumption == 0\").reset_index(drop=True)\n",
    "y_p_diff = y_p_diff.query(\"is_consumption == 0\").reset_index(drop=True)\n",
    "y_p_raw.shape, y_p_diff.shape"
   ]
  },
  {
   "cell_type": "code",
   "execution_count": 10,
   "id": "1dd7b0b5-5977-48d6-892d-9e4ed67ab272",
   "metadata": {
    "tags": []
   },
   "outputs": [],
   "source": [
    "y_comb = y_p_diff.merge(\n",
    "    y_p_raw[TGT_PK_COLS+[\"datetime\", \"oof0\"]], \n",
    "    on=TGT_PK_COLS+[\"datetime\"], how=\"left\", validate=\"1:1\", suffixes=(\"_diff\", \"_raw\")\n",
    ")\n",
    "y_comb.head(1)"
   ]
  },
  {
   "cell_type": "code",
   "execution_count": 11,
   "id": "8c768ac8-39cf-4050-a7b3-7870be21b8b2",
   "metadata": {
    "tags": []
   },
   "outputs": [],
   "source": [
    "y_comb[\"oof0_ens\"] = (y_comb[\"oof0_diff\"] + y_comb[\"oof0_raw\"]) / 2\n",
    "_show_gp_prf(y_comb, is_cons=0)"
   ]
  },
  {
   "cell_type": "code",
   "execution_count": 8,
   "id": "4a00cee3-edab-4a1d-8938-5f49a62b4a83",
   "metadata": {
    "tags": []
   },
   "outputs": [],
   "source": [
    "c_raw = _load_oof(\"0125-20_02_27\")\n",
    "c_diff = _load_oof(\"0125-20_37_38\")\n",
    "y_c_raw = _align_oof(y_true_raw, [c_raw], tscv=tscv)\n",
    "y_c_diff = _align_oof(y_true_diff, [c_diff], tscv=tscv)\n",
    "y_c_raw = y_c_raw.query(\"is_consumption == 1\").reset_index(drop=True)\n",
    "y_c_diff = y_c_diff.query(\"is_consumption == 1\").reset_index(drop=True)\n",
    "y_c_raw.shape, y_c_diff.shape"
   ]
  },
  {
   "cell_type": "code",
   "execution_count": 9,
   "id": "2958e3ab-19d6-4527-92b0-8aa1b1129d56",
   "metadata": {
    "tags": []
   },
   "outputs": [],
   "source": [
    "y_c_comb = y_c_diff.merge(\n",
    "    y_c_raw[TGT_PK_COLS+[\"datetime\", \"oof0\"]], \n",
    "    on=TGT_PK_COLS+[\"datetime\"], how=\"left\", validate=\"1:1\", suffixes=(\"_diff\", \"_raw\")\n",
    ")\n",
    "y_c_comb.head(1)"
   ]
  },
  {
   "cell_type": "code",
   "execution_count": 10,
   "id": "62640c89-0dd5-4193-acbf-d6767301dc3d",
   "metadata": {
    "tags": []
   },
   "outputs": [],
   "source": [
    "y_c_comb[\"oof0_ens\"] = (y_c_comb[\"oof0_diff\"] + y_c_comb[\"oof0_raw\"]) / 2\n",
    "_show_gp_prf(y_c_comb, is_cons=1)"
   ]
  },
  {
   "cell_type": "code",
   "execution_count": null,
   "id": "cb7ec0ec-e990-464a-9c1a-e32abc0951e3",
   "metadata": {},
   "outputs": [],
   "source": []
  },
  {
   "cell_type": "code",
   "execution_count": null,
   "id": "761dc5b8-6ab2-4f43-8569-92e43b906ee9",
   "metadata": {},
   "outputs": [],
   "source": []
  },
  {
   "cell_type": "code",
   "execution_count": null,
   "id": "4100f1ea-f60a-46e2-886e-e1bfc4d50065",
   "metadata": {},
   "outputs": [],
   "source": []
  },
  {
   "cell_type": "code",
   "execution_count": null,
   "id": "7c87aeaf-9867-4aa5-8bce-2318f7bfa1a4",
   "metadata": {},
   "outputs": [],
   "source": []
  },
  {
   "cell_type": "markdown",
   "id": "340196a2-fb10-4cae-bcf7-c9f95d1f1333",
   "metadata": {},
   "source": [
    "### *Ensemble of XGB and LGBM*\n",
    "Hope there's more diversity among different models."
   ]
  },
  {
   "cell_type": "code",
   "execution_count": 17,
   "id": "9433ee6f-e949-4c18-b9be-c72af31fa109",
   "metadata": {
    "tags": []
   },
   "outputs": [],
   "source": [
    "oof_cols = [\"oof0_raw\", \"oof0_diff\", \"oof0_ens\", \"oof0_dcap\"]"
   ]
  },
  {
   "cell_type": "code",
   "execution_count": 18,
   "id": "6126ee68-0234-4231-bfdc-a5f5288a502c",
   "metadata": {
    "tags": []
   },
   "outputs": [],
   "source": [
    "yp.shape, ycc.shape, ycb.shape"
   ]
  },
  {
   "cell_type": "code",
   "execution_count": 19,
   "id": "de08aa76-4898-4703-b027-9d7e19f187b1",
   "metadata": {
    "tags": []
   },
   "outputs": [],
   "source": [
    "for c in oof_cols:\n",
    "    xl_ens_col = f\"{c}_xl\"\n",
    "    yp[xl_ens_col] = (yp[f\"{c}_xgb\"] + yp[f\"{c}_lgb\"]) / 2\n",
    "    ycc[xl_ens_col] = (ycc[f\"{c}_xgb\"] + ycc[f\"{c}_lgb\"]) / 2\n",
    "    ycb[xl_ens_col] = (ycb[f\"{c}_xgb\"] + ycb[f\"{c}_lgb\"]) / 2"
   ]
  },
  {
   "cell_type": "code",
   "execution_count": 30,
   "id": "78cb1dd8-bcdd-4725-bd10-e2ba2f3137b3",
   "metadata": {
    "collapsed": true,
    "jupyter": {
     "outputs_hidden": true
    },
    "tags": []
   },
   "outputs": [],
   "source": [
    "yp_prf_report = _show_gp_prf(yp, is_cons=0)"
   ]
  },
  {
   "cell_type": "code",
   "execution_count": 74,
   "id": "367e2bfa-209d-48f2-8474-63dbf4c83795",
   "metadata": {
    "collapsed": true,
    "jupyter": {
     "outputs_hidden": true
    },
    "tags": []
   },
   "outputs": [],
   "source": [
    "for fold, fold_prf in yp_prf_report.items():\n",
    "    print(f\">>> Fold {fold} <<<\")\n",
    "    for c in oof_cols:\n",
    "        cols = [c_ for c_ in fold_prf if c in c_]\n",
    "        display(fold_prf[cols])"
   ]
  },
  {
   "cell_type": "code",
   "execution_count": 86,
   "id": "6f5cdab0-8850-4695-8f4e-cb897854fee4",
   "metadata": {
    "tags": []
   },
   "outputs": [],
   "source": [
    "ycc.head(1)"
   ]
  },
  {
   "cell_type": "code",
   "execution_count": 20,
   "id": "a6e1bad4-b9c4-4848-8812-805a00a9f8cc",
   "metadata": {
    "tags": []
   },
   "outputs": [],
   "source": [
    "ycc[\"oof0_deic_xl\"] = (ycc[\"oof0_deic_xgb\"] + ycc[\"oof0_deic_lgb\"]) / 2\n",
    "ycc[\"oof0_div_xl\"] = (ycc[\"oof0_dcap_xl\"] + ycc[\"oof0_deic_xl\"]) / 2\n",
    "\n",
    "ycc_prf_report = _show_gp_prf(ycc, is_cons=1, is_bus=0)"
   ]
  },
  {
   "cell_type": "code",
   "execution_count": 77,
   "id": "646174a4-a848-48c5-b754-99e70c133cff",
   "metadata": {
    "collapsed": true,
    "jupyter": {
     "outputs_hidden": true
    },
    "tags": []
   },
   "outputs": [],
   "source": [
    "for fold, fold_prf in ycc_prf_report.items():\n",
    "    print(f\">>> Fold {fold} <<<\")\n",
    "    for c in oof_cols:\n",
    "        cols = [c_ for c_ in fold_prf if c in c_]\n",
    "        display(fold_prf[cols])"
   ]
  },
  {
   "cell_type": "code",
   "execution_count": 24,
   "id": "f8ea5453-9ef5-4cf8-b74f-48be5eb34995",
   "metadata": {
    "tags": []
   },
   "outputs": [],
   "source": [
    "import pandas as pd\n",
    "ycb = pd.read_csv(\"ycb_oof_final.csv\")"
   ]
  },
  {
   "cell_type": "code",
   "execution_count": 25,
   "id": "14b418c2-28bc-4f0f-b75a-da02d53d6ab2",
   "metadata": {
    "tags": []
   },
   "outputs": [],
   "source": [
    "ycb[\"oof0_deic_xl\"] = (ycb[\"oof0_deic_xgb\"] + ycb[\"oof0_deic_lgb\"]) / 2\n",
    "ycb[\"oof0_div_xl\"] = (ycb[\"oof0_dcap_xl\"] + ycb[\"oof0_deic_xl\"]) / 2\n",
    "ycb[\"oof0_ens2_xl\"] = (ycb[\"oof0_raw_xl\"] + ycb[\"oof0_diff_xl\"] + ycb[\"oof0_dcap_xl\"]) / 3\n",
    "ycb[\"oof0_ens3_xl\"] = (ycb[\"oof0_raw_xl\"] + ycb[\"oof0_diff_xl\"] + ycb[\"oof0_deic_xl\"]) / 3  # 13\n",
    "ycb[\"oof0_ens4_xl\"] = (ycb[\"oof0_raw_xl\"] + ycb[\"oof0_diff_xl\"] + ycb[\"oof0_dcap_xl\"] + ycb[\"oof0_deic_xl\"]) / 4  # V Test this 11 (CV best, LB drops 0.35)\n",
    "ycb[\"oof0_ens5_xl\"] = (ycb[\"oof0_raw_xl\"] + ycb[\"oof0_diff_xl\"] + ycb[\"oof0_div_xl\"]) / 3  # 14"
   ]
  },
  {
   "cell_type": "code",
   "execution_count": 28,
   "id": "63ddf447-4042-4cd8-baaa-d6b2445907de",
   "metadata": {
    "tags": []
   },
   "outputs": [],
   "source": [
    "ycb[\"datetime\"] = pd.to_datetime(ycb[\"datetime\"])"
   ]
  },
  {
   "cell_type": "code",
   "execution_count": 29,
   "id": "fb2b67b0-8174-4a59-9366-a811897afa15",
   "metadata": {
    "tags": []
   },
   "outputs": [],
   "source": [
    "ycb_prf_report = _show_gp_prf(ycb, is_cons=1, is_bus=1)"
   ]
  },
  {
   "cell_type": "code",
   "execution_count": null,
   "id": "a38ce9df-9850-4f38-b754-b3a8a8003039",
   "metadata": {
    "collapsed": true,
    "jupyter": {
     "outputs_hidden": true
    },
    "tags": []
   },
   "outputs": [],
   "source": [
    "for pks, gp in ycb.groupby(TGT_PK_COLS):\n",
    "    fig = go.Figure()\n",
    "    fig.add_trace(go.Scatter(x=gp[\"datetime\"], y=gp[\"target\"], name=\"target\"))\n",
    "    for oof_col in [\"oof0_dcap_xl\", \"oof0_deic_xl\"]:\n",
    "        fig.add_trace(go.Scatter(x=gp[\"datetime\"], y=gp[oof_col], name=oof_col))\n",
    "    fig.update_layout(title=f\"{pks}\")\n",
    "    \n",
    "    fig.show()"
   ]
  },
  {
   "cell_type": "code",
   "execution_count": null,
   "id": "098c98c4-c131-45e9-ad0f-2a8254257d5f",
   "metadata": {},
   "outputs": [],
   "source": []
  },
  {
   "cell_type": "code",
   "execution_count": null,
   "id": "8c3e6ced-d8ad-4547-b0f7-76b405de8d74",
   "metadata": {},
   "outputs": [],
   "source": []
  },
  {
   "cell_type": "code",
   "execution_count": null,
   "id": "82ecda45-6d20-426f-a62d-666b5ff6c343",
   "metadata": {},
   "outputs": [],
   "source": []
  },
  {
   "cell_type": "code",
   "execution_count": null,
   "id": "1faf0c2c-4944-4d73-b400-ac09fb082d44",
   "metadata": {},
   "outputs": [],
   "source": []
  },
  {
   "cell_type": "code",
   "execution_count": null,
   "id": "19e2fa6f-4831-4570-8df8-2906a1cdd00b",
   "metadata": {},
   "outputs": [],
   "source": []
  },
  {
   "cell_type": "code",
   "execution_count": null,
   "id": "e0a5be74-adef-4b63-b457-50b2a8ff91a5",
   "metadata": {},
   "outputs": [],
   "source": []
  },
  {
   "cell_type": "code",
   "execution_count": null,
   "id": "479b7264-cb54-4a10-9e36-336270ac0d92",
   "metadata": {},
   "outputs": [],
   "source": []
  },
  {
   "cell_type": "code",
   "execution_count": null,
   "id": "401b27d4-fdf5-4df7-b0eb-6716ed74cd3f",
   "metadata": {},
   "outputs": [],
   "source": []
  },
  {
   "cell_type": "code",
   "execution_count": null,
   "id": "d5382db9-2852-415e-a2e2-9ff13c93ea9e",
   "metadata": {},
   "outputs": [],
   "source": []
  },
  {
   "cell_type": "code",
   "execution_count": null,
   "id": "7d34466e-ebc5-4b72-b401-bd0b69475ffb",
   "metadata": {},
   "outputs": [],
   "source": []
  },
  {
   "cell_type": "code",
   "execution_count": null,
   "id": "3b589631-21e4-42a5-ab99-e24443910b63",
   "metadata": {},
   "outputs": [],
   "source": []
  },
  {
   "cell_type": "code",
   "execution_count": null,
   "id": "89034551-5722-436b-a794-e809aaa6ee98",
   "metadata": {},
   "outputs": [],
   "source": []
  },
  {
   "cell_type": "code",
   "execution_count": null,
   "id": "c28d6a6d-d164-4c3c-bab8-f03d6433cf91",
   "metadata": {},
   "outputs": [],
   "source": []
  },
  {
   "cell_type": "code",
   "execution_count": null,
   "id": "b9a5fdb0-5fa8-4d0c-beda-587d07809187",
   "metadata": {},
   "outputs": [],
   "source": []
  },
  {
   "cell_type": "code",
   "execution_count": null,
   "id": "a54c8dba-7016-4f1c-981b-11117420e1ea",
   "metadata": {},
   "outputs": [],
   "source": []
  },
  {
   "cell_type": "code",
   "execution_count": 33,
   "id": "19a18eaa-cbb8-4a1e-a217-5373bbfbb9b0",
   "metadata": {
    "tags": []
   },
   "outputs": [],
   "source": [
    "ycb_prf_report = _show_gp_prf(ycb, is_cons=1, is_bus=1)"
   ]
  },
  {
   "cell_type": "code",
   "execution_count": 79,
   "id": "80b94f03-ba81-4716-a7aa-c72c444cc61c",
   "metadata": {
    "tags": []
   },
   "outputs": [],
   "source": [
    "for fold, fold_prf in ycb_prf_report.items():\n",
    "    print(f\">>> Fold {fold} <<<\")\n",
    "    for c in oof_cols:\n",
    "        cols = [c_ for c_ in fold_prf if c in c_]\n",
    "        display(fold_prf[cols])"
   ]
  },
  {
   "cell_type": "code",
   "execution_count": 24,
   "id": "d639d867-bdda-46ce-8688-22a094eb5034",
   "metadata": {
    "tags": []
   },
   "outputs": [],
   "source": [
    "yp.to_csv(\"yp_oof_final.csv\", index=False)\n",
    "ycc.to_csv(\"ycc_oof_final.csv\", index=False)\n",
    "ycb.to_csv(\"ycb_oof_final.csv\", index=False)"
   ]
  },
  {
   "cell_type": "markdown",
   "id": "5d4bb3b8-1505-4387-b670-33e20b04c8fc",
   "metadata": {
    "jp-MarkdownHeadingCollapsed": true,
    "tags": []
   },
   "source": [
    "### *Prod*\n",
    "Now, simply take the average of predictions from models trained on `v1_dcap` and `v3_dcap`."
   ]
  },
  {
   "cell_type": "code",
   "execution_count": null,
   "id": "df3a5865-2e16-447a-8bcd-64d8f53b7882",
   "metadata": {
    "tags": []
   },
   "outputs": [],
   "source": [
    "EVAL_COLS = [f\"fold{i}_eval\" for i in range(3)]"
   ]
  },
  {
   "cell_type": "code",
   "execution_count": null,
   "id": "effdae3f-9982-4545-bda2-da23f9dc77a2",
   "metadata": {
    "tags": []
   },
   "outputs": [],
   "source": [
    "oof_p_raw = np.load(\"./output/0115-20_10_29/preds/oof.npy\")\n",
    "# oof_p_dcap1 = np.load(\"./output/0116-01_11_11/preds/oof.npy\")\n",
    "# oof_p_dcap2 = np.load(\"./output/0116-06_38_33/preds/oof.npy\")\n",
    "oof_p_dcap = np.load(\"./output/0121-03_53_12/preds/oof.npy\")\n",
    "yp_raw = _align_oof(y_true_raw, [oof_p_raw])\n",
    "yp_div = _align_oof(y_true_div, [oof_p_dcap])\n",
    "# for fold in range(3):\n",
    "    # yp_div[f\"oof_ens_fold{fold}\"] = (yp_div[f\"oof0_fold{fold}\"] + yp_div[f\"oof1_fold{fold}\"]) / 2"
   ]
  },
  {
   "cell_type": "code",
   "execution_count": null,
   "id": "65a64fd0-435e-499c-b095-d1eab9bc2885",
   "metadata": {
    "tags": []
   },
   "outputs": [],
   "source": [
    "yp = (\n",
    "    yp_raw\n",
    "    .merge(yp_div.drop(EVAL_COLS+[\"target\"], axis=1), on=TGT_PK_COLS+[\"is_consumption\", \"datetime\"], how=\"left\", suffixes=(\"_raw\", \"_dcap\"))\n",
    "    .dropna()\n",
    ")\n",
    "yp = yp[yp[\"is_consumption\"] == 0].reset_index(drop=True)\n",
    "yp.head(1)"
   ]
  },
  {
   "cell_type": "code",
   "execution_count": null,
   "id": "fbc405f0-b273-474f-9f6f-310e2c1c5247",
   "metadata": {
    "tags": []
   },
   "outputs": [],
   "source": [
    "yp[\"oof_ens\"] = (yp[\"oof0_raw\"] + yp[\"oof0_dcap\"]) / 2"
   ]
  },
  {
   "cell_type": "code",
   "execution_count": null,
   "id": "7134458d-b1ff-4cf7-870f-8ecc17d607d9",
   "metadata": {
    "tags": []
   },
   "outputs": [],
   "source": [
    "yp_prf_report = None\n",
    "for fold in range(3):\n",
    "    yp_fold = yp[yp[f\"fold{fold}_eval\"] == 1].reset_index(drop=True)\n",
    "    \n",
    "    # Raw\n",
    "    # prf_raw = yp_fold.groupby(TGT_PK_COLS).apply(lambda x: mae(x[\"target\"], x[f\"oof0_fold{fold}_raw\"]))\n",
    "    prf_raw = yp_fold.groupby(TGT_PK_COLS).apply(lambda x: mae(x[\"target\"], x[f\"oof0_raw\"]))\n",
    "    # Dcap\n",
    "    prf_dcap = yp_fold.groupby(TGT_PK_COLS).apply(lambda x: mae(x[\"target\"], x[f\"oof0_dcap\"]))\n",
    "    # prf_dcap1  = yp_fold.groupby(TGT_PK_COLS).apply(lambda x: mae(x[\"target\"], x[f\"oof0_fold{fold}_dcap\"]))\n",
    "    # prf_dcap2  = yp_fold.groupby(TGT_PK_COLS).apply(lambda x: mae(x[\"target\"], x[f\"oof1_fold{fold}\"]))\n",
    "    # Deic\n",
    "    # ...\n",
    "    # Ens\n",
    "    # prf_ens  = yp_fold.groupby(TGT_PK_COLS).apply(lambda x: mae(x[\"target\"], x[f\"oof_ens_fold{fold}\"]))\n",
    "    prf_ens = yp_fold.groupby(TGT_PK_COLS).apply(lambda x: mae(x[\"target\"], x[f\"oof_ens\"]))\n",
    "    \n",
    "    prf_raw = prf_raw.to_frame(name=f\"mae_raw_fold{fold}\").reset_index()\n",
    "    prf_dcap = prf_dcap.to_frame(name=f\"mae_dcap1_fold{fold}\").reset_index()\n",
    "    # prf_dcap1 = prf_dcap1.to_frame(name=f\"mae_dcap1_fold{fold}\").reset_index()\n",
    "    # prf_dcap2 = prf_dcap2.to_frame(name=f\"mae_dcap2_fold{fold}\").reset_index()\n",
    "    prf_ens = prf_ens.to_frame(name=f\"mae_ens_fold{fold}\").reset_index()\n",
    "    \n",
    "    prf_fold = (\n",
    "        prf_raw\n",
    "        .merge(prf_dcap, on=TGT_PK_COLS, how=\"left\")\n",
    "        # .merge(prf_dcap1, on=TGT_PK_COLS, how=\"left\")\n",
    "        # .merge(prf_dcap2, on=TGT_PK_COLS, how=\"left\")\n",
    "        .merge(prf_ens, on=TGT_PK_COLS, how=\"left\")\n",
    "    )\n",
    "    if yp_prf_report is None:\n",
    "        yp_prf_report = prf_fold\n",
    "    else:\n",
    "        yp_prf_report = yp_prf_report.merge(prf_fold, on=TGT_PK_COLS, how=\"left\")\n",
    "yp_prf_report.head(1)"
   ]
  },
  {
   "cell_type": "code",
   "execution_count": null,
   "id": "a42f5454-0d04-4583-9e23-c837b2e6c999",
   "metadata": {
    "tags": []
   },
   "outputs": [],
   "source": [
    "for fold in range(3):\n",
    "    yp_prf_report[f\"mae_improve_dcap1_fold{fold}\"] = yp_prf_report[f\"mae_raw_fold{fold}\"] - yp_prf_report[f\"mae_dcap1_fold{fold}\"]\n",
    "    yp_prf_report[f\"mae_improve_dcap2_fold{fold}\"] = yp_prf_report[f\"mae_raw_fold{fold}\"] - yp_prf_report[f\"mae_dcap2_fold{fold}\"] \n",
    "yp_prf_report.head()"
   ]
  },
  {
   "cell_type": "code",
   "execution_count": null,
   "id": "cc88088c-60c9-488b-8834-30eb39c178b3",
   "metadata": {
    "tags": []
   },
   "outputs": [],
   "source": [
    "prf_mean = yp_prf_report.mean()\n",
    "prf_mean[[c for c in prf_mean.index if \"ens\" in c]].mean()"
   ]
  },
  {
   "cell_type": "code",
   "execution_count": null,
   "id": "49381205-bca7-4b4f-8e61-1b729ed77b15",
   "metadata": {
    "tags": []
   },
   "outputs": [],
   "source": [
    "prf_mean"
   ]
  },
  {
   "cell_type": "code",
   "execution_count": null,
   "id": "747b8d93-aadf-497e-a415-872ad65d7a46",
   "metadata": {
    "tags": []
   },
   "outputs": [],
   "source": [
    "yp_prf_report[\"cv_degrade_dcap1\"] = ((yp_prf_report[\"mae_improve_dcap1_fold0\"] < 0) \n",
    "                                     & (yp_prf_report[\"mae_improve_dcap1_fold1\"] < 0)\n",
    "                                     & (yp_prf_report[\"mae_improve_dcap1_fold2\"] < 0)).values\n",
    "yp_prf_report[\"cv_degrade_dcap2\"] = ((yp_prf_report[\"mae_improve_dcap2_fold0\"] < 0) \n",
    "                                     & (yp_prf_report[\"mae_improve_dcap2_fold1\"] < 0)\n",
    "                                     & (yp_prf_report[\"mae_improve_dcap2_fold2\"] < 0)).values"
   ]
  },
  {
   "cell_type": "code",
   "execution_count": null,
   "id": "510815d1-b685-4168-9adc-d48d782edeec",
   "metadata": {
    "tags": []
   },
   "outputs": [],
   "source": [
    "df_demo = df.filter((pl.col(\"county\") == 4) & (pl.col(\"is_business\") == 0) & (pl.col(\"product_type\") == 1))\n",
    "df_demo_p, df_demo_c = df_demo.filter(pl.col(\"is_consumption\") == 0), df_demo.filter(pl.col(\"is_consumption\") == 1)\n",
    "fig, ax = plt.subplots(figsize=(24, 3))\n",
    "ax2 = ax.twinx()\n",
    "ax.plot(df_demo_p[\"datetime\"], df_demo_p[\"target\"])\n",
    "ax2.plot(df_demo_p[\"datetime\"], df_demo_p[\"installed_capacity_lag2d\"])\n",
    "plt.show()"
   ]
  },
  {
   "cell_type": "code",
   "execution_count": null,
   "id": "e4e512bb-4f7b-4ae6-a503-e0a1d359e4b5",
   "metadata": {
    "tags": []
   },
   "outputs": [],
   "source": [
    "_show_gp_prf(yp_raw, is_cons=0)\n",
    "_show_gp_prf(yp_div, n_oofs=2, is_cons=0)"
   ]
  },
  {
   "cell_type": "markdown",
   "id": "6e179367-7ba9-4a29-8849-23ebf52451d2",
   "metadata": {},
   "source": [
    "### *Cons_c*"
   ]
  },
  {
   "cell_type": "code",
   "execution_count": null,
   "id": "3eb5a069-5ccb-4218-9471-294e5d50214d",
   "metadata": {
    "tags": []
   },
   "outputs": [],
   "source": [
    "EVAL_COLS = [f\"fold{i}_eval\" for i in range(3)]"
   ]
  },
  {
   "cell_type": "code",
   "execution_count": null,
   "id": "65e7a24e-3858-4554-8730-606e05fe1960",
   "metadata": {
    "tags": []
   },
   "outputs": [],
   "source": [
    "oof_cc_raw = np.load(\"./output/0120-05_43_15/preds/oof.npy\")\n",
    "oof_cc_dcap = np.load(\"./output/0121-04_06_27/preds/oof.npy\")\n",
    "# oof_cc_deic = np.load(\"./output/0118-23_50_29/preds/oof.npy\")\n",
    "ycc_raw = _align_oof(y_true_raw, [oof_cc_raw])\n",
    "ycc_div = _align_oof(y_true_div, [oof_cc_dcap])#, oof_cc_deic])\n",
    "# for fold in range(3):\n",
    "    # ycc_div[f\"oof_ens_fold{fold}\"] = (ycc_div[f\"oof0_fold{fold}\"] + ycc_div[f\"oof1_fold{fold}\"]) / 2\n",
    "ycc_div.head(1)"
   ]
  },
  {
   "cell_type": "code",
   "execution_count": null,
   "id": "c0dba757-8adc-4dac-8e80-5ff778acbcb9",
   "metadata": {
    "tags": []
   },
   "outputs": [],
   "source": [
    "ycc = (\n",
    "    ycc_raw\n",
    "    .merge(\n",
    "        ycc_div.drop(EVAL_COLS+[\"target\", \"target_div_cap_lag2d\"], axis=1), \n",
    "        on=TGT_PK_COLS+[\"is_consumption\", \"datetime\"], how=\"left\", suffixes=(\"_raw\", \"_dcap\")\n",
    "    )\n",
    "    .dropna()\n",
    ")\n",
    "ycc = ycc[(ycc[\"is_consumption\"] == 1) & (ycc[\"is_business\"] == 0)].reset_index(drop=True)\n",
    "ycc.head(1)"
   ]
  },
  {
   "cell_type": "code",
   "execution_count": null,
   "id": "b3c39648-b579-4e4e-b2a1-9c185eb253ab",
   "metadata": {
    "tags": []
   },
   "outputs": [],
   "source": [
    "ycc[\"oof_ens\"] = (ycc[\"oof0_raw\"] + ycc[\"oof0_dcap\"]) / 2"
   ]
  },
  {
   "cell_type": "code",
   "execution_count": null,
   "id": "7b74997c-9a9d-440f-9e7d-cbde42febadc",
   "metadata": {
    "tags": []
   },
   "outputs": [],
   "source": [
    "ycc_prf_report = None\n",
    "for fold in range(3):\n",
    "    ycc_fold = ycc[ycc[f\"fold{fold}_eval\"] == 1].reset_index(drop=True)\n",
    "    \n",
    "    # Raw\n",
    "    # prf_raw = ycc_fold.groupby(TGT_PK_COLS).apply(lambda x: mae(x[\"target\"], x[f\"oof0_fold{fold}_raw\"]))\n",
    "    prf_raw = ycc_fold.groupby(TGT_PK_COLS).apply(lambda x: mae(x[\"target\"], x[f\"oof0_raw\"]))\n",
    "    # Dcap\n",
    "    # prf_dcap  = ycc_fold.groupby(TGT_PK_COLS).apply(lambda x: mae(x[\"target\"], x[f\"oof0_fold{fold}_div\"]))\n",
    "    prf_dcap  = ycc_fold.groupby(TGT_PK_COLS).apply(lambda x: mae(x[\"target\"], x[f\"oof0_dcap\"]))\n",
    "    # Deic\n",
    "    # prf_deic  = ycc_fold.groupby(TGT_PK_COLS).apply(lambda x: mae(x[\"target\"], x[f\"oof1_fold{fold}\"]))\n",
    "    # Ens\n",
    "    # prf_ens  = ycc_fold.groupby(TGT_PK_COLS).apply(lambda x: mae(x[\"target\"], x[f\"oof_ens_fold{fold}\"]))\n",
    "    prf_ens  = ycc_fold.groupby(TGT_PK_COLS).apply(lambda x: mae(x[\"target\"], x[f\"oof_ens\"]))\n",
    "    \n",
    "    prf_raw = prf_raw.to_frame(name=f\"mae_raw_fold{fold}\").reset_index()\n",
    "    prf_dcap = prf_dcap.to_frame(name=f\"mae_dcap_fold{fold}\").reset_index()\n",
    "    # prf_deic = prf_deic.to_frame(name=f\"mae_deic_fold{fold}\").reset_index()\n",
    "    prf_ens = prf_ens.to_frame(name=f\"mae_ens_fold{fold}\").reset_index()\n",
    "    \n",
    "    prf_fold = (\n",
    "        prf_raw\n",
    "        .merge(prf_dcap, on=TGT_PK_COLS, how=\"left\")\n",
    "        # .merge(prf_deic, on=TGT_PK_COLS, how=\"left\")\n",
    "        .merge(prf_ens, on=TGT_PK_COLS, how=\"left\")\n",
    "    )\n",
    "    if ycc_prf_report is None:\n",
    "        ycc_prf_report = prf_fold\n",
    "    else:\n",
    "        ycc_prf_report = ycc_prf_report.merge(prf_fold, on=TGT_PK_COLS, how=\"left\")\n",
    "ycc_prf_report.head(1)"
   ]
  },
  {
   "cell_type": "code",
   "execution_count": null,
   "id": "561602d5-295c-44c3-9d6e-79d0d1adac35",
   "metadata": {
    "tags": []
   },
   "outputs": [],
   "source": [
    "prf_mean = ycc_prf_report.mean()"
   ]
  },
  {
   "cell_type": "code",
   "execution_count": null,
   "id": "48480412-5617-4fcf-9bd4-8382ffb3ed31",
   "metadata": {
    "tags": []
   },
   "outputs": [],
   "source": [
    "prf_mean[[c for c in prf_mean.index if \"ens\" in c]].mean()"
   ]
  },
  {
   "cell_type": "markdown",
   "id": "51dc7635-be30-4c54-988a-e0ec3c212ae4",
   "metadata": {},
   "source": [
    "No luck on equally-weighted blending of raw target type and normalized one (`dcap` here)."
   ]
  },
  {
   "cell_type": "code",
   "execution_count": null,
   "id": "c668d3f4-1aea-42c9-9ed7-47871840365f",
   "metadata": {
    "tags": []
   },
   "outputs": [],
   "source": [
    "oof_cols = [c for c in ycc.columns if \"oof\" in c]\n",
    "for fold in range(3):\n",
    "    print(f\"## Fold {fold} ##\")\n",
    "    ycc_fold = ycc[ycc[f\"fold{fold}_eval\"] == 1].reset_index(drop=True)\n",
    "    \n",
    "    for c in oof_cols:\n",
    "        print(f\"{c:<10} | {mae(ycc_fold['target'], ycc_fold[c]):.4f}\")"
   ]
  },
  {
   "cell_type": "code",
   "execution_count": null,
   "id": "8e7613ec-f149-4738-92fc-fa73386443ad",
   "metadata": {},
   "outputs": [],
   "source": []
  },
  {
   "cell_type": "code",
   "execution_count": null,
   "id": "c8cfad2d-4cae-4408-a7a0-7e1049f1e80c",
   "metadata": {},
   "outputs": [],
   "source": []
  },
  {
   "cell_type": "markdown",
   "id": "9850ff55-119b-4c9c-9fd7-20654fc90254",
   "metadata": {
    "jp-MarkdownHeadingCollapsed": true,
    "tags": []
   },
   "source": [
    "## Target Engineering"
   ]
  },
  {
   "cell_type": "code",
   "execution_count": null,
   "id": "786b80fe-daa8-42ac-b84a-9161dbf8be16",
   "metadata": {
    "tags": []
   },
   "outputs": [],
   "source": [
    "cols = TGT_PK_COLS + [\"is_consumption\", \"datetime\"] + [\n",
    "    \"target\", \"target_diff_lag2d\", \"target_diff_lag1h\", \"installed_capacity_lag2d\", \"eic_count_lag2d\"\n",
    "]\n",
    "df = pl.read_parquet(\"./data/processed/base_feats.parquet\", columns=cols)\n",
    "df.head(1)"
   ]
  },
  {
   "cell_type": "code",
   "execution_count": null,
   "id": "a4445462-530f-4824-82d6-d35c9b92b729",
   "metadata": {
    "tags": []
   },
   "outputs": [],
   "source": [
    "df = df.with_columns([\n",
    "    (pl.col(\"target\") / pl.col(\"installed_capacity_lag2d\")).alias(\"target_div_cap_lag2d\"),\n",
    "    (pl.col(\"target\") / pl.col(\"eic_count_lag2d\")).alias(\"target_div_eic_lag2d\"),\n",
    "    # A little bit weird...\n",
    "    (pl.col(\"target\") / pl.col(\"installed_capacity_lag2d\") / pl.col(\"eic_count_lag2d\")).alias(\"target_div_capeic_lag2d\")\n",
    "])"
   ]
  },
  {
   "cell_type": "code",
   "execution_count": null,
   "id": "c2ab6589-bd9e-4011-a62d-4e33a983ade6",
   "metadata": {
    "tags": []
   },
   "outputs": [],
   "source": [
    "for pks, gp in df.group_by(TGT_PK_COLS):\n",
    "    gp = gp.sort(\"datetime\")\n",
    "    for is_cons, gp_ in gp.group_by(\"is_consumption\"):\n",
    "        fig, ax = plt.subplots(figsize=(20, 3))\n",
    "        ax2 = ax.twinx()\n",
    "        ax3 = ax.twinx()\n",
    "        l1 = ax.plot(gp_[\"datetime\"], gp_[\"target\"], \"r-\", label=\"target\")\n",
    "        # l2 = ax2.plot(gp_[\"datetime\"], gp_[\"target_diff_lag2d\"], \"g-\", label=\"target_diff_lag2d\")\n",
    "        # l3 = ax3.plot(gp_[\"datetime\"], gp_[\"target_diff_lag1h\"], \"b-\", label=\"target_diff_lag1h\")\n",
    "        l2 = ax2.plot(gp_[\"datetime\"], gp_[\"target_div_cap_lag2d\"], \"g-\", label=\"target_div_cap_lag2d\")\n",
    "        l3 = ax3.plot(gp_[\"datetime\"], gp_[\"target_div_capeic_lag2d\"], \"b-\", label=\"target_div_capeic_lag2d\")\n",
    "        ax.set_title(f\"PK {pks} - is_cons {is_cons}\")\n",
    "        lines = l1 + l2 + l3\n",
    "        labs = [l.get_label() for l in lines]\n",
    "        ax.legend(lines, labs, loc=0)\n",
    "        plt.tight_layout()\n",
    "# for is_cons, gp in df.group_by(\"is_consumption\"):\n",
    "#     fig, axes = plt.subplots(nrows=1, ncols=2, figsize=(18, 3))\n",
    "#     sns.histplot(gp[\"target\"], ax=axes[0])\n",
    "#     sns.histplot(gp[\"target_diff_lag2d\"], ax=axes[1])\n",
    "#     axes[0].set_title(f\"is_consumption == {is_cons}\")\n",
    "#     plt.tight_layout()"
   ]
  },
  {
   "cell_type": "code",
   "execution_count": null,
   "id": "f9075b66-34dc-4740-923e-572c67aabc87",
   "metadata": {
    "tags": []
   },
   "outputs": [],
   "source": [
    "df2 = pl.read_parquet(\"./data/processed/base_feats.parquet\", columns=[\"target_lag2d\"])\n",
    "df_prod = (\n",
    "    df\n",
    "    .filter(pl.col(\"is_consumption\") == 0)\n",
    "    .select([\"target\", \"target_div_cap_lag2d\", \"solar_temp_mul_cap\", \"solar_temp\"])\n",
    ").to_pandas()\n",
    "df_prod.corr()"
   ]
  },
  {
   "cell_type": "markdown",
   "id": "fe7a7496-9cf3-48b0-a309-f0f7457471ae",
   "metadata": {
    "jp-MarkdownHeadingCollapsed": true,
    "tags": []
   },
   "source": [
    "## Hyperopt\n",
    "1. Start from optimizing 3-fold average first.\n",
    "2. `Prod` models can be tuned toward optimizing fold0 and 2.\n",
    "    * Winter has much less production, leading to much smaller absolute values."
   ]
  },
  {
   "cell_type": "code",
   "execution_count": null,
   "id": "be6969d7-7b1c-46b1-aecf-d48b50ef58d5",
   "metadata": {
    "tags": []
   },
   "outputs": [],
   "source": [
    "def _get_n_boosts(exp_id, tgt_type):\n",
    "    with open(f\"./output/{exp_id}/models/models_ft.pkl\", \"rb\") as f:\n",
    "        models = pickle.load(f)[tgt_type]\n",
    "        print(models[0].get_params()[\"n_estimators\"])"
   ]
  },
  {
   "cell_type": "code",
   "execution_count": null,
   "id": "a67c83dc-bdc5-455f-8759-bb87dec937a9",
   "metadata": {
    "tags": []
   },
   "outputs": [],
   "source": [
    "dfp = df.filter(pl.col(\"is_consumption\") == 0)\n",
    "for _, gp in dfp.group_by(TGT_PK_COLS):\n",
    "    gp = gp.sort(\"datetime\").filter(pl.col(\"month\").is_in([2, 3, 4]))\n",
    "    fig, ax = plt.subplots(figsize=(20, 3))\n",
    "    ax.plot(gp[\"datetime\"], gp[\"target\"], \"g-\")\n",
    "    plt.show()"
   ]
  },
  {
   "cell_type": "markdown",
   "id": "43b2f5a3-b950-481a-8f7d-d47f505df580",
   "metadata": {
    "jp-MarkdownHeadingCollapsed": true,
    "tags": []
   },
   "source": [
    "### *Objective - 3-Fold Average MAE*\n",
    "1. `n_estimators` is also tuned without `early_stopping`, then the same number of rounds is used to perform the full-training.\n",
    "    * See if this strategy is more stable or not.\n",
    "\n",
    "<div class=\"alert alert-block alert-warning\">\n",
    "    <ul>\n",
    "        <li>Compared with the previous full-train models, <code>n_estimators</code> seems to be tuned too large.</li>\n",
    "        <li>Simple averaging makes it hard to <strong>optimize towards improving all folds</strong>, because folds with larger absolute values tend to dominate.</li>\n",
    "    </ul>\n",
    "</div>"
   ]
  },
  {
   "cell_type": "code",
   "execution_count": null,
   "id": "048fd6ec-761c-45f1-8ab9-7f17ff2d6176",
   "metadata": {
    "tags": []
   },
   "outputs": [],
   "source": [
    "p_raw = {\n",
    "    'n_estimators': 3272,\n",
    "    'max_depth': 17,\n",
    "    'learning_rate': 0.005499565418057996, \n",
    "    'subsample': 0.5232021875471389, \n",
    "    'colsample_bytree': 0.5517682211619086, \n",
    "    'min_child_weight': 46, \n",
    "    'reg_lambda': 7.710867901401653,\n",
    "    'reg_alpha': 5.994716082440484\n",
    "}\n",
    "\n",
    "p_dcap = {\n",
    "    'n_estimators': 1611,\n",
    "    'max_depth': 13,\n",
    "    'learning_rate': 0.017994299727415432,\n",
    "    'subsample': 0.5872164199858126,\n",
    "    'colsample_bytree': 0.8956794304715294,\n",
    "    'min_child_weight': 35,\n",
    "    'reg_lambda': 1.0025546071623943,\n",
    "    'reg_alpha': 1.775027307567779\n",
    "}"
   ]
  },
  {
   "cell_type": "code",
   "execution_count": null,
   "id": "ced79fdc-d87b-4a7d-be60-c78bdedf987f",
   "metadata": {
    "tags": []
   },
   "outputs": [],
   "source": [
    "p_diff = {\n",
    "    'n_estimators': 1059,\n",
    "    'max_depth': 12, \n",
    "    'learning_rate': 0.01823037962278971, \n",
    "    'subsample': 0.7196295603832561, \n",
    "    'colsample_bytree': 0.7959938190627037,\n",
    "    'min_child_weight': 58, \n",
    "    'reg_lambda': 8.285174248855046, \n",
    "    'reg_alpha': 5.9185604360041255\n",
    "}"
   ]
  },
  {
   "cell_type": "code",
   "execution_count": null,
   "id": "e59d956e-f93f-4081-8340-23d7be10d596",
   "metadata": {
    "tags": []
   },
   "outputs": [],
   "source": [
    "_get_n_boosts(\"0115-20_10_29\", \"prod\")\n",
    "_get_n_boosts(\"0116-06_38_33\", \"prod\")"
   ]
  },
  {
   "cell_type": "code",
   "execution_count": null,
   "id": "335f20a6-07fc-4342-8e0d-f6df866335fc",
   "metadata": {
    "tags": []
   },
   "outputs": [],
   "source": [
    "# oof_raw0 = np.load(\"./output/0115-20_10_29/preds/oof.npy\")\n",
    "# oof_raw1 = np.load(\"./output/0120-05_19_15/preds/oof.npy\")\n",
    "# oof_dcap0 = np.load(\"./output/0116-06_38_33/preds/oof.npy\")\n",
    "# oof_dcap1 = np.load(\"./output/0120-05_36_17/preds/oof.npy\")\n",
    "# oof_diff = np.load(\"./output/0121-21_17_24/preds/oof.npy\")\n",
    "\n",
    "# y_raw = _align_oof(y_true_raw, [oof_raw0, oof_raw1])\n",
    "# y_dcap = _align_oof(y_true_div, [oof_dcap0, oof_dcap1])\n",
    "# y_diff = _align_oof(y_true_diff, [oof_diff])\n",
    "_show_gp_prf(y_raw, n_oofs=2, is_cons=0)\n",
    "# print(\"-\"*100)\n",
    "# _show_gp_prf(y_dcap, n_oofs=2, is_cons=0)\n",
    "print(\"-\"*100)\n",
    "_show_gp_prf(y_diff, is_cons=0)"
   ]
  },
  {
   "cell_type": "code",
   "execution_count": null,
   "id": "7d434cc6-b3cf-4d07-ae67-c59731cfcb5c",
   "metadata": {},
   "outputs": [],
   "source": [
    "cc_raw = {\n",
    "    'n_estimators': 2119, \n",
    "    'max_depth': 11,\n",
    "    'learning_rate': 0.02628471380164376,\n",
    "    'subsample': 0.8249627938484039,\n",
    "    'colsample_bytree': 0.6109977210965566, \n",
    "    'min_child_weight': 74,\n",
    "    'reg_lambda': 9.645991955270116,\n",
    "    'reg_alpha': 2.17230282239441\n",
    "}\n",
    "\n",
    "cc_dcap = {\n",
    "    'n_estimators': 3489,\n",
    "    'max_depth': 10, \n",
    "    'learning_rate': 0.01744170513783469, \n",
    "    'subsample': 0.8763177070486217, \n",
    "    'colsample_bytree': 0.6244705073806986, \n",
    "    'min_child_weight': 64, \n",
    "    'reg_lambda': 8.790795849899114, \n",
    "    'reg_alpha': 3.3147859355902725\n",
    "}"
   ]
  },
  {
   "cell_type": "code",
   "execution_count": null,
   "id": "2a4a5b33-37cf-4484-850e-f2060d48bf75",
   "metadata": {},
   "outputs": [],
   "source": [
    "cc_diff = {\n",
    "    'n_estimators': 1766, \n",
    "    'max_depth': 11,\n",
    "    'learning_rate': 0.0508949261522572, \n",
    "    'subsample': 0.822485817561813, \n",
    "    'colsample_bytree': 0.7956527793876895,\n",
    "    'min_child_weight': 32, \n",
    "    'reg_lambda': 9.166962724982808, \n",
    "    'reg_alpha': 3.7871803214565576\n",
    "}"
   ]
  },
  {
   "cell_type": "code",
   "execution_count": null,
   "id": "7b440e43-f42a-4ed3-920e-ed6472414a03",
   "metadata": {
    "tags": []
   },
   "outputs": [],
   "source": [
    "_get_n_boosts(\"0115-23_33_05\", \"cons\")\n",
    "_get_n_boosts(\"0117-22_24_39\", \"cons_c\")"
   ]
  },
  {
   "cell_type": "code",
   "execution_count": null,
   "id": "5fa969b3-4202-4529-884c-adfbb7ab299a",
   "metadata": {
    "tags": []
   },
   "outputs": [],
   "source": [
    "# oof_raw0 = np.load(\"./output/0115-23_33_05/preds/oof.npy\")\n",
    "# oof_raw1 = np.load(\"./output/0120-05_43_15/preds/oof.npy\")\n",
    "# oof_dcap0 = np.load(\"./output/0117-22_24_39/preds/oof.npy\")\n",
    "# oof_dcap1 = np.load(\"./output/0120-05_57_48/preds/oof.npy\")\n",
    "# oof_diff = np.load(\"./output/0121-21_21_14/preds/oof.npy\")\n",
    "\n",
    "# y_raw = _align_oof(y_true_raw, [oof_raw0, oof_raw1])\n",
    "# y_dcap = _align_oof(y_true_div, [oof_dcap0, oof_dcap1])\n",
    "# y_diff = _align_oof(y_true_diff, [oof_diff])\n",
    "# _show_gp_prf(y_raw, n_oofs=2, is_cons=1, is_bus=0)\n",
    "# print(\"-\"*100)\n",
    "_show_gp_prf(y_dcap, n_oofs=2, is_cons=1, is_bus=0)\n",
    "print(\"-\"*100)\n",
    "_show_gp_prf(y_diff, is_cons=1, is_bus=0)"
   ]
  },
  {
   "cell_type": "code",
   "execution_count": null,
   "id": "0b114e79-a2ed-48b9-ad64-4182eb6b3e7e",
   "metadata": {},
   "outputs": [],
   "source": [
    "cb_raw = {\n",
    "    'n_estimators': 2548, \n",
    "    'max_depth': 10, \n",
    "    'learning_rate': 0.032437117465511506, \n",
    "    'subsample': 0.7974890446866353, \n",
    "    'colsample_bytree': 0.888041630069781, \n",
    "    'min_child_weight': 75, \n",
    "    'reg_lambda': 6.179939464269787,\n",
    "    'reg_alpha': 4.609848607103556\n",
    "}"
   ]
  },
  {
   "cell_type": "code",
   "execution_count": null,
   "id": "cd889093-baa4-4f56-8189-073cea0587fe",
   "metadata": {},
   "outputs": [],
   "source": [
    "cb_diff = {\n",
    "    'n_estimators': 1441, \n",
    "    'max_depth': 12, \n",
    "    'learning_rate': 0.026371036513663928,\n",
    "    'subsample': 0.6896954361355369, \n",
    "    'colsample_bytree': 0.795806184544626, \n",
    "    'min_child_weight': 38,\n",
    "    'reg_lambda': 4.738432519857696,\n",
    "    'reg_alpha': 3.065912455445833\n",
    "}"
   ]
  },
  {
   "cell_type": "code",
   "execution_count": null,
   "id": "18cfcfa7-2172-46cc-999d-d8e0c575304b",
   "metadata": {
    "tags": []
   },
   "outputs": [],
   "source": [
    "_get_n_boosts(\"0115-23_33_05\", \"cons\")"
   ]
  },
  {
   "cell_type": "code",
   "execution_count": null,
   "id": "3d60e4bc-736d-46c7-bd71-04a577482651",
   "metadata": {
    "tags": []
   },
   "outputs": [],
   "source": [
    "oof_raw0 = np.load(\"./output/0115-23_33_05/preds/oof.npy\")\n",
    "oof_raw1 = np.load(\"./output/0120-05_49_32/preds/oof.npy\")\n",
    "oof_diff = np.load(\"./output/0121-21_27_44/preds/oof.npy\")\n",
    "\n",
    "y_raw = _align_oof(y_true_raw, [oof_raw0, oof_raw1])\n",
    "y_diff = _align_oof(y_true_diff, [oof_diff])\n",
    "_show_gp_prf(y_raw, n_oofs=2, is_cons=1, is_bus=1)\n",
    "print(\"-\"*100)\n",
    "_show_gp_prf(y_diff, is_cons=1, is_bus=1)"
   ]
  },
  {
   "cell_type": "code",
   "execution_count": null,
   "id": "c70d6b84-659c-435b-a873-45b644557723",
   "metadata": {},
   "outputs": [],
   "source": []
  },
  {
   "cell_type": "markdown",
   "id": "ee7b766e-7c51-4a72-9e7f-07bd8022e95f",
   "metadata": {
    "tags": []
   },
   "source": [
    "### *Weighted-Sum*\n",
    "Try to use the **reciprocal** of absolute value of each fold as the weight to do the weighted-sum. Also, param range is adjusted to deter large `n_estimators`.\n",
    "\n",
    "* `p_raw`: 65.6, 5.5, 19.6\n",
    "* `p_dcap`: 53.1, 5.5, 18.0\n",
    "* `cc_raw`: 58.9, 59.9, 52.1\n",
    "* `cc_dcap`: 20.7, 22.2, 12.3\n",
    "* `cb_raw`: 59.1, 60.4, 51.0"
   ]
  },
  {
   "cell_type": "code",
   "execution_count": null,
   "id": "b54e3c73-ab75-4372-a82e-41d099f6737b",
   "metadata": {
    "tags": []
   },
   "outputs": [],
   "source": [
    "# Analyze results and submit\n",
    "p_raw = {\n",
    "    'n_estimators': 1050, \n",
    "    'max_depth': 14, \n",
    "    'learning_rate': 0.006171653081117129, \n",
    "    'subsample': 0.5461824377861024,\n",
    "    'colsample_bytree': 0.5465586059284265, \n",
    "    'min_child_weight': 96, \n",
    "    'reg_lambda': 7.934264606984861, \n",
    "    'reg_alpha': 4.535325024412783\n",
    "}\n",
    "\n",
    "p_dcap = {\n",
    "    'n_estimators': 1996,\n",
    "    'max_depth': 14, \n",
    "    'learning_rate': 0.01186543783692056,\n",
    "    'subsample': 0.8472929778680405,\n",
    "    'colsample_bytree': 0.6469755440265882,\n",
    "    'min_child_weight': 67,\n",
    "    'reg_lambda': 6.730069451296407, \n",
    "    'reg_alpha': 1.031292180756135\n",
    "}"
   ]
  },
  {
   "cell_type": "code",
   "execution_count": null,
   "id": "044f17ac-8170-4cc8-98db-7fc59b7ec1d4",
   "metadata": {
    "tags": []
   },
   "outputs": [],
   "source": [
    "_get_n_boosts(\"0115-20_10_29\", \"prod\")"
   ]
  },
  {
   "cell_type": "code",
   "execution_count": null,
   "id": "8ab49834-b820-41d9-bca5-e2e0468d2bf8",
   "metadata": {
    "tags": []
   },
   "outputs": [],
   "source": [
    "oof_raw0 = np.load(\"./output/0115-20_10_29/preds/oof.npy\")\n",
    "oof_raw1 = np.load(\"./output/0121-03_48_25/preds/oof.npy\")\n",
    "oof_dcap0 = np.load(\"./output/0116-06_38_33/preds/oof.npy\")\n",
    "oof_dcap1 = np.load(\"./output/0121-03_53_12/preds/oof.npy\")\n",
    "\n",
    "y_raw = _align_oof(y_true_raw, [oof_raw0, oof_raw1])\n",
    "y_dcap = _align_oof(y_true_div, [oof_dcap0, oof_dcap1])\n",
    "_show_gp_prf(y_raw, n_oofs=2, is_cons=0)\n",
    "print(\"-\"*100)\n",
    "_show_gp_prf(y_dcap, n_oofs=2, is_cons=0)"
   ]
  },
  {
   "cell_type": "code",
   "execution_count": null,
   "id": "f3c94b67-49e0-4b1f-8e20-4ba1c9099219",
   "metadata": {},
   "outputs": [],
   "source": [
    "cc_raw = {\n",
    "    'n_estimators': 1538, \n",
    "    'max_depth': 9,\n",
    "    'learning_rate': 0.024714370640009777, \n",
    "    'subsample': 0.5244357826941424, \n",
    "    'colsample_bytree': 0.799105797732745,\n",
    "    'min_child_weight': 47,\n",
    "    'reg_lambda': 2.056119071376674, \n",
    "    'reg_alpha': 6.807443188128239\n",
    "}\n",
    "\n",
    "cc_dcap = {\n",
    "    'n_estimators': 888,\n",
    "    'max_depth': 8, \n",
    "    'learning_rate': 0.050299241710676984, \n",
    "    'subsample': 0.5705618314533405, \n",
    "    'colsample_bytree': 0.5609511408421737, \n",
    "    'min_child_weight': 43, \n",
    "    'reg_lambda': 1.909626132821252,\n",
    "    'reg_alpha': 1.5886554604305623\n",
    "}"
   ]
  },
  {
   "cell_type": "code",
   "execution_count": null,
   "id": "3fffdb4f-98c3-446c-b83c-c4b9b1f680de",
   "metadata": {
    "tags": []
   },
   "outputs": [],
   "source": [
    "_get_n_boosts(\"0117-22_24_39\", \"cons_c\")"
   ]
  },
  {
   "cell_type": "code",
   "execution_count": null,
   "id": "98fd4ea1-aa2a-4501-bf5a-eb78e06aada6",
   "metadata": {
    "tags": []
   },
   "outputs": [],
   "source": [
    "oof_raw0 = np.load(\"./output/0115-23_33_05/preds/oof.npy\")\n",
    "oof_raw1 = np.load(\"./output/0121-04_01_58/preds/oof.npy\")\n",
    "oof_dcap0 = np.load(\"./output/0117-22_24_39/preds/oof.npy\")\n",
    "oof_dcap1 = np.load(\"./output/0121-04_06_27/preds/oof.npy\")\n",
    "\n",
    "y_raw = _align_oof(y_true_raw, [oof_raw0, oof_raw1])\n",
    "y_dcap = _align_oof(y_true_div, [oof_dcap0, oof_dcap1])\n",
    "_show_gp_prf(y_raw, n_oofs=2, is_cons=1, is_bus=0)\n",
    "print(\"-\"*20)\n",
    "_show_gp_prf(y_dcap, n_oofs=2, is_cons=1, is_bus=0)"
   ]
  },
  {
   "cell_type": "code",
   "execution_count": null,
   "id": "1c3a3bce-b618-4cc9-8094-81f5732bbe43",
   "metadata": {},
   "outputs": [],
   "source": [
    "cb_raw = {\n",
    "    'n_estimators': 1906, \n",
    "    'max_depth': 12, \n",
    "    'learning_rate': 0.013687421319162753, \n",
    "    'subsample': 0.6840228457764439, \n",
    "    'colsample_bytree': 0.6685084039224304,\n",
    "    'min_child_weight': 62, \n",
    "    'reg_lambda': 6.051677441271481, \n",
    "    'reg_alpha': 3.8547135235031207\n",
    "}"
   ]
  },
  {
   "cell_type": "code",
   "execution_count": null,
   "id": "f544478f-9508-4d08-a4ef-3d3febf1eb5b",
   "metadata": {
    "tags": []
   },
   "outputs": [],
   "source": [
    "oof_raw0 = np.load(\"./output/0115-23_33_05/preds/oof.npy\")\n",
    "oof_raw1 = np.load(\"./output/0121-04_09_10/preds/oof.npy\")\n",
    "\n",
    "y_raw = _align_oof(y_true_raw, [oof_raw0, oof_raw1])\n",
    "_show_gp_prf(y_raw, n_oofs=2, is_cons=1, is_bus=1)"
   ]
  },
  {
   "cell_type": "markdown",
   "id": "874ac3a2-6225-43ff-86f3-2292749f25a0",
   "metadata": {},
   "source": [
    "## Post-Processing"
   ]
  },
  {
   "cell_type": "markdown",
   "id": "74d82e67-d1e7-440a-9328-d6302c6ceb8e",
   "metadata": {},
   "source": [
    "### *Dynamically-Selected Models*\n",
    "#### **Use Near Error as an Indicator to Switch Models**\n",
    "Consider P/C error at the same time when switching models???"
   ]
  },
  {
   "cell_type": "code",
   "execution_count": 91,
   "id": "ee7c52e6-35e9-4874-886a-c06f498144a2",
   "metadata": {
    "tags": []
   },
   "outputs": [],
   "source": [
    "EVAL_COLS = [f\"fold{i}_eval\" for i in range(3)]"
   ]
  },
  {
   "cell_type": "code",
   "execution_count": 95,
   "id": "538178dd-3190-448c-ae54-83621b7f92c1",
   "metadata": {
    "tags": []
   },
   "outputs": [],
   "source": [
    "yp_val = (\n",
    "    yp\n",
    "    # .drop([\"is_consumption\", \"target_div_cap_lag2d\"], axis=1)\n",
    "    .drop(yp[(yp[EVAL_COLS] == 0).all(axis=1)].index, axis=0)\n",
    "    .reset_index(drop=True)\n",
    ")\n",
    "yp_val[\"seg\"] = yp_val[\"county\"].astype(str).str.cat(yp_val[\"is_business\"].astype(str), sep=\"_\").str.cat(yp_val[\"product_type\"].astype(str), sep=\"_\")\n",
    "yp_val.head(1)"
   ]
  },
  {
   "cell_type": "code",
   "execution_count": 97,
   "id": "ce878187-d41f-42ea-a028-b32d95c64d56",
   "metadata": {
    "tags": []
   },
   "outputs": [],
   "source": [
    "oof_cands = [c for c in yp_val.columns if \"oof\" in c and \"xl\" in c]\n",
    "oof_cands"
   ]
  },
  {
   "cell_type": "code",
   "execution_count": null,
   "id": "1ab25f2b-306d-4362-92fa-1e18d5d601f0",
   "metadata": {
    "tags": []
   },
   "outputs": [],
   "source": [
    "for fold in range(3):\n",
    "    print(f\"## Fold {fold} ##\")\n",
    "\n",
    "    yp_fold = yp_val[yp_val[f\"fold{fold}_eval\"] == 1].reset_index(drop=True)\n",
    "    fold_pred_cols = [c for c in yp_fold.columns if \"oof0\" in c]\n",
    "    yp_fold_pred = yp_fold[[\"seg\", \"datetime\", \"target\"] + fold_pred_cols]\n",
    "    \n",
    "    print(f\"Val Range | {yp_fold['datetime'].min()} ~ {yp_fold['datetime'].max()}\")\n",
    "    \n",
    "    # Perform dynamic model switching\n",
    "    oof_adj_col = f\"oof_adj\"\n",
    "    yp_fold_pred[\"date\"] = yp_fold_pred[\"datetime\"].dt.date\n",
    "    yp_fold_pred[oof_adj_col] = np.zeros((len(yp_fold_pred), ))\n",
    "    for i, (dt, gp) in tqdm(enumerate(yp_fold_pred.groupby(\"date\")), total=yp_fold_pred[\"date\"].nunique()):\n",
    "        if i < 2: continue\n",
    "\n",
    "        dt_lag2d = dt - timedelta(days=2)\n",
    "        gp_lag2d = yp_fold_pred[yp_fold_pred[\"date\"] == dt_lag2d]\n",
    "        \n",
    "        for c in fold_pred_cols:\n",
    "            gp_lag2d[f\"mae_{c}\"] = abs(gp_lag2d[\"target\"] - gp_lag2d[c])\n",
    "        best_model_types = gp_lag2d.groupby(\"seg\")[fold_pred_cols].mean().idxmin(axis=1)\n",
    "\n",
    "        for c in fold_pred_cols:\n",
    "            slc_seg_list = list(best_model_types[best_model_types == c].index)\n",
    "            mask = yp_fold_pred[\"seg\"].isin(slc_seg_list) & (yp_fold_pred[\"date\"] == dt)\n",
    "            yp_fold_pred.loc[mask, oof_adj_col] = yp_fold_pred.loc[mask, c]\n",
    "            \n",
    "    dt_start = yp_fold_pred[\"date\"].min() + timedelta(days=2)\n",
    "    yp_fold_pred = yp_fold_pred[yp_fold_pred[\"date\"] >= dt_start].reset_index(drop=True)\n",
    "    \n",
    "    for c in fold_pred_cols:\n",
    "        print(f\"    >> {c:<10}: {mae(yp_fold_pred['target'], yp_fold_pred[c]):.4f}\")\n",
    "    print(f\"=> Adjusted OOF: {mae(yp_fold_pred['target'], yp_fold_pred[oof_adj_col]):.4f}\")"
   ]
  },
  {
   "cell_type": "code",
   "execution_count": null,
   "id": "57dd6b61-efd6-44a3-b0a7-9c6c9f513f29",
   "metadata": {},
   "outputs": [],
   "source": []
  },
  {
   "cell_type": "code",
   "execution_count": null,
   "id": "ff47bca6-8628-45ae-9993-e8bb36106215",
   "metadata": {},
   "outputs": [],
   "source": []
  },
  {
   "cell_type": "code",
   "execution_count": null,
   "id": "5c7ac007-8e7c-4252-a4d4-6e3b389b98fc",
   "metadata": {},
   "outputs": [],
   "source": []
  },
  {
   "cell_type": "code",
   "execution_count": null,
   "id": "01d516b8-8dd2-47e7-a59c-14950e192011",
   "metadata": {},
   "outputs": [],
   "source": []
  },
  {
   "cell_type": "code",
   "execution_count": null,
   "id": "1595a40c-1ef9-4982-87cb-d0068e262a5f",
   "metadata": {
    "tags": []
   },
   "outputs": [],
   "source": [
    "ycc_val = (\n",
    "    ycc\n",
    "    .drop([\"is_business\", \"is_consumption\", \"target_div_cap_lag2d\"], axis=1)\n",
    "    .rename({f\"oof0_fold{i}_div\": f\"oof0_fold{i}_dcap\" for i in range(3)}, axis=1)\n",
    "    .rename({f\"oof1_fold{i}\": f\"oof1_fold{i}_deic\" for i in range(3)}, axis=1)\n",
    "    .drop(ycc[(ycc[EVAL_COLS] == 0).all(axis=1)].index, axis=0)\n",
    "    .reset_index(drop=True)\n",
    ")\n",
    "ycc_val[\"seg\"] = ycc_val[\"county\"].astype(str).str.cat(ycc_val[\"product_type\"].astype(str), sep=\"_\")\n",
    "ycc_val.head(2)"
   ]
  },
  {
   "cell_type": "code",
   "execution_count": null,
   "id": "ad70ab81-0bcb-4fbf-80a7-617a27aee485",
   "metadata": {
    "tags": []
   },
   "outputs": [],
   "source": [
    "for fold in range(3):\n",
    "    print(f\"## Fold {fold} ##\")\n",
    "\n",
    "    ycc_fold = ycc_val[ycc_val[f\"fold{fold}_eval\"] == 1].reset_index(drop=True)\n",
    "    fold_pred_cols = [c for c in ycc_fold.columns if \"oof\" in c and f\"fold{fold}\" in c]\n",
    "    ycc_fold_pred = ycc_fold[[\"seg\", \"datetime\", \"target\"] + fold_pred_cols]\n",
    "    \n",
    "    print(f\"Val Range | {ycc_fold['datetime'].min()} ~ {ycc_fold['datetime'].max()}\")\n",
    "    \n",
    "    # Perform dynamic model switching\n",
    "    oof_adj_col = f\"oof_fold{fold}_adj\"\n",
    "    ycc_fold_pred[\"date\"] = ycc_fold_pred[\"datetime\"].dt.date\n",
    "    ycc_fold_pred[oof_adj_col] = np.zeros((len(ycc_fold_pred), ))\n",
    "    for i, (dt, gp) in tqdm(enumerate(ycc_fold_pred.groupby(\"date\")), total=ycc_fold_pred[\"date\"].nunique()):\n",
    "        if i < 2: continue\n",
    "\n",
    "        dt_lag2d = dt - timedelta(days=2)\n",
    "        gp_lag2d = ycc_fold_pred[ycc_fold_pred[\"date\"] == dt_lag2d]\n",
    "        for c in fold_pred_cols:\n",
    "            gp_lag2d[f\"mae_{c}\"] = abs(gp_lag2d[\"target\"] - gp_lag2d[c])\n",
    "        best_model_types = gp_lag2d.groupby(\"seg\")[fold_pred_cols].mean().idxmin(axis=1)\n",
    "\n",
    "        for c in fold_pred_cols:\n",
    "            slc_seg_list = list(best_model_types[best_model_types == c].index)\n",
    "            mask = ycc_fold_pred[\"seg\"].isin(slc_seg_list) & (ycc_fold_pred[\"date\"] == dt)\n",
    "            ycc_fold_pred.loc[mask, oof_adj_col] = ycc_fold_pred.loc[mask, c]\n",
    "            \n",
    "    dt_start = ycc_fold_pred[\"date\"].min() + timedelta(days=2)\n",
    "    ycc_fold_pred = ycc_fold_pred[ycc_fold_pred[\"date\"] >= dt_start].reset_index(drop=True)\n",
    "    \n",
    "    for c in fold_pred_cols:\n",
    "        print(f\"    >> {c:<16}: {mae(ycc_fold_pred['target'], ycc_fold_pred[c]):.4f}\")\n",
    "    print(f\"=> Adjusted OOF: {mae(ycc_fold_pred['target'], ycc_fold_pred[oof_adj_col]):.4f}\")"
   ]
  },
  {
   "cell_type": "code",
   "execution_count": null,
   "id": "7c337dc0-047f-41be-905b-a1c124d3811d",
   "metadata": {},
   "outputs": [],
   "source": []
  },
  {
   "cell_type": "code",
   "execution_count": null,
   "id": "9765c329-084e-4dd7-a7db-48d66c8ad183",
   "metadata": {},
   "outputs": [],
   "source": []
  },
  {
   "cell_type": "code",
   "execution_count": null,
   "id": "dcf6c03e-c980-4d4c-bd7c-f875ed4f8d6f",
   "metadata": {},
   "outputs": [],
   "source": []
  },
  {
   "cell_type": "code",
   "execution_count": null,
   "id": "1f7a3f95-e905-4217-a7a2-4d816a90468b",
   "metadata": {},
   "outputs": [],
   "source": []
  },
  {
   "cell_type": "code",
   "execution_count": null,
   "id": "11a6dd80-f8b4-46dc-89c0-a211399d312f",
   "metadata": {},
   "outputs": [],
   "source": []
  },
  {
   "cell_type": "markdown",
   "id": "62c73bbe-0aaa-4129-bafa-6822ebd9a5ac",
   "metadata": {},
   "source": [
    "## Final CV Score Derivation"
   ]
  },
  {
   "cell_type": "code",
   "execution_count": 25,
   "id": "52cb72fa-85a3-4fea-a4f5-63e5d030f909",
   "metadata": {
    "tags": []
   },
   "outputs": [],
   "source": [
    "yp.shape, ycc.shape, ycb.shape"
   ]
  },
  {
   "cell_type": "code",
   "execution_count": 28,
   "id": "cbd5bdb2-fd54-42ca-abde-edf7f5a42dbb",
   "metadata": {
    "tags": []
   },
   "outputs": [],
   "source": [
    "y = pd.concat([yp, ycc, ycb], ignore_index=True, join=\"outer\")"
   ]
  },
  {
   "cell_type": "code",
   "execution_count": 31,
   "id": "8aa6697d-4dd0-4b86-8793-b35251388bae",
   "metadata": {
    "tags": []
   },
   "outputs": [],
   "source": [
    "y.head(1)"
   ]
  },
  {
   "cell_type": "code",
   "execution_count": 36,
   "id": "26f9652b-02af-4fb6-8572-2c56999933c1",
   "metadata": {
    "tags": []
   },
   "outputs": [],
   "source": [
    "y[\"sub1\"] = 0\n",
    "\n",
    "p_mask = y[\"is_consumption\"] == 0\n",
    "y.loc[p_mask, \"sub1\"] = y.loc[p_mask, \"oof0_dcap_xl\"]\n",
    "cc_mask = (y[\"is_consumption\"] == 1) & (y[\"is_business\"] == 0)\n",
    "y.loc[cc_mask, \"sub1\"] = y.loc[cc_mask, \"oof0_div_xl\"]\n",
    "cb_mask = (y[\"is_consumption\"] == 1) & (y[\"is_business\"] == 1)\n",
    "y.loc[cb_mask, \"sub1\"] = y.loc[cb_mask, \"oof0_ens_xl\"]\n",
    "y[\"sub1\"].isna().sum()"
   ]
  },
  {
   "cell_type": "code",
   "execution_count": 39,
   "id": "1efe3d7a-0bc8-4200-a445-f82dc5ea64c6",
   "metadata": {
    "tags": []
   },
   "outputs": [],
   "source": [
    "prfs = []\n",
    "for fold in range(3):\n",
    "    y_fold = y[y[f\"fold{fold}_eval\"] == 1]\n",
    "    prfs.append(mae(y_fold[\"target\"], y_fold[\"sub1\"]))"
   ]
  },
  {
   "cell_type": "code",
   "execution_count": 42,
   "id": "533bbea4-e41a-43ff-af45-c883e11f0921",
   "metadata": {
    "tags": []
   },
   "outputs": [],
   "source": [
    "np.mean(prfs),  np.std(prfs)"
   ]
  },
  {
   "cell_type": "code",
   "execution_count": null,
   "id": "6e76ef8f-d591-4340-9dac-bc4deadda0a3",
   "metadata": {},
   "outputs": [],
   "source": []
  }
 ],
 "metadata": {
  "kernelspec": {
   "display_name": "kagg",
   "language": "python",
   "name": "kagg"
  },
  "language_info": {
   "codemirror_mode": {
    "name": "ipython",
    "version": 3
   },
   "file_extension": ".py",
   "mimetype": "text/x-python",
   "name": "python",
   "nbconvert_exporter": "python",
   "pygments_lexer": "ipython3",
   "version": "3.10.11"
  }
 },
 "nbformat": 4,
 "nbformat_minor": 5
}
